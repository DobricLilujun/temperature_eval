{
 "cells": [
  {
   "cell_type": "code",
   "execution_count": null,
   "metadata": {},
   "outputs": [],
   "source": [
    "from awq import AutoAWQForCausalLM\n",
    "from transformers import AutoTokenizer\n",
    "\n",
    "model_path = \"lmsys/vicuna-7b-v1.5\"  # 原始模型路径\n",
    "quant_path = \"vicuna-7b-v1.5-awq\"  # 保存量化后模型的路径\n",
    "\n",
    "quant_config = {\"zero_point\": True, \"q_group_size\": 128, \"w_bit\": 4, \"version\": \"GEMM\"}\n",
    "\n",
    "# 加载原始模型\n",
    "model = AutoAWQForCausalLM.from_pretrained(model_path, low_cpu_mem_usage=True)\n",
    "tokenizer = AutoTokenizer.from_pretrained(model_path, trust_remote_code=True)\n",
    "\n",
    "# 应用量化配置\n",
    "model.quantize(tokenizer, quant_config=quant_config)\n",
    "\n",
    "# 保存量化后的模型\n",
    "model.save_quantized(quant_path)\n",
    "tokenizer.save_pretrained(quant_path)\n",
    "\n",
    "print(f\"Model is quantized and saved at '{quant_path}'\")"
   ]
  }
 ],
 "metadata": {
  "kernelspec": {
   "display_name": "causalLLM",
   "language": "python",
   "name": "python3"
  },
  "language_info": {
   "name": "python",
   "version": "3.10.15"
  }
 },
 "nbformat": 4,
 "nbformat_minor": 2
}
