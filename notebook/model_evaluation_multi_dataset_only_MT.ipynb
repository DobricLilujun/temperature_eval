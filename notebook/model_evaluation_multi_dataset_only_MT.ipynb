{
 "cells": [
  {
   "cell_type": "code",
   "execution_count": 1,
   "id": "853e6772",
   "metadata": {},
   "outputs": [
    {
     "name": "stdout",
     "output_type": "stream",
     "text": [
      "Found 81 .jsonl files in /home/snt/projects_lujun/temperature_eval_github/temperature_eval/data/Additional_Results/new_topkp_sampling\n",
      "\n",
      "Processing: /home/snt/projects_lujun/temperature_eval_github/temperature_eval/data/Additional_Results/new_topkp_sampling/vllm_exp_dataset_csv_Llama-3.2-1B-Instruct-awq__20250407_194310_r_2.0_p_0.8_k_2.jsonl\n",
      "/home/snt/projects_lujun/temperature_eval_github/temperature_eval/data/Additional_Results/new_topkp_sampling/vllm_exp_dataset_csv_Llama-3.2-1B-Instruct-awq__20250407_194310_r_2.0_p_0.8_k_2.jsonl\n",
      "[WARNING] Skipping bad line in /home/snt/projects_lujun/temperature_eval_github/temperature_eval/data/Additional_Results/new_topkp_sampling/vllm_exp_dataset_csv_Llama-3.2-1B-Instruct-awq__20250407_194310_r_2.0_p_0.8_k_2.jsonl: Unterminated string starting at: line 1 column 2675 (char 2674)\n"
     ]
    },
    {
     "name": "stderr",
     "output_type": "stream",
     "text": [
      "100%|██████████| 2100/2100 [00:00<00:00, 4931.38it/s]\n",
      "/tmp/ipykernel_3440479/1085042317.py:95: SettingWithCopyWarning: \n",
      "A value is trying to be set on a copy of a slice from a DataFrame.\n",
      "Try using .loc[row_indexer,col_indexer] = value instead\n",
      "\n",
      "See the caveats in the documentation: https://pandas.pydata.org/pandas-docs/stable/user_guide/indexing.html#returning-a-view-versus-a-copy\n",
      "  MT_df[\"MT_accuracy\"] = MT_df.progress_apply(compute_bleu_score, axis=1)\n"
     ]
    },
    {
     "name": "stdout",
     "output_type": "stream",
     "text": [
      "  Saved to: /home/snt/projects_lujun/temperature_eval_github/temperature_eval/data/Additional_Results/new_topkp_sampling/evaluated_Llama-3.3-70B-Instruct_vllm_exp_dataset_csv_Llama-3.2-1B-Instruct-awq__20250407_194310_r_2.0_p_0.8_k_2_MT.jsonl\n",
      "\n",
      "Processing: /home/snt/projects_lujun/temperature_eval_github/temperature_eval/data/Additional_Results/new_topkp_sampling/vllm_exp_dataset_csv_Mixtral-8x7B-Instruct-v0.1-awq__20250412_030049_r_0.0_p_1.0_k_10.jsonl\n",
      "/home/snt/projects_lujun/temperature_eval_github/temperature_eval/data/Additional_Results/new_topkp_sampling/vllm_exp_dataset_csv_Mixtral-8x7B-Instruct-v0.1-awq__20250412_030049_r_0.0_p_1.0_k_10.jsonl\n",
      "[WARNING] Skipping bad line in /home/snt/projects_lujun/temperature_eval_github/temperature_eval/data/Additional_Results/new_topkp_sampling/vllm_exp_dataset_csv_Mixtral-8x7B-Instruct-v0.1-awq__20250412_030049_r_0.0_p_1.0_k_10.jsonl: Unterminated string starting at: line 1 column 10 (char 9)\n"
     ]
    },
    {
     "name": "stderr",
     "output_type": "stream",
     "text": [
      "100%|██████████| 1800/1800 [00:00<00:00, 2439.15it/s]\n",
      "/tmp/ipykernel_3440479/1085042317.py:95: SettingWithCopyWarning: \n",
      "A value is trying to be set on a copy of a slice from a DataFrame.\n",
      "Try using .loc[row_indexer,col_indexer] = value instead\n",
      "\n",
      "See the caveats in the documentation: https://pandas.pydata.org/pandas-docs/stable/user_guide/indexing.html#returning-a-view-versus-a-copy\n",
      "  MT_df[\"MT_accuracy\"] = MT_df.progress_apply(compute_bleu_score, axis=1)\n"
     ]
    },
    {
     "name": "stdout",
     "output_type": "stream",
     "text": [
      "  Saved to: /home/snt/projects_lujun/temperature_eval_github/temperature_eval/data/Additional_Results/new_topkp_sampling/evaluated_Llama-3.3-70B-Instruct_vllm_exp_dataset_csv_Mixtral-8x7B-Instruct-v0.1-awq__20250412_030049_r_0.0_p_1.0_k_10_MT.jsonl\n",
      "\n",
      "Processing: /home/snt/projects_lujun/temperature_eval_github/temperature_eval/data/Additional_Results/new_topkp_sampling/vllm_exp_dataset_csv_Llama-3.2-1B-Instruct-awq__20250407_202955_r_0.0_p_0.9_k_2.jsonl\n",
      "/home/snt/projects_lujun/temperature_eval_github/temperature_eval/data/Additional_Results/new_topkp_sampling/vllm_exp_dataset_csv_Llama-3.2-1B-Instruct-awq__20250407_202955_r_0.0_p_0.9_k_2.jsonl\n",
      "[WARNING] Skipping bad line in /home/snt/projects_lujun/temperature_eval_github/temperature_eval/data/Additional_Results/new_topkp_sampling/vllm_exp_dataset_csv_Llama-3.2-1B-Instruct-awq__20250407_202955_r_0.0_p_0.9_k_2.jsonl: Unterminated string starting at: line 1 column 10 (char 9)\n"
     ]
    },
    {
     "name": "stderr",
     "output_type": "stream",
     "text": [
      "100%|██████████| 2100/2100 [00:00<00:00, 4405.27it/s]\n",
      "/tmp/ipykernel_3440479/1085042317.py:95: SettingWithCopyWarning: \n",
      "A value is trying to be set on a copy of a slice from a DataFrame.\n",
      "Try using .loc[row_indexer,col_indexer] = value instead\n",
      "\n",
      "See the caveats in the documentation: https://pandas.pydata.org/pandas-docs/stable/user_guide/indexing.html#returning-a-view-versus-a-copy\n",
      "  MT_df[\"MT_accuracy\"] = MT_df.progress_apply(compute_bleu_score, axis=1)\n"
     ]
    },
    {
     "name": "stdout",
     "output_type": "stream",
     "text": [
      "  Saved to: /home/snt/projects_lujun/temperature_eval_github/temperature_eval/data/Additional_Results/new_topkp_sampling/evaluated_Llama-3.3-70B-Instruct_vllm_exp_dataset_csv_Llama-3.2-1B-Instruct-awq__20250407_202955_r_0.0_p_0.9_k_2_MT.jsonl\n",
      "\n",
      "Processing: /home/snt/projects_lujun/temperature_eval_github/temperature_eval/data/Additional_Results/new_topkp_sampling/vllm_exp_dataset_csv_Llama-3.1-8B-Instruct-awq__20250408_210732_r_1.0_p_0.9_k_5.jsonl\n",
      "/home/snt/projects_lujun/temperature_eval_github/temperature_eval/data/Additional_Results/new_topkp_sampling/vllm_exp_dataset_csv_Llama-3.1-8B-Instruct-awq__20250408_210732_r_1.0_p_0.9_k_5.jsonl\n",
      "[WARNING] Skipping bad line in /home/snt/projects_lujun/temperature_eval_github/temperature_eval/data/Additional_Results/new_topkp_sampling/vllm_exp_dataset_csv_Llama-3.1-8B-Instruct-awq__20250408_210732_r_1.0_p_0.9_k_5.jsonl: Unterminated string starting at: line 1 column 10 (char 9)\n"
     ]
    },
    {
     "name": "stderr",
     "output_type": "stream",
     "text": [
      "100%|██████████| 1800/1800 [00:00<00:00, 3557.11it/s]\n",
      "/tmp/ipykernel_3440479/1085042317.py:95: SettingWithCopyWarning: \n",
      "A value is trying to be set on a copy of a slice from a DataFrame.\n",
      "Try using .loc[row_indexer,col_indexer] = value instead\n",
      "\n",
      "See the caveats in the documentation: https://pandas.pydata.org/pandas-docs/stable/user_guide/indexing.html#returning-a-view-versus-a-copy\n",
      "  MT_df[\"MT_accuracy\"] = MT_df.progress_apply(compute_bleu_score, axis=1)\n"
     ]
    },
    {
     "name": "stdout",
     "output_type": "stream",
     "text": [
      "  Saved to: /home/snt/projects_lujun/temperature_eval_github/temperature_eval/data/Additional_Results/new_topkp_sampling/evaluated_Llama-3.3-70B-Instruct_vllm_exp_dataset_csv_Llama-3.1-8B-Instruct-awq__20250408_210732_r_1.0_p_0.9_k_5_MT.jsonl\n",
      "\n",
      "Processing: /home/snt/projects_lujun/temperature_eval_github/temperature_eval/data/Additional_Results/new_topkp_sampling/vllm_exp_dataset_csv_Mixtral-8x7B-Instruct-v0.1-awq__20250413_075953_r_1.0_p_1.0_k_5.jsonl\n",
      "/home/snt/projects_lujun/temperature_eval_github/temperature_eval/data/Additional_Results/new_topkp_sampling/vllm_exp_dataset_csv_Mixtral-8x7B-Instruct-v0.1-awq__20250413_075953_r_1.0_p_1.0_k_5.jsonl\n",
      "[WARNING] Skipping bad line in /home/snt/projects_lujun/temperature_eval_github/temperature_eval/data/Additional_Results/new_topkp_sampling/vllm_exp_dataset_csv_Mixtral-8x7B-Instruct-v0.1-awq__20250413_075953_r_1.0_p_1.0_k_5.jsonl: Unterminated string starting at: line 1 column 10 (char 9)\n"
     ]
    },
    {
     "name": "stderr",
     "output_type": "stream",
     "text": [
      "100%|██████████| 1800/1800 [00:00<00:00, 2555.82it/s]\n",
      "/tmp/ipykernel_3440479/1085042317.py:95: SettingWithCopyWarning: \n",
      "A value is trying to be set on a copy of a slice from a DataFrame.\n",
      "Try using .loc[row_indexer,col_indexer] = value instead\n",
      "\n",
      "See the caveats in the documentation: https://pandas.pydata.org/pandas-docs/stable/user_guide/indexing.html#returning-a-view-versus-a-copy\n",
      "  MT_df[\"MT_accuracy\"] = MT_df.progress_apply(compute_bleu_score, axis=1)\n"
     ]
    },
    {
     "name": "stdout",
     "output_type": "stream",
     "text": [
      "  Saved to: /home/snt/projects_lujun/temperature_eval_github/temperature_eval/data/Additional_Results/new_topkp_sampling/evaluated_Llama-3.3-70B-Instruct_vllm_exp_dataset_csv_Mixtral-8x7B-Instruct-v0.1-awq__20250413_075953_r_1.0_p_1.0_k_5_MT.jsonl\n",
      "\n",
      "Processing: /home/snt/projects_lujun/temperature_eval_github/temperature_eval/data/Additional_Results/new_topkp_sampling/vllm_exp_dataset_csv_Llama-3.1-8B-Instruct-awq__20250410_001626_r_2.0_p_1.0_k_10.jsonl\n",
      "/home/snt/projects_lujun/temperature_eval_github/temperature_eval/data/Additional_Results/new_topkp_sampling/vllm_exp_dataset_csv_Llama-3.1-8B-Instruct-awq__20250410_001626_r_2.0_p_1.0_k_10.jsonl\n",
      "[WARNING] Skipping bad line in /home/snt/projects_lujun/temperature_eval_github/temperature_eval/data/Additional_Results/new_topkp_sampling/vllm_exp_dataset_csv_Llama-3.1-8B-Instruct-awq__20250410_001626_r_2.0_p_1.0_k_10.jsonl: Unterminated string starting at: line 1 column 1990 (char 1989)\n"
     ]
    },
    {
     "name": "stderr",
     "output_type": "stream",
     "text": [
      "100%|██████████| 1800/1800 [00:00<00:00, 3491.15it/s]\n",
      "/tmp/ipykernel_3440479/1085042317.py:95: SettingWithCopyWarning: \n",
      "A value is trying to be set on a copy of a slice from a DataFrame.\n",
      "Try using .loc[row_indexer,col_indexer] = value instead\n",
      "\n",
      "See the caveats in the documentation: https://pandas.pydata.org/pandas-docs/stable/user_guide/indexing.html#returning-a-view-versus-a-copy\n",
      "  MT_df[\"MT_accuracy\"] = MT_df.progress_apply(compute_bleu_score, axis=1)\n"
     ]
    },
    {
     "name": "stdout",
     "output_type": "stream",
     "text": [
      "  Saved to: /home/snt/projects_lujun/temperature_eval_github/temperature_eval/data/Additional_Results/new_topkp_sampling/evaluated_Llama-3.3-70B-Instruct_vllm_exp_dataset_csv_Llama-3.1-8B-Instruct-awq__20250410_001626_r_2.0_p_1.0_k_10_MT.jsonl\n",
      "\n",
      "Processing: /home/snt/projects_lujun/temperature_eval_github/temperature_eval/data/Additional_Results/new_topkp_sampling/vllm_exp_dataset_csv_Llama-3.1-8B-Instruct-awq__20250409_195855_r_0.0_p_1.0_k_10.jsonl\n",
      "/home/snt/projects_lujun/temperature_eval_github/temperature_eval/data/Additional_Results/new_topkp_sampling/vllm_exp_dataset_csv_Llama-3.1-8B-Instruct-awq__20250409_195855_r_0.0_p_1.0_k_10.jsonl\n",
      "[WARNING] Skipping bad line in /home/snt/projects_lujun/temperature_eval_github/temperature_eval/data/Additional_Results/new_topkp_sampling/vllm_exp_dataset_csv_Llama-3.1-8B-Instruct-awq__20250409_195855_r_0.0_p_1.0_k_10.jsonl: Unterminated string starting at: line 1 column 449 (char 448)\n"
     ]
    },
    {
     "name": "stderr",
     "output_type": "stream",
     "text": [
      "100%|██████████| 1800/1800 [00:00<00:00, 3767.22it/s]\n",
      "/tmp/ipykernel_3440479/1085042317.py:95: SettingWithCopyWarning: \n",
      "A value is trying to be set on a copy of a slice from a DataFrame.\n",
      "Try using .loc[row_indexer,col_indexer] = value instead\n",
      "\n",
      "See the caveats in the documentation: https://pandas.pydata.org/pandas-docs/stable/user_guide/indexing.html#returning-a-view-versus-a-copy\n",
      "  MT_df[\"MT_accuracy\"] = MT_df.progress_apply(compute_bleu_score, axis=1)\n"
     ]
    },
    {
     "name": "stdout",
     "output_type": "stream",
     "text": [
      "  Saved to: /home/snt/projects_lujun/temperature_eval_github/temperature_eval/data/Additional_Results/new_topkp_sampling/evaluated_Llama-3.3-70B-Instruct_vllm_exp_dataset_csv_Llama-3.1-8B-Instruct-awq__20250409_195855_r_0.0_p_1.0_k_10_MT.jsonl\n",
      "\n",
      "Processing: /home/snt/projects_lujun/temperature_eval_github/temperature_eval/data/Additional_Results/new_topkp_sampling/vllm_exp_dataset_csv_Llama-3.2-1B-Instruct-awq__20250408_071520_r_0.0_p_1.0_k_5.jsonl\n",
      "/home/snt/projects_lujun/temperature_eval_github/temperature_eval/data/Additional_Results/new_topkp_sampling/vllm_exp_dataset_csv_Llama-3.2-1B-Instruct-awq__20250408_071520_r_0.0_p_1.0_k_5.jsonl\n",
      "[WARNING] Skipping bad line in /home/snt/projects_lujun/temperature_eval_github/temperature_eval/data/Additional_Results/new_topkp_sampling/vllm_exp_dataset_csv_Llama-3.2-1B-Instruct-awq__20250408_071520_r_0.0_p_1.0_k_5.jsonl: Unterminated string starting at: line 1 column 5903 (char 5902)\n"
     ]
    },
    {
     "name": "stderr",
     "output_type": "stream",
     "text": [
      "100%|██████████| 1800/1800 [00:00<00:00, 4609.23it/s]\n",
      "/tmp/ipykernel_3440479/1085042317.py:95: SettingWithCopyWarning: \n",
      "A value is trying to be set on a copy of a slice from a DataFrame.\n",
      "Try using .loc[row_indexer,col_indexer] = value instead\n",
      "\n",
      "See the caveats in the documentation: https://pandas.pydata.org/pandas-docs/stable/user_guide/indexing.html#returning-a-view-versus-a-copy\n",
      "  MT_df[\"MT_accuracy\"] = MT_df.progress_apply(compute_bleu_score, axis=1)\n"
     ]
    },
    {
     "name": "stdout",
     "output_type": "stream",
     "text": [
      "  Saved to: /home/snt/projects_lujun/temperature_eval_github/temperature_eval/data/Additional_Results/new_topkp_sampling/evaluated_Llama-3.3-70B-Instruct_vllm_exp_dataset_csv_Llama-3.2-1B-Instruct-awq__20250408_071520_r_0.0_p_1.0_k_5_MT.jsonl\n",
      "\n",
      "Processing: /home/snt/projects_lujun/temperature_eval_github/temperature_eval/data/Additional_Results/new_topkp_sampling/vllm_exp_dataset_csv_Llama-3.2-1B-Instruct-awq__20250408_165718_r_2.0_p_1.0_k_10.jsonl\n",
      "/home/snt/projects_lujun/temperature_eval_github/temperature_eval/data/Additional_Results/new_topkp_sampling/vllm_exp_dataset_csv_Llama-3.2-1B-Instruct-awq__20250408_165718_r_2.0_p_1.0_k_10.jsonl\n"
     ]
    },
    {
     "name": "stderr",
     "output_type": "stream",
     "text": [
      "100%|██████████| 2100/2100 [00:00<00:00, 5129.58it/s]\n",
      "/tmp/ipykernel_3440479/1085042317.py:95: SettingWithCopyWarning: \n",
      "A value is trying to be set on a copy of a slice from a DataFrame.\n",
      "Try using .loc[row_indexer,col_indexer] = value instead\n",
      "\n",
      "See the caveats in the documentation: https://pandas.pydata.org/pandas-docs/stable/user_guide/indexing.html#returning-a-view-versus-a-copy\n",
      "  MT_df[\"MT_accuracy\"] = MT_df.progress_apply(compute_bleu_score, axis=1)\n"
     ]
    },
    {
     "name": "stdout",
     "output_type": "stream",
     "text": [
      "  Saved to: /home/snt/projects_lujun/temperature_eval_github/temperature_eval/data/Additional_Results/new_topkp_sampling/evaluated_Llama-3.3-70B-Instruct_vllm_exp_dataset_csv_Llama-3.2-1B-Instruct-awq__20250408_165718_r_2.0_p_1.0_k_10_MT.jsonl\n",
      "\n",
      "Processing: /home/snt/projects_lujun/temperature_eval_github/temperature_eval/data/Additional_Results/new_topkp_sampling/vllm_exp_dataset_csv_Mixtral-8x7B-Instruct-v0.1-awq__20250409_090933_r_0.0_p_1.0_k_2.jsonl\n",
      "/home/snt/projects_lujun/temperature_eval_github/temperature_eval/data/Additional_Results/new_topkp_sampling/vllm_exp_dataset_csv_Mixtral-8x7B-Instruct-v0.1-awq__20250409_090933_r_0.0_p_1.0_k_2.jsonl\n",
      "[WARNING] Skipping bad line in /home/snt/projects_lujun/temperature_eval_github/temperature_eval/data/Additional_Results/new_topkp_sampling/vllm_exp_dataset_csv_Mixtral-8x7B-Instruct-v0.1-awq__20250409_090933_r_0.0_p_1.0_k_2.jsonl: Unterminated string starting at: line 1 column 3757 (char 3756)\n"
     ]
    },
    {
     "name": "stderr",
     "output_type": "stream",
     "text": [
      "100%|██████████| 2054/2054 [00:00<00:00, 2746.79it/s]\n",
      "/tmp/ipykernel_3440479/1085042317.py:95: SettingWithCopyWarning: \n",
      "A value is trying to be set on a copy of a slice from a DataFrame.\n",
      "Try using .loc[row_indexer,col_indexer] = value instead\n",
      "\n",
      "See the caveats in the documentation: https://pandas.pydata.org/pandas-docs/stable/user_guide/indexing.html#returning-a-view-versus-a-copy\n",
      "  MT_df[\"MT_accuracy\"] = MT_df.progress_apply(compute_bleu_score, axis=1)\n"
     ]
    },
    {
     "name": "stdout",
     "output_type": "stream",
     "text": [
      "  Saved to: /home/snt/projects_lujun/temperature_eval_github/temperature_eval/data/Additional_Results/new_topkp_sampling/evaluated_Llama-3.3-70B-Instruct_vllm_exp_dataset_csv_Mixtral-8x7B-Instruct-v0.1-awq__20250409_090933_r_0.0_p_1.0_k_2_MT.jsonl\n",
      "\n",
      "Processing: /home/snt/projects_lujun/temperature_eval_github/temperature_eval/data/Additional_Results/new_topkp_sampling/vllm_exp_dataset_csv_Llama-3.2-1B-Instruct-awq__20250408_160828_r_1.0_p_1.0_k_10.jsonl\n",
      "/home/snt/projects_lujun/temperature_eval_github/temperature_eval/data/Additional_Results/new_topkp_sampling/vllm_exp_dataset_csv_Llama-3.2-1B-Instruct-awq__20250408_160828_r_1.0_p_1.0_k_10.jsonl\n",
      "[WARNING] Skipping bad line in /home/snt/projects_lujun/temperature_eval_github/temperature_eval/data/Additional_Results/new_topkp_sampling/vllm_exp_dataset_csv_Llama-3.2-1B-Instruct-awq__20250408_160828_r_1.0_p_1.0_k_10.jsonl: Unterminated string starting at: line 1 column 10 (char 9)\n"
     ]
    },
    {
     "name": "stderr",
     "output_type": "stream",
     "text": [
      "100%|██████████| 2100/2100 [00:00<00:00, 5288.89it/s]\n",
      "/tmp/ipykernel_3440479/1085042317.py:95: SettingWithCopyWarning: \n",
      "A value is trying to be set on a copy of a slice from a DataFrame.\n",
      "Try using .loc[row_indexer,col_indexer] = value instead\n",
      "\n",
      "See the caveats in the documentation: https://pandas.pydata.org/pandas-docs/stable/user_guide/indexing.html#returning-a-view-versus-a-copy\n",
      "  MT_df[\"MT_accuracy\"] = MT_df.progress_apply(compute_bleu_score, axis=1)\n"
     ]
    },
    {
     "name": "stdout",
     "output_type": "stream",
     "text": [
      "  Saved to: /home/snt/projects_lujun/temperature_eval_github/temperature_eval/data/Additional_Results/new_topkp_sampling/evaluated_Llama-3.3-70B-Instruct_vllm_exp_dataset_csv_Llama-3.2-1B-Instruct-awq__20250408_160828_r_1.0_p_1.0_k_10_MT.jsonl\n",
      "\n",
      "Processing: /home/snt/projects_lujun/temperature_eval_github/temperature_eval/data/Additional_Results/new_topkp_sampling/vllm_exp_dataset_csv_Llama-3.2-1B-Instruct-awq__20250408_015115_r_0.0_p_0.8_k_5.jsonl\n",
      "/home/snt/projects_lujun/temperature_eval_github/temperature_eval/data/Additional_Results/new_topkp_sampling/vllm_exp_dataset_csv_Llama-3.2-1B-Instruct-awq__20250408_015115_r_0.0_p_0.8_k_5.jsonl\n",
      "[WARNING] Skipping bad line in /home/snt/projects_lujun/temperature_eval_github/temperature_eval/data/Additional_Results/new_topkp_sampling/vllm_exp_dataset_csv_Llama-3.2-1B-Instruct-awq__20250408_015115_r_0.0_p_0.8_k_5.jsonl: Unterminated string starting at: line 1 column 10 (char 9)\n"
     ]
    },
    {
     "name": "stderr",
     "output_type": "stream",
     "text": [
      "100%|██████████| 1800/1800 [00:00<00:00, 4347.41it/s]\n",
      "/tmp/ipykernel_3440479/1085042317.py:95: SettingWithCopyWarning: \n",
      "A value is trying to be set on a copy of a slice from a DataFrame.\n",
      "Try using .loc[row_indexer,col_indexer] = value instead\n",
      "\n",
      "See the caveats in the documentation: https://pandas.pydata.org/pandas-docs/stable/user_guide/indexing.html#returning-a-view-versus-a-copy\n",
      "  MT_df[\"MT_accuracy\"] = MT_df.progress_apply(compute_bleu_score, axis=1)\n"
     ]
    },
    {
     "name": "stdout",
     "output_type": "stream",
     "text": [
      "  Saved to: /home/snt/projects_lujun/temperature_eval_github/temperature_eval/data/Additional_Results/new_topkp_sampling/evaluated_Llama-3.3-70B-Instruct_vllm_exp_dataset_csv_Llama-3.2-1B-Instruct-awq__20250408_015115_r_0.0_p_0.8_k_5_MT.jsonl\n",
      "\n",
      "Processing: /home/snt/projects_lujun/temperature_eval_github/temperature_eval/data/Additional_Results/new_topkp_sampling/vllm_exp_dataset_csv_Mixtral-8x7B-Instruct-v0.1-awq__20250410_035902_r_0.0_p_0.8_k_10.jsonl\n",
      "/home/snt/projects_lujun/temperature_eval_github/temperature_eval/data/Additional_Results/new_topkp_sampling/vllm_exp_dataset_csv_Mixtral-8x7B-Instruct-v0.1-awq__20250410_035902_r_0.0_p_0.8_k_10.jsonl\n",
      "[WARNING] Skipping bad line in /home/snt/projects_lujun/temperature_eval_github/temperature_eval/data/Additional_Results/new_topkp_sampling/vllm_exp_dataset_csv_Mixtral-8x7B-Instruct-v0.1-awq__20250410_035902_r_0.0_p_0.8_k_10.jsonl: Unterminated string starting at: line 1 column 10 (char 9)\n"
     ]
    },
    {
     "name": "stderr",
     "output_type": "stream",
     "text": [
      "100%|██████████| 1800/1800 [00:00<00:00, 2661.60it/s]\n",
      "/tmp/ipykernel_3440479/1085042317.py:95: SettingWithCopyWarning: \n",
      "A value is trying to be set on a copy of a slice from a DataFrame.\n",
      "Try using .loc[row_indexer,col_indexer] = value instead\n",
      "\n",
      "See the caveats in the documentation: https://pandas.pydata.org/pandas-docs/stable/user_guide/indexing.html#returning-a-view-versus-a-copy\n",
      "  MT_df[\"MT_accuracy\"] = MT_df.progress_apply(compute_bleu_score, axis=1)\n"
     ]
    },
    {
     "name": "stdout",
     "output_type": "stream",
     "text": [
      "  Saved to: /home/snt/projects_lujun/temperature_eval_github/temperature_eval/data/Additional_Results/new_topkp_sampling/evaluated_Llama-3.3-70B-Instruct_vllm_exp_dataset_csv_Mixtral-8x7B-Instruct-v0.1-awq__20250410_035902_r_0.0_p_0.8_k_10_MT.jsonl\n",
      "\n",
      "Processing: /home/snt/projects_lujun/temperature_eval_github/temperature_eval/data/Additional_Results/new_topkp_sampling/vllm_exp_dataset_csv_Llama-3.1-8B-Instruct-awq__20250408_123724_r_0.0_p_0.8_k_5.jsonl\n",
      "/home/snt/projects_lujun/temperature_eval_github/temperature_eval/data/Additional_Results/new_topkp_sampling/vllm_exp_dataset_csv_Llama-3.1-8B-Instruct-awq__20250408_123724_r_0.0_p_0.8_k_5.jsonl\n",
      "[WARNING] Skipping bad line in /home/snt/projects_lujun/temperature_eval_github/temperature_eval/data/Additional_Results/new_topkp_sampling/vllm_exp_dataset_csv_Llama-3.1-8B-Instruct-awq__20250408_123724_r_0.0_p_0.8_k_5.jsonl: Unterminated string starting at: line 1 column 10 (char 9)\n"
     ]
    },
    {
     "name": "stderr",
     "output_type": "stream",
     "text": [
      "100%|██████████| 2017/2017 [00:00<00:00, 3875.47it/s]\n",
      "/tmp/ipykernel_3440479/1085042317.py:95: SettingWithCopyWarning: \n",
      "A value is trying to be set on a copy of a slice from a DataFrame.\n",
      "Try using .loc[row_indexer,col_indexer] = value instead\n",
      "\n",
      "See the caveats in the documentation: https://pandas.pydata.org/pandas-docs/stable/user_guide/indexing.html#returning-a-view-versus-a-copy\n",
      "  MT_df[\"MT_accuracy\"] = MT_df.progress_apply(compute_bleu_score, axis=1)\n"
     ]
    },
    {
     "name": "stdout",
     "output_type": "stream",
     "text": [
      "  Saved to: /home/snt/projects_lujun/temperature_eval_github/temperature_eval/data/Additional_Results/new_topkp_sampling/evaluated_Llama-3.3-70B-Instruct_vllm_exp_dataset_csv_Llama-3.1-8B-Instruct-awq__20250408_123724_r_0.0_p_0.8_k_5_MT.jsonl\n",
      "\n",
      "Processing: /home/snt/projects_lujun/temperature_eval_github/temperature_eval/data/Additional_Results/new_topkp_sampling/vllm_exp_dataset_csv_Mixtral-8x7B-Instruct-v0.1-awq__20250412_030155_r_0.0_p_0.9_k_5.jsonl\n",
      "/home/snt/projects_lujun/temperature_eval_github/temperature_eval/data/Additional_Results/new_topkp_sampling/vllm_exp_dataset_csv_Mixtral-8x7B-Instruct-v0.1-awq__20250412_030155_r_0.0_p_0.9_k_5.jsonl\n",
      "[WARNING] Skipping bad line in /home/snt/projects_lujun/temperature_eval_github/temperature_eval/data/Additional_Results/new_topkp_sampling/vllm_exp_dataset_csv_Mixtral-8x7B-Instruct-v0.1-awq__20250412_030155_r_0.0_p_0.9_k_5.jsonl: Unterminated string starting at: line 1 column 10 (char 9)\n"
     ]
    },
    {
     "name": "stderr",
     "output_type": "stream",
     "text": [
      "100%|██████████| 1800/1800 [00:00<00:00, 2787.53it/s]\n",
      "/tmp/ipykernel_3440479/1085042317.py:95: SettingWithCopyWarning: \n",
      "A value is trying to be set on a copy of a slice from a DataFrame.\n",
      "Try using .loc[row_indexer,col_indexer] = value instead\n",
      "\n",
      "See the caveats in the documentation: https://pandas.pydata.org/pandas-docs/stable/user_guide/indexing.html#returning-a-view-versus-a-copy\n",
      "  MT_df[\"MT_accuracy\"] = MT_df.progress_apply(compute_bleu_score, axis=1)\n"
     ]
    },
    {
     "name": "stdout",
     "output_type": "stream",
     "text": [
      "  Saved to: /home/snt/projects_lujun/temperature_eval_github/temperature_eval/data/Additional_Results/new_topkp_sampling/evaluated_Llama-3.3-70B-Instruct_vllm_exp_dataset_csv_Mixtral-8x7B-Instruct-v0.1-awq__20250412_030155_r_0.0_p_0.9_k_5_MT.jsonl\n",
      "\n",
      "Processing: /home/snt/projects_lujun/temperature_eval_github/temperature_eval/data/Additional_Results/new_topkp_sampling/vllm_exp_dataset_csv_Llama-3.1-8B-Instruct-awq__20250409_221242_r_1.0_p_1.0_k_10.jsonl\n",
      "/home/snt/projects_lujun/temperature_eval_github/temperature_eval/data/Additional_Results/new_topkp_sampling/vllm_exp_dataset_csv_Llama-3.1-8B-Instruct-awq__20250409_221242_r_1.0_p_1.0_k_10.jsonl\n",
      "[WARNING] Skipping bad line in /home/snt/projects_lujun/temperature_eval_github/temperature_eval/data/Additional_Results/new_topkp_sampling/vllm_exp_dataset_csv_Llama-3.1-8B-Instruct-awq__20250409_221242_r_1.0_p_1.0_k_10.jsonl: Unterminated string starting at: line 1 column 10 (char 9)\n"
     ]
    },
    {
     "name": "stderr",
     "output_type": "stream",
     "text": [
      "100%|██████████| 1800/1800 [00:00<00:00, 4101.45it/s]\n",
      "/tmp/ipykernel_3440479/1085042317.py:95: SettingWithCopyWarning: \n",
      "A value is trying to be set on a copy of a slice from a DataFrame.\n",
      "Try using .loc[row_indexer,col_indexer] = value instead\n",
      "\n",
      "See the caveats in the documentation: https://pandas.pydata.org/pandas-docs/stable/user_guide/indexing.html#returning-a-view-versus-a-copy\n",
      "  MT_df[\"MT_accuracy\"] = MT_df.progress_apply(compute_bleu_score, axis=1)\n"
     ]
    },
    {
     "name": "stdout",
     "output_type": "stream",
     "text": [
      "  Saved to: /home/snt/projects_lujun/temperature_eval_github/temperature_eval/data/Additional_Results/new_topkp_sampling/evaluated_Llama-3.3-70B-Instruct_vllm_exp_dataset_csv_Llama-3.1-8B-Instruct-awq__20250409_221242_r_1.0_p_1.0_k_10_MT.jsonl\n",
      "\n",
      "Processing: /home/snt/projects_lujun/temperature_eval_github/temperature_eval/data/Additional_Results/new_topkp_sampling/vllm_exp_dataset_csv_Llama-3.2-1B-Instruct-awq__20250408_142224_r_2.0_p_0.9_k_10.jsonl\n",
      "/home/snt/projects_lujun/temperature_eval_github/temperature_eval/data/Additional_Results/new_topkp_sampling/vllm_exp_dataset_csv_Llama-3.2-1B-Instruct-awq__20250408_142224_r_2.0_p_0.9_k_10.jsonl\n",
      "[WARNING] Skipping bad line in /home/snt/projects_lujun/temperature_eval_github/temperature_eval/data/Additional_Results/new_topkp_sampling/vllm_exp_dataset_csv_Llama-3.2-1B-Instruct-awq__20250408_142224_r_2.0_p_0.9_k_10.jsonl: Unterminated string starting at: line 1 column 10 (char 9)\n"
     ]
    },
    {
     "name": "stderr",
     "output_type": "stream",
     "text": [
      "100%|██████████| 1800/1800 [00:00<00:00, 5708.53it/s]\n",
      "/tmp/ipykernel_3440479/1085042317.py:95: SettingWithCopyWarning: \n",
      "A value is trying to be set on a copy of a slice from a DataFrame.\n",
      "Try using .loc[row_indexer,col_indexer] = value instead\n",
      "\n",
      "See the caveats in the documentation: https://pandas.pydata.org/pandas-docs/stable/user_guide/indexing.html#returning-a-view-versus-a-copy\n",
      "  MT_df[\"MT_accuracy\"] = MT_df.progress_apply(compute_bleu_score, axis=1)\n"
     ]
    },
    {
     "name": "stdout",
     "output_type": "stream",
     "text": [
      "  Saved to: /home/snt/projects_lujun/temperature_eval_github/temperature_eval/data/Additional_Results/new_topkp_sampling/evaluated_Llama-3.3-70B-Instruct_vllm_exp_dataset_csv_Llama-3.2-1B-Instruct-awq__20250408_142224_r_2.0_p_0.9_k_10_MT.jsonl\n",
      "\n",
      "Processing: /home/snt/projects_lujun/temperature_eval_github/temperature_eval/data/Additional_Results/new_topkp_sampling/vllm_exp_dataset_csv_Llama-3.2-1B-Instruct-awq__20250408_123226_r_0.0_p_0.9_k_10.jsonl\n",
      "/home/snt/projects_lujun/temperature_eval_github/temperature_eval/data/Additional_Results/new_topkp_sampling/vllm_exp_dataset_csv_Llama-3.2-1B-Instruct-awq__20250408_123226_r_0.0_p_0.9_k_10.jsonl\n",
      "[WARNING] Skipping bad line in /home/snt/projects_lujun/temperature_eval_github/temperature_eval/data/Additional_Results/new_topkp_sampling/vllm_exp_dataset_csv_Llama-3.2-1B-Instruct-awq__20250408_123226_r_0.0_p_0.9_k_10.jsonl: Unterminated string starting at: line 1 column 5908 (char 5907)\n"
     ]
    },
    {
     "name": "stderr",
     "output_type": "stream",
     "text": [
      "100%|██████████| 1800/1800 [00:00<00:00, 4902.54it/s]\n",
      "/tmp/ipykernel_3440479/1085042317.py:95: SettingWithCopyWarning: \n",
      "A value is trying to be set on a copy of a slice from a DataFrame.\n",
      "Try using .loc[row_indexer,col_indexer] = value instead\n",
      "\n",
      "See the caveats in the documentation: https://pandas.pydata.org/pandas-docs/stable/user_guide/indexing.html#returning-a-view-versus-a-copy\n",
      "  MT_df[\"MT_accuracy\"] = MT_df.progress_apply(compute_bleu_score, axis=1)\n"
     ]
    },
    {
     "name": "stdout",
     "output_type": "stream",
     "text": [
      "  Saved to: /home/snt/projects_lujun/temperature_eval_github/temperature_eval/data/Additional_Results/new_topkp_sampling/evaluated_Llama-3.3-70B-Instruct_vllm_exp_dataset_csv_Llama-3.2-1B-Instruct-awq__20250408_123226_r_0.0_p_0.9_k_10_MT.jsonl\n",
      "\n",
      "Processing: /home/snt/projects_lujun/temperature_eval_github/temperature_eval/data/Additional_Results/new_topkp_sampling/vllm_exp_dataset_csv_Mixtral-8x7B-Instruct-v0.1-awq__20250412_103218_r_2.0_p_0.8_k_5.jsonl\n",
      "/home/snt/projects_lujun/temperature_eval_github/temperature_eval/data/Additional_Results/new_topkp_sampling/vllm_exp_dataset_csv_Mixtral-8x7B-Instruct-v0.1-awq__20250412_103218_r_2.0_p_0.8_k_5.jsonl\n",
      "[WARNING] Skipping bad line in /home/snt/projects_lujun/temperature_eval_github/temperature_eval/data/Additional_Results/new_topkp_sampling/vllm_exp_dataset_csv_Mixtral-8x7B-Instruct-v0.1-awq__20250412_103218_r_2.0_p_0.8_k_5.jsonl: Unterminated string starting at: line 1 column 10 (char 9)\n"
     ]
    },
    {
     "name": "stderr",
     "output_type": "stream",
     "text": [
      "100%|██████████| 1800/1800 [00:00<00:00, 2651.69it/s]\n",
      "/tmp/ipykernel_3440479/1085042317.py:95: SettingWithCopyWarning: \n",
      "A value is trying to be set on a copy of a slice from a DataFrame.\n",
      "Try using .loc[row_indexer,col_indexer] = value instead\n",
      "\n",
      "See the caveats in the documentation: https://pandas.pydata.org/pandas-docs/stable/user_guide/indexing.html#returning-a-view-versus-a-copy\n",
      "  MT_df[\"MT_accuracy\"] = MT_df.progress_apply(compute_bleu_score, axis=1)\n"
     ]
    },
    {
     "name": "stdout",
     "output_type": "stream",
     "text": [
      "  Saved to: /home/snt/projects_lujun/temperature_eval_github/temperature_eval/data/Additional_Results/new_topkp_sampling/evaluated_Llama-3.3-70B-Instruct_vllm_exp_dataset_csv_Mixtral-8x7B-Instruct-v0.1-awq__20250412_103218_r_2.0_p_0.8_k_5_MT.jsonl\n",
      "\n",
      "Processing: /home/snt/projects_lujun/temperature_eval_github/temperature_eval/data/Additional_Results/new_topkp_sampling/vllm_exp_dataset_csv_Llama-3.1-8B-Instruct-awq__20250408_185400_r_0.0_p_0.9_k_5.jsonl\n",
      "/home/snt/projects_lujun/temperature_eval_github/temperature_eval/data/Additional_Results/new_topkp_sampling/vllm_exp_dataset_csv_Llama-3.1-8B-Instruct-awq__20250408_185400_r_0.0_p_0.9_k_5.jsonl\n",
      "[WARNING] Skipping bad line in /home/snt/projects_lujun/temperature_eval_github/temperature_eval/data/Additional_Results/new_topkp_sampling/vllm_exp_dataset_csv_Llama-3.1-8B-Instruct-awq__20250408_185400_r_0.0_p_0.9_k_5.jsonl: Unterminated string starting at: line 1 column 10 (char 9)\n"
     ]
    },
    {
     "name": "stderr",
     "output_type": "stream",
     "text": [
      "100%|██████████| 1800/1800 [00:00<00:00, 4438.94it/s]\n",
      "/tmp/ipykernel_3440479/1085042317.py:95: SettingWithCopyWarning: \n",
      "A value is trying to be set on a copy of a slice from a DataFrame.\n",
      "Try using .loc[row_indexer,col_indexer] = value instead\n",
      "\n",
      "See the caveats in the documentation: https://pandas.pydata.org/pandas-docs/stable/user_guide/indexing.html#returning-a-view-versus-a-copy\n",
      "  MT_df[\"MT_accuracy\"] = MT_df.progress_apply(compute_bleu_score, axis=1)\n"
     ]
    },
    {
     "name": "stdout",
     "output_type": "stream",
     "text": [
      "  Saved to: /home/snt/projects_lujun/temperature_eval_github/temperature_eval/data/Additional_Results/new_topkp_sampling/evaluated_Llama-3.3-70B-Instruct_vllm_exp_dataset_csv_Llama-3.1-8B-Instruct-awq__20250408_185400_r_0.0_p_0.9_k_5_MT.jsonl\n",
      "\n",
      "Processing: /home/snt/projects_lujun/temperature_eval_github/temperature_eval/data/Additional_Results/new_topkp_sampling/vllm_exp_dataset_csv_Llama-3.1-8B-Instruct-awq__20250408_062003_r_0.0_p_1.0_k_2.jsonl\n",
      "/home/snt/projects_lujun/temperature_eval_github/temperature_eval/data/Additional_Results/new_topkp_sampling/vllm_exp_dataset_csv_Llama-3.1-8B-Instruct-awq__20250408_062003_r_0.0_p_1.0_k_2.jsonl\n",
      "[WARNING] Skipping bad line in /home/snt/projects_lujun/temperature_eval_github/temperature_eval/data/Additional_Results/new_topkp_sampling/vllm_exp_dataset_csv_Llama-3.1-8B-Instruct-awq__20250408_062003_r_0.0_p_1.0_k_2.jsonl: Unterminated string starting at: line 1 column 10 (char 9)\n"
     ]
    },
    {
     "name": "stderr",
     "output_type": "stream",
     "text": [
      "100%|██████████| 2100/2100 [00:00<00:00, 4265.84it/s]\n",
      "/tmp/ipykernel_3440479/1085042317.py:95: SettingWithCopyWarning: \n",
      "A value is trying to be set on a copy of a slice from a DataFrame.\n",
      "Try using .loc[row_indexer,col_indexer] = value instead\n",
      "\n",
      "See the caveats in the documentation: https://pandas.pydata.org/pandas-docs/stable/user_guide/indexing.html#returning-a-view-versus-a-copy\n",
      "  MT_df[\"MT_accuracy\"] = MT_df.progress_apply(compute_bleu_score, axis=1)\n"
     ]
    },
    {
     "name": "stdout",
     "output_type": "stream",
     "text": [
      "  Saved to: /home/snt/projects_lujun/temperature_eval_github/temperature_eval/data/Additional_Results/new_topkp_sampling/evaluated_Llama-3.3-70B-Instruct_vllm_exp_dataset_csv_Llama-3.1-8B-Instruct-awq__20250408_062003_r_0.0_p_1.0_k_2_MT.jsonl\n",
      "\n",
      "Processing: /home/snt/projects_lujun/temperature_eval_github/temperature_eval/data/Additional_Results/new_topkp_sampling/vllm_exp_dataset_csv_Mixtral-8x7B-Instruct-v0.1-awq__20250408_065526_r_2.0_p_0.8_k_2.jsonl\n",
      "/home/snt/projects_lujun/temperature_eval_github/temperature_eval/data/Additional_Results/new_topkp_sampling/vllm_exp_dataset_csv_Mixtral-8x7B-Instruct-v0.1-awq__20250408_065526_r_2.0_p_0.8_k_2.jsonl\n",
      "[WARNING] Skipping bad line in /home/snt/projects_lujun/temperature_eval_github/temperature_eval/data/Additional_Results/new_topkp_sampling/vllm_exp_dataset_csv_Mixtral-8x7B-Instruct-v0.1-awq__20250408_065526_r_2.0_p_0.8_k_2.jsonl: Unterminated string starting at: line 1 column 10 (char 9)\n"
     ]
    },
    {
     "name": "stderr",
     "output_type": "stream",
     "text": [
      "100%|██████████| 1843/1843 [00:00<00:00, 2946.03it/s]\n",
      "/tmp/ipykernel_3440479/1085042317.py:95: SettingWithCopyWarning: \n",
      "A value is trying to be set on a copy of a slice from a DataFrame.\n",
      "Try using .loc[row_indexer,col_indexer] = value instead\n",
      "\n",
      "See the caveats in the documentation: https://pandas.pydata.org/pandas-docs/stable/user_guide/indexing.html#returning-a-view-versus-a-copy\n",
      "  MT_df[\"MT_accuracy\"] = MT_df.progress_apply(compute_bleu_score, axis=1)\n"
     ]
    },
    {
     "name": "stdout",
     "output_type": "stream",
     "text": [
      "  Saved to: /home/snt/projects_lujun/temperature_eval_github/temperature_eval/data/Additional_Results/new_topkp_sampling/evaluated_Llama-3.3-70B-Instruct_vllm_exp_dataset_csv_Mixtral-8x7B-Instruct-v0.1-awq__20250408_065526_r_2.0_p_0.8_k_2_MT.jsonl\n",
      "\n",
      "Processing: /home/snt/projects_lujun/temperature_eval_github/temperature_eval/data/Additional_Results/new_topkp_sampling/vllm_exp_dataset_csv_Mixtral-8x7B-Instruct-v0.1-awq__20250413_011954_r_0.0_p_1.0_k_5.jsonl\n",
      "/home/snt/projects_lujun/temperature_eval_github/temperature_eval/data/Additional_Results/new_topkp_sampling/vllm_exp_dataset_csv_Mixtral-8x7B-Instruct-v0.1-awq__20250413_011954_r_0.0_p_1.0_k_5.jsonl\n",
      "[WARNING] Skipping bad line in /home/snt/projects_lujun/temperature_eval_github/temperature_eval/data/Additional_Results/new_topkp_sampling/vllm_exp_dataset_csv_Mixtral-8x7B-Instruct-v0.1-awq__20250413_011954_r_0.0_p_1.0_k_5.jsonl: Unterminated string starting at: line 1 column 10 (char 9)\n"
     ]
    },
    {
     "name": "stderr",
     "output_type": "stream",
     "text": [
      "100%|██████████| 1800/1800 [00:00<00:00, 3182.94it/s]\n",
      "/tmp/ipykernel_3440479/1085042317.py:95: SettingWithCopyWarning: \n",
      "A value is trying to be set on a copy of a slice from a DataFrame.\n",
      "Try using .loc[row_indexer,col_indexer] = value instead\n",
      "\n",
      "See the caveats in the documentation: https://pandas.pydata.org/pandas-docs/stable/user_guide/indexing.html#returning-a-view-versus-a-copy\n",
      "  MT_df[\"MT_accuracy\"] = MT_df.progress_apply(compute_bleu_score, axis=1)\n"
     ]
    },
    {
     "name": "stdout",
     "output_type": "stream",
     "text": [
      "  Saved to: /home/snt/projects_lujun/temperature_eval_github/temperature_eval/data/Additional_Results/new_topkp_sampling/evaluated_Llama-3.3-70B-Instruct_vllm_exp_dataset_csv_Mixtral-8x7B-Instruct-v0.1-awq__20250413_011954_r_0.0_p_1.0_k_5_MT.jsonl\n",
      "\n",
      "Processing: /home/snt/projects_lujun/temperature_eval_github/temperature_eval/data/Additional_Results/new_topkp_sampling/vllm_exp_dataset_csv_Llama-3.1-8B-Instruct-awq__20250409_093955_r_1.0_p_0.8_k_10.jsonl\n",
      "/home/snt/projects_lujun/temperature_eval_github/temperature_eval/data/Additional_Results/new_topkp_sampling/vllm_exp_dataset_csv_Llama-3.1-8B-Instruct-awq__20250409_093955_r_1.0_p_0.8_k_10.jsonl\n",
      "[WARNING] Skipping bad line in /home/snt/projects_lujun/temperature_eval_github/temperature_eval/data/Additional_Results/new_topkp_sampling/vllm_exp_dataset_csv_Llama-3.1-8B-Instruct-awq__20250409_093955_r_1.0_p_0.8_k_10.jsonl: Unterminated string starting at: line 1 column 10 (char 9)\n"
     ]
    },
    {
     "name": "stderr",
     "output_type": "stream",
     "text": [
      "100%|██████████| 1800/1800 [00:00<00:00, 4315.04it/s]\n",
      "/tmp/ipykernel_3440479/1085042317.py:95: SettingWithCopyWarning: \n",
      "A value is trying to be set on a copy of a slice from a DataFrame.\n",
      "Try using .loc[row_indexer,col_indexer] = value instead\n",
      "\n",
      "See the caveats in the documentation: https://pandas.pydata.org/pandas-docs/stable/user_guide/indexing.html#returning-a-view-versus-a-copy\n",
      "  MT_df[\"MT_accuracy\"] = MT_df.progress_apply(compute_bleu_score, axis=1)\n"
     ]
    },
    {
     "name": "stdout",
     "output_type": "stream",
     "text": [
      "  Saved to: /home/snt/projects_lujun/temperature_eval_github/temperature_eval/data/Additional_Results/new_topkp_sampling/evaluated_Llama-3.3-70B-Instruct_vllm_exp_dataset_csv_Llama-3.1-8B-Instruct-awq__20250409_093955_r_1.0_p_0.8_k_10_MT.jsonl\n",
      "\n",
      "Processing: /home/snt/projects_lujun/temperature_eval_github/temperature_eval/data/Additional_Results/new_topkp_sampling/vllm_exp_dataset_csv_Llama-3.2-1B-Instruct-awq__20250408_034608_r_2.0_p_0.8_k_5.jsonl\n",
      "/home/snt/projects_lujun/temperature_eval_github/temperature_eval/data/Additional_Results/new_topkp_sampling/vllm_exp_dataset_csv_Llama-3.2-1B-Instruct-awq__20250408_034608_r_2.0_p_0.8_k_5.jsonl\n"
     ]
    },
    {
     "name": "stderr",
     "output_type": "stream",
     "text": [
      "100%|██████████| 2100/2100 [00:00<00:00, 5718.77it/s]\n",
      "/tmp/ipykernel_3440479/1085042317.py:95: SettingWithCopyWarning: \n",
      "A value is trying to be set on a copy of a slice from a DataFrame.\n",
      "Try using .loc[row_indexer,col_indexer] = value instead\n",
      "\n",
      "See the caveats in the documentation: https://pandas.pydata.org/pandas-docs/stable/user_guide/indexing.html#returning-a-view-versus-a-copy\n",
      "  MT_df[\"MT_accuracy\"] = MT_df.progress_apply(compute_bleu_score, axis=1)\n"
     ]
    },
    {
     "name": "stdout",
     "output_type": "stream",
     "text": [
      "  Saved to: /home/snt/projects_lujun/temperature_eval_github/temperature_eval/data/Additional_Results/new_topkp_sampling/evaluated_Llama-3.3-70B-Instruct_vllm_exp_dataset_csv_Llama-3.2-1B-Instruct-awq__20250408_034608_r_2.0_p_0.8_k_5_MT.jsonl\n",
      "\n",
      "Processing: /home/snt/projects_lujun/temperature_eval_github/temperature_eval/data/Additional_Results/new_topkp_sampling/vllm_exp_dataset_csv_Mixtral-8x7B-Instruct-v0.1-awq__20250412_104857_r_1.0_p_0.9_k_5.jsonl\n",
      "/home/snt/projects_lujun/temperature_eval_github/temperature_eval/data/Additional_Results/new_topkp_sampling/vllm_exp_dataset_csv_Mixtral-8x7B-Instruct-v0.1-awq__20250412_104857_r_1.0_p_0.9_k_5.jsonl\n",
      "[WARNING] Skipping bad line in /home/snt/projects_lujun/temperature_eval_github/temperature_eval/data/Additional_Results/new_topkp_sampling/vllm_exp_dataset_csv_Mixtral-8x7B-Instruct-v0.1-awq__20250412_104857_r_1.0_p_0.9_k_5.jsonl: Unterminated string starting at: line 1 column 460 (char 459)\n"
     ]
    },
    {
     "name": "stderr",
     "output_type": "stream",
     "text": [
      "100%|██████████| 1800/1800 [00:00<00:00, 2888.47it/s]\n",
      "/tmp/ipykernel_3440479/1085042317.py:95: SettingWithCopyWarning: \n",
      "A value is trying to be set on a copy of a slice from a DataFrame.\n",
      "Try using .loc[row_indexer,col_indexer] = value instead\n",
      "\n",
      "See the caveats in the documentation: https://pandas.pydata.org/pandas-docs/stable/user_guide/indexing.html#returning-a-view-versus-a-copy\n",
      "  MT_df[\"MT_accuracy\"] = MT_df.progress_apply(compute_bleu_score, axis=1)\n"
     ]
    },
    {
     "name": "stdout",
     "output_type": "stream",
     "text": [
      "  Saved to: /home/snt/projects_lujun/temperature_eval_github/temperature_eval/data/Additional_Results/new_topkp_sampling/evaluated_Llama-3.3-70B-Instruct_vllm_exp_dataset_csv_Mixtral-8x7B-Instruct-v0.1-awq__20250412_104857_r_1.0_p_0.9_k_5_MT.jsonl\n",
      "\n",
      "Processing: /home/snt/projects_lujun/temperature_eval_github/temperature_eval/data/Additional_Results/new_topkp_sampling/vllm_exp_dataset_csv_Llama-3.1-8B-Instruct-awq__20250409_052526_r_2.0_p_1.0_k_5.jsonl\n",
      "/home/snt/projects_lujun/temperature_eval_github/temperature_eval/data/Additional_Results/new_topkp_sampling/vllm_exp_dataset_csv_Llama-3.1-8B-Instruct-awq__20250409_052526_r_2.0_p_1.0_k_5.jsonl\n",
      "[WARNING] Skipping bad line in /home/snt/projects_lujun/temperature_eval_github/temperature_eval/data/Additional_Results/new_topkp_sampling/vllm_exp_dataset_csv_Llama-3.1-8B-Instruct-awq__20250409_052526_r_2.0_p_1.0_k_5.jsonl: Unterminated string starting at: line 1 column 10 (char 9)\n"
     ]
    },
    {
     "name": "stderr",
     "output_type": "stream",
     "text": [
      "100%|██████████| 1800/1800 [00:00<00:00, 4202.54it/s]\n",
      "/tmp/ipykernel_3440479/1085042317.py:95: SettingWithCopyWarning: \n",
      "A value is trying to be set on a copy of a slice from a DataFrame.\n",
      "Try using .loc[row_indexer,col_indexer] = value instead\n",
      "\n",
      "See the caveats in the documentation: https://pandas.pydata.org/pandas-docs/stable/user_guide/indexing.html#returning-a-view-versus-a-copy\n",
      "  MT_df[\"MT_accuracy\"] = MT_df.progress_apply(compute_bleu_score, axis=1)\n"
     ]
    },
    {
     "name": "stdout",
     "output_type": "stream",
     "text": [
      "  Saved to: /home/snt/projects_lujun/temperature_eval_github/temperature_eval/data/Additional_Results/new_topkp_sampling/evaluated_Llama-3.3-70B-Instruct_vllm_exp_dataset_csv_Llama-3.1-8B-Instruct-awq__20250409_052526_r_2.0_p_1.0_k_5_MT.jsonl\n",
      "\n",
      "Processing: /home/snt/projects_lujun/temperature_eval_github/temperature_eval/data/Additional_Results/new_topkp_sampling/vllm_exp_dataset_csv_Mixtral-8x7B-Instruct-v0.1-awq__20250409_023559_r_2.0_p_0.9_k_2.jsonl\n",
      "/home/snt/projects_lujun/temperature_eval_github/temperature_eval/data/Additional_Results/new_topkp_sampling/vllm_exp_dataset_csv_Mixtral-8x7B-Instruct-v0.1-awq__20250409_023559_r_2.0_p_0.9_k_2.jsonl\n"
     ]
    },
    {
     "name": "stderr",
     "output_type": "stream",
     "text": [
      "100%|██████████| 2100/2100 [00:00<00:00, 3140.27it/s]\n",
      "/tmp/ipykernel_3440479/1085042317.py:95: SettingWithCopyWarning: \n",
      "A value is trying to be set on a copy of a slice from a DataFrame.\n",
      "Try using .loc[row_indexer,col_indexer] = value instead\n",
      "\n",
      "See the caveats in the documentation: https://pandas.pydata.org/pandas-docs/stable/user_guide/indexing.html#returning-a-view-versus-a-copy\n",
      "  MT_df[\"MT_accuracy\"] = MT_df.progress_apply(compute_bleu_score, axis=1)\n"
     ]
    },
    {
     "name": "stdout",
     "output_type": "stream",
     "text": [
      "  Saved to: /home/snt/projects_lujun/temperature_eval_github/temperature_eval/data/Additional_Results/new_topkp_sampling/evaluated_Llama-3.3-70B-Instruct_vllm_exp_dataset_csv_Mixtral-8x7B-Instruct-v0.1-awq__20250409_023559_r_2.0_p_0.9_k_2_MT.jsonl\n",
      "\n",
      "Processing: /home/snt/projects_lujun/temperature_eval_github/temperature_eval/data/Additional_Results/new_topkp_sampling/vllm_exp_dataset_csv_Mixtral-8x7B-Instruct-v0.1-awq__20250409_221803_r_2.0_p_1.0_k_2.jsonl\n",
      "/home/snt/projects_lujun/temperature_eval_github/temperature_eval/data/Additional_Results/new_topkp_sampling/vllm_exp_dataset_csv_Mixtral-8x7B-Instruct-v0.1-awq__20250409_221803_r_2.0_p_1.0_k_2.jsonl\n",
      "[WARNING] Skipping bad line in /home/snt/projects_lujun/temperature_eval_github/temperature_eval/data/Additional_Results/new_topkp_sampling/vllm_exp_dataset_csv_Mixtral-8x7B-Instruct-v0.1-awq__20250409_221803_r_2.0_p_1.0_k_2.jsonl: Unterminated string starting at: line 1 column 7049 (char 7048)\n"
     ]
    },
    {
     "name": "stderr",
     "output_type": "stream",
     "text": [
      "100%|██████████| 1800/1800 [00:00<00:00, 3566.98it/s]\n",
      "/tmp/ipykernel_3440479/1085042317.py:95: SettingWithCopyWarning: \n",
      "A value is trying to be set on a copy of a slice from a DataFrame.\n",
      "Try using .loc[row_indexer,col_indexer] = value instead\n",
      "\n",
      "See the caveats in the documentation: https://pandas.pydata.org/pandas-docs/stable/user_guide/indexing.html#returning-a-view-versus-a-copy\n",
      "  MT_df[\"MT_accuracy\"] = MT_df.progress_apply(compute_bleu_score, axis=1)\n"
     ]
    },
    {
     "name": "stdout",
     "output_type": "stream",
     "text": [
      "  Saved to: /home/snt/projects_lujun/temperature_eval_github/temperature_eval/data/Additional_Results/new_topkp_sampling/evaluated_Llama-3.3-70B-Instruct_vllm_exp_dataset_csv_Mixtral-8x7B-Instruct-v0.1-awq__20250409_221803_r_2.0_p_1.0_k_2_MT.jsonl\n",
      "\n",
      "Processing: /home/snt/projects_lujun/temperature_eval_github/temperature_eval/data/Additional_Results/new_topkp_sampling/vllm_exp_dataset_csv_Mixtral-8x7B-Instruct-v0.1-awq__20250412_103402_r_2.0_p_0.9_k_10.jsonl\n",
      "/home/snt/projects_lujun/temperature_eval_github/temperature_eval/data/Additional_Results/new_topkp_sampling/vllm_exp_dataset_csv_Mixtral-8x7B-Instruct-v0.1-awq__20250412_103402_r_2.0_p_0.9_k_10.jsonl\n",
      "[WARNING] Skipping bad line in /home/snt/projects_lujun/temperature_eval_github/temperature_eval/data/Additional_Results/new_topkp_sampling/vllm_exp_dataset_csv_Mixtral-8x7B-Instruct-v0.1-awq__20250412_103402_r_2.0_p_0.9_k_10.jsonl: Unterminated string starting at: line 1 column 1375 (char 1374)\n"
     ]
    },
    {
     "name": "stderr",
     "output_type": "stream",
     "text": [
      "100%|██████████| 1800/1800 [00:00<00:00, 3037.98it/s]\n",
      "/tmp/ipykernel_3440479/1085042317.py:95: SettingWithCopyWarning: \n",
      "A value is trying to be set on a copy of a slice from a DataFrame.\n",
      "Try using .loc[row_indexer,col_indexer] = value instead\n",
      "\n",
      "See the caveats in the documentation: https://pandas.pydata.org/pandas-docs/stable/user_guide/indexing.html#returning-a-view-versus-a-copy\n",
      "  MT_df[\"MT_accuracy\"] = MT_df.progress_apply(compute_bleu_score, axis=1)\n"
     ]
    },
    {
     "name": "stdout",
     "output_type": "stream",
     "text": [
      "  Saved to: /home/snt/projects_lujun/temperature_eval_github/temperature_eval/data/Additional_Results/new_topkp_sampling/evaluated_Llama-3.3-70B-Instruct_vllm_exp_dataset_csv_Mixtral-8x7B-Instruct-v0.1-awq__20250412_103402_r_2.0_p_0.9_k_10_MT.jsonl\n",
      "\n",
      "Processing: /home/snt/projects_lujun/temperature_eval_github/temperature_eval/data/Additional_Results/new_topkp_sampling/vllm_exp_dataset_csv_Llama-3.2-1B-Instruct-awq__20250408_090713_r_2.0_p_1.0_k_5.jsonl\n",
      "/home/snt/projects_lujun/temperature_eval_github/temperature_eval/data/Additional_Results/new_topkp_sampling/vllm_exp_dataset_csv_Llama-3.2-1B-Instruct-awq__20250408_090713_r_2.0_p_1.0_k_5.jsonl\n",
      "[WARNING] Skipping bad line in /home/snt/projects_lujun/temperature_eval_github/temperature_eval/data/Additional_Results/new_topkp_sampling/vllm_exp_dataset_csv_Llama-3.2-1B-Instruct-awq__20250408_090713_r_2.0_p_1.0_k_5.jsonl: Unterminated string starting at: line 1 column 10 (char 9)\n"
     ]
    },
    {
     "name": "stderr",
     "output_type": "stream",
     "text": [
      "100%|██████████| 2100/2100 [00:00<00:00, 6069.41it/s]\n",
      "/tmp/ipykernel_3440479/1085042317.py:95: SettingWithCopyWarning: \n",
      "A value is trying to be set on a copy of a slice from a DataFrame.\n",
      "Try using .loc[row_indexer,col_indexer] = value instead\n",
      "\n",
      "See the caveats in the documentation: https://pandas.pydata.org/pandas-docs/stable/user_guide/indexing.html#returning-a-view-versus-a-copy\n",
      "  MT_df[\"MT_accuracy\"] = MT_df.progress_apply(compute_bleu_score, axis=1)\n"
     ]
    },
    {
     "name": "stdout",
     "output_type": "stream",
     "text": [
      "  Saved to: /home/snt/projects_lujun/temperature_eval_github/temperature_eval/data/Additional_Results/new_topkp_sampling/evaluated_Llama-3.3-70B-Instruct_vllm_exp_dataset_csv_Llama-3.2-1B-Instruct-awq__20250408_090713_r_2.0_p_1.0_k_5_MT.jsonl\n",
      "\n",
      "Processing: /home/snt/projects_lujun/temperature_eval_github/temperature_eval/data/Additional_Results/new_topkp_sampling/vllm_exp_dataset_csv_Mixtral-8x7B-Instruct-v0.1-awq__20250409_154834_r_1.0_p_1.0_k_2.jsonl\n",
      "/home/snt/projects_lujun/temperature_eval_github/temperature_eval/data/Additional_Results/new_topkp_sampling/vllm_exp_dataset_csv_Mixtral-8x7B-Instruct-v0.1-awq__20250409_154834_r_1.0_p_1.0_k_2.jsonl\n",
      "[WARNING] Skipping bad line in /home/snt/projects_lujun/temperature_eval_github/temperature_eval/data/Additional_Results/new_topkp_sampling/vllm_exp_dataset_csv_Mixtral-8x7B-Instruct-v0.1-awq__20250409_154834_r_1.0_p_1.0_k_2.jsonl: Unterminated string starting at: line 1 column 10 (char 9)\n"
     ]
    },
    {
     "name": "stderr",
     "output_type": "stream",
     "text": [
      "100%|██████████| 1800/1800 [00:00<00:00, 3237.01it/s]\n",
      "/tmp/ipykernel_3440479/1085042317.py:95: SettingWithCopyWarning: \n",
      "A value is trying to be set on a copy of a slice from a DataFrame.\n",
      "Try using .loc[row_indexer,col_indexer] = value instead\n",
      "\n",
      "See the caveats in the documentation: https://pandas.pydata.org/pandas-docs/stable/user_guide/indexing.html#returning-a-view-versus-a-copy\n",
      "  MT_df[\"MT_accuracy\"] = MT_df.progress_apply(compute_bleu_score, axis=1)\n"
     ]
    },
    {
     "name": "stdout",
     "output_type": "stream",
     "text": [
      "  Saved to: /home/snt/projects_lujun/temperature_eval_github/temperature_eval/data/Additional_Results/new_topkp_sampling/evaluated_Llama-3.3-70B-Instruct_vllm_exp_dataset_csv_Mixtral-8x7B-Instruct-v0.1-awq__20250409_154834_r_1.0_p_1.0_k_2_MT.jsonl\n",
      "\n",
      "Processing: /home/snt/projects_lujun/temperature_eval_github/temperature_eval/data/Additional_Results/new_topkp_sampling/vllm_exp_dataset_csv_Llama-3.1-8B-Instruct-awq__20250408_083603_r_1.0_p_1.0_k_2.jsonl\n",
      "/home/snt/projects_lujun/temperature_eval_github/temperature_eval/data/Additional_Results/new_topkp_sampling/vllm_exp_dataset_csv_Llama-3.1-8B-Instruct-awq__20250408_083603_r_1.0_p_1.0_k_2.jsonl\n",
      "[WARNING] Skipping bad line in /home/snt/projects_lujun/temperature_eval_github/temperature_eval/data/Additional_Results/new_topkp_sampling/vllm_exp_dataset_csv_Llama-3.1-8B-Instruct-awq__20250408_083603_r_1.0_p_1.0_k_2.jsonl: Unterminated string starting at: line 1 column 857 (char 856)\n"
     ]
    },
    {
     "name": "stderr",
     "output_type": "stream",
     "text": [
      "100%|██████████| 1823/1823 [00:00<00:00, 4650.12it/s]\n",
      "/tmp/ipykernel_3440479/1085042317.py:95: SettingWithCopyWarning: \n",
      "A value is trying to be set on a copy of a slice from a DataFrame.\n",
      "Try using .loc[row_indexer,col_indexer] = value instead\n",
      "\n",
      "See the caveats in the documentation: https://pandas.pydata.org/pandas-docs/stable/user_guide/indexing.html#returning-a-view-versus-a-copy\n",
      "  MT_df[\"MT_accuracy\"] = MT_df.progress_apply(compute_bleu_score, axis=1)\n"
     ]
    },
    {
     "name": "stdout",
     "output_type": "stream",
     "text": [
      "  Saved to: /home/snt/projects_lujun/temperature_eval_github/temperature_eval/data/Additional_Results/new_topkp_sampling/evaluated_Llama-3.3-70B-Instruct_vllm_exp_dataset_csv_Llama-3.1-8B-Instruct-awq__20250408_083603_r_1.0_p_1.0_k_2_MT.jsonl\n",
      "\n",
      "Processing: /home/snt/projects_lujun/temperature_eval_github/temperature_eval/data/Additional_Results/new_topkp_sampling/vllm_exp_dataset_csv_Llama-3.1-8B-Instruct-awq__20250409_072600_r_0.0_p_0.8_k_10.jsonl\n",
      "/home/snt/projects_lujun/temperature_eval_github/temperature_eval/data/Additional_Results/new_topkp_sampling/vllm_exp_dataset_csv_Llama-3.1-8B-Instruct-awq__20250409_072600_r_0.0_p_0.8_k_10.jsonl\n",
      "[WARNING] Skipping bad line in /home/snt/projects_lujun/temperature_eval_github/temperature_eval/data/Additional_Results/new_topkp_sampling/vllm_exp_dataset_csv_Llama-3.1-8B-Instruct-awq__20250409_072600_r_0.0_p_0.8_k_10.jsonl: Unterminated string starting at: line 1 column 613 (char 612)\n"
     ]
    },
    {
     "name": "stderr",
     "output_type": "stream",
     "text": [
      "100%|██████████| 1800/1800 [00:00<00:00, 4661.38it/s]\n",
      "/tmp/ipykernel_3440479/1085042317.py:95: SettingWithCopyWarning: \n",
      "A value is trying to be set on a copy of a slice from a DataFrame.\n",
      "Try using .loc[row_indexer,col_indexer] = value instead\n",
      "\n",
      "See the caveats in the documentation: https://pandas.pydata.org/pandas-docs/stable/user_guide/indexing.html#returning-a-view-versus-a-copy\n",
      "  MT_df[\"MT_accuracy\"] = MT_df.progress_apply(compute_bleu_score, axis=1)\n"
     ]
    },
    {
     "name": "stdout",
     "output_type": "stream",
     "text": [
      "  Saved to: /home/snt/projects_lujun/temperature_eval_github/temperature_eval/data/Additional_Results/new_topkp_sampling/evaluated_Llama-3.3-70B-Instruct_vllm_exp_dataset_csv_Llama-3.1-8B-Instruct-awq__20250409_072600_r_0.0_p_0.8_k_10_MT.jsonl\n",
      "\n",
      "Processing: /home/snt/projects_lujun/temperature_eval_github/temperature_eval/data/Additional_Results/new_topkp_sampling/vllm_exp_dataset_csv_Mixtral-8x7B-Instruct-v0.1-awq__20250408_002720_r_1.0_p_0.8_k_2.jsonl\n",
      "/home/snt/projects_lujun/temperature_eval_github/temperature_eval/data/Additional_Results/new_topkp_sampling/vllm_exp_dataset_csv_Mixtral-8x7B-Instruct-v0.1-awq__20250408_002720_r_1.0_p_0.8_k_2.jsonl\n",
      "[WARNING] Skipping bad line in /home/snt/projects_lujun/temperature_eval_github/temperature_eval/data/Additional_Results/new_topkp_sampling/vllm_exp_dataset_csv_Mixtral-8x7B-Instruct-v0.1-awq__20250408_002720_r_1.0_p_0.8_k_2.jsonl: Unterminated string starting at: line 1 column 10 (char 9)\n"
     ]
    },
    {
     "name": "stderr",
     "output_type": "stream",
     "text": [
      "100%|██████████| 2100/2100 [00:00<00:00, 3092.94it/s]\n",
      "/tmp/ipykernel_3440479/1085042317.py:95: SettingWithCopyWarning: \n",
      "A value is trying to be set on a copy of a slice from a DataFrame.\n",
      "Try using .loc[row_indexer,col_indexer] = value instead\n",
      "\n",
      "See the caveats in the documentation: https://pandas.pydata.org/pandas-docs/stable/user_guide/indexing.html#returning-a-view-versus-a-copy\n",
      "  MT_df[\"MT_accuracy\"] = MT_df.progress_apply(compute_bleu_score, axis=1)\n"
     ]
    },
    {
     "name": "stdout",
     "output_type": "stream",
     "text": [
      "  Saved to: /home/snt/projects_lujun/temperature_eval_github/temperature_eval/data/Additional_Results/new_topkp_sampling/evaluated_Llama-3.3-70B-Instruct_vllm_exp_dataset_csv_Mixtral-8x7B-Instruct-v0.1-awq__20250408_002720_r_1.0_p_0.8_k_2_MT.jsonl\n",
      "\n",
      "Processing: /home/snt/projects_lujun/temperature_eval_github/temperature_eval/data/Additional_Results/new_topkp_sampling/vllm_exp_dataset_csv_Llama-3.2-1B-Instruct-awq__20250408_025412_r_1.0_p_0.8_k_5.jsonl\n",
      "/home/snt/projects_lujun/temperature_eval_github/temperature_eval/data/Additional_Results/new_topkp_sampling/vllm_exp_dataset_csv_Llama-3.2-1B-Instruct-awq__20250408_025412_r_1.0_p_0.8_k_5.jsonl\n",
      "[WARNING] Skipping bad line in /home/snt/projects_lujun/temperature_eval_github/temperature_eval/data/Additional_Results/new_topkp_sampling/vllm_exp_dataset_csv_Llama-3.2-1B-Instruct-awq__20250408_025412_r_1.0_p_0.8_k_5.jsonl: Unterminated string starting at: line 1 column 486 (char 485)\n"
     ]
    },
    {
     "name": "stderr",
     "output_type": "stream",
     "text": [
      "100%|██████████| 1800/1800 [00:00<00:00, 6115.56it/s]\n",
      "/tmp/ipykernel_3440479/1085042317.py:95: SettingWithCopyWarning: \n",
      "A value is trying to be set on a copy of a slice from a DataFrame.\n",
      "Try using .loc[row_indexer,col_indexer] = value instead\n",
      "\n",
      "See the caveats in the documentation: https://pandas.pydata.org/pandas-docs/stable/user_guide/indexing.html#returning-a-view-versus-a-copy\n",
      "  MT_df[\"MT_accuracy\"] = MT_df.progress_apply(compute_bleu_score, axis=1)\n"
     ]
    },
    {
     "name": "stdout",
     "output_type": "stream",
     "text": [
      "  Saved to: /home/snt/projects_lujun/temperature_eval_github/temperature_eval/data/Additional_Results/new_topkp_sampling/evaluated_Llama-3.3-70B-Instruct_vllm_exp_dataset_csv_Llama-3.2-1B-Instruct-awq__20250408_025412_r_1.0_p_0.8_k_5_MT.jsonl\n",
      "\n",
      "Processing: /home/snt/projects_lujun/temperature_eval_github/temperature_eval/data/Additional_Results/new_topkp_sampling/vllm_exp_dataset_csv_Mixtral-8x7B-Instruct-v0.1-awq__20250408_132614_r_0.0_p_0.9_k_2.jsonl\n",
      "/home/snt/projects_lujun/temperature_eval_github/temperature_eval/data/Additional_Results/new_topkp_sampling/vllm_exp_dataset_csv_Mixtral-8x7B-Instruct-v0.1-awq__20250408_132614_r_0.0_p_0.9_k_2.jsonl\n",
      "[WARNING] Skipping bad line in /home/snt/projects_lujun/temperature_eval_github/temperature_eval/data/Additional_Results/new_topkp_sampling/vllm_exp_dataset_csv_Mixtral-8x7B-Instruct-v0.1-awq__20250408_132614_r_0.0_p_0.9_k_2.jsonl: Unterminated string starting at: line 1 column 10 (char 9)\n"
     ]
    },
    {
     "name": "stderr",
     "output_type": "stream",
     "text": [
      "100%|██████████| 2100/2100 [00:00<00:00, 3525.49it/s]\n",
      "/tmp/ipykernel_3440479/1085042317.py:95: SettingWithCopyWarning: \n",
      "A value is trying to be set on a copy of a slice from a DataFrame.\n",
      "Try using .loc[row_indexer,col_indexer] = value instead\n",
      "\n",
      "See the caveats in the documentation: https://pandas.pydata.org/pandas-docs/stable/user_guide/indexing.html#returning-a-view-versus-a-copy\n",
      "  MT_df[\"MT_accuracy\"] = MT_df.progress_apply(compute_bleu_score, axis=1)\n"
     ]
    },
    {
     "name": "stdout",
     "output_type": "stream",
     "text": [
      "  Saved to: /home/snt/projects_lujun/temperature_eval_github/temperature_eval/data/Additional_Results/new_topkp_sampling/evaluated_Llama-3.3-70B-Instruct_vllm_exp_dataset_csv_Mixtral-8x7B-Instruct-v0.1-awq__20250408_132614_r_0.0_p_0.9_k_2_MT.jsonl\n",
      "\n",
      "Processing: /home/snt/projects_lujun/temperature_eval_github/temperature_eval/data/Additional_Results/new_topkp_sampling/vllm_exp_dataset_csv_Llama-3.1-8B-Instruct-awq__20250407_220738_r_2.0_p_0.8_k_2.jsonl\n",
      "/home/snt/projects_lujun/temperature_eval_github/temperature_eval/data/Additional_Results/new_topkp_sampling/vllm_exp_dataset_csv_Llama-3.1-8B-Instruct-awq__20250407_220738_r_2.0_p_0.8_k_2.jsonl\n",
      "[WARNING] Skipping bad line in /home/snt/projects_lujun/temperature_eval_github/temperature_eval/data/Additional_Results/new_topkp_sampling/vllm_exp_dataset_csv_Llama-3.1-8B-Instruct-awq__20250407_220738_r_2.0_p_0.8_k_2.jsonl: Unterminated string starting at: line 1 column 10 (char 9)\n"
     ]
    },
    {
     "name": "stderr",
     "output_type": "stream",
     "text": [
      "100%|██████████| 1800/1800 [00:00<00:00, 4294.50it/s]\n",
      "/tmp/ipykernel_3440479/1085042317.py:95: SettingWithCopyWarning: \n",
      "A value is trying to be set on a copy of a slice from a DataFrame.\n",
      "Try using .loc[row_indexer,col_indexer] = value instead\n",
      "\n",
      "See the caveats in the documentation: https://pandas.pydata.org/pandas-docs/stable/user_guide/indexing.html#returning-a-view-versus-a-copy\n",
      "  MT_df[\"MT_accuracy\"] = MT_df.progress_apply(compute_bleu_score, axis=1)\n"
     ]
    },
    {
     "name": "stdout",
     "output_type": "stream",
     "text": [
      "  Saved to: /home/snt/projects_lujun/temperature_eval_github/temperature_eval/data/Additional_Results/new_topkp_sampling/evaluated_Llama-3.3-70B-Instruct_vllm_exp_dataset_csv_Llama-3.1-8B-Instruct-awq__20250407_220738_r_2.0_p_0.8_k_2_MT.jsonl\n",
      "\n",
      "Processing: /home/snt/projects_lujun/temperature_eval_github/temperature_eval/data/Additional_Results/new_topkp_sampling/vllm_exp_dataset_csv_Llama-3.1-8B-Instruct-awq__20250409_010917_r_0.0_p_1.0_k_5.jsonl\n",
      "/home/snt/projects_lujun/temperature_eval_github/temperature_eval/data/Additional_Results/new_topkp_sampling/vllm_exp_dataset_csv_Llama-3.1-8B-Instruct-awq__20250409_010917_r_0.0_p_1.0_k_5.jsonl\n",
      "[WARNING] Skipping bad line in /home/snt/projects_lujun/temperature_eval_github/temperature_eval/data/Additional_Results/new_topkp_sampling/vllm_exp_dataset_csv_Llama-3.1-8B-Instruct-awq__20250409_010917_r_0.0_p_1.0_k_5.jsonl: Unterminated string starting at: line 1 column 10 (char 9)\n"
     ]
    },
    {
     "name": "stderr",
     "output_type": "stream",
     "text": [
      "100%|██████████| 1800/1800 [00:00<00:00, 4621.46it/s]\n",
      "/tmp/ipykernel_3440479/1085042317.py:95: SettingWithCopyWarning: \n",
      "A value is trying to be set on a copy of a slice from a DataFrame.\n",
      "Try using .loc[row_indexer,col_indexer] = value instead\n",
      "\n",
      "See the caveats in the documentation: https://pandas.pydata.org/pandas-docs/stable/user_guide/indexing.html#returning-a-view-versus-a-copy\n",
      "  MT_df[\"MT_accuracy\"] = MT_df.progress_apply(compute_bleu_score, axis=1)\n"
     ]
    },
    {
     "name": "stdout",
     "output_type": "stream",
     "text": [
      "  Saved to: /home/snt/projects_lujun/temperature_eval_github/temperature_eval/data/Additional_Results/new_topkp_sampling/evaluated_Llama-3.3-70B-Instruct_vllm_exp_dataset_csv_Llama-3.1-8B-Instruct-awq__20250409_010917_r_0.0_p_1.0_k_5_MT.jsonl\n",
      "\n",
      "Processing: /home/snt/projects_lujun/temperature_eval_github/temperature_eval/data/Additional_Results/new_topkp_sampling/vllm_exp_dataset_csv_Llama-3.1-8B-Instruct-awq__20250409_114245_r_2.0_p_0.8_k_10.jsonl\n",
      "/home/snt/projects_lujun/temperature_eval_github/temperature_eval/data/Additional_Results/new_topkp_sampling/vllm_exp_dataset_csv_Llama-3.1-8B-Instruct-awq__20250409_114245_r_2.0_p_0.8_k_10.jsonl\n",
      "[WARNING] Skipping bad line in /home/snt/projects_lujun/temperature_eval_github/temperature_eval/data/Additional_Results/new_topkp_sampling/vllm_exp_dataset_csv_Llama-3.1-8B-Instruct-awq__20250409_114245_r_2.0_p_0.8_k_10.jsonl: Unterminated string starting at: line 1 column 2405 (char 2404)\n"
     ]
    },
    {
     "name": "stderr",
     "output_type": "stream",
     "text": [
      "100%|██████████| 2100/2100 [00:00<00:00, 4028.80it/s]\n",
      "/tmp/ipykernel_3440479/1085042317.py:95: SettingWithCopyWarning: \n",
      "A value is trying to be set on a copy of a slice from a DataFrame.\n",
      "Try using .loc[row_indexer,col_indexer] = value instead\n",
      "\n",
      "See the caveats in the documentation: https://pandas.pydata.org/pandas-docs/stable/user_guide/indexing.html#returning-a-view-versus-a-copy\n",
      "  MT_df[\"MT_accuracy\"] = MT_df.progress_apply(compute_bleu_score, axis=1)\n"
     ]
    },
    {
     "name": "stdout",
     "output_type": "stream",
     "text": [
      "  Saved to: /home/snt/projects_lujun/temperature_eval_github/temperature_eval/data/Additional_Results/new_topkp_sampling/evaluated_Llama-3.3-70B-Instruct_vllm_exp_dataset_csv_Llama-3.1-8B-Instruct-awq__20250409_114245_r_2.0_p_0.8_k_10_MT.jsonl\n",
      "\n",
      "Processing: /home/snt/projects_lujun/temperature_eval_github/temperature_eval/data/Additional_Results/new_topkp_sampling/vllm_exp_dataset_csv_Mixtral-8x7B-Instruct-v0.1-awq__20250410_103718_r_1.0_p_0.8_k_10.jsonl\n",
      "/home/snt/projects_lujun/temperature_eval_github/temperature_eval/data/Additional_Results/new_topkp_sampling/vllm_exp_dataset_csv_Mixtral-8x7B-Instruct-v0.1-awq__20250410_103718_r_1.0_p_0.8_k_10.jsonl\n",
      "[WARNING] Skipping bad line in /home/snt/projects_lujun/temperature_eval_github/temperature_eval/data/Additional_Results/new_topkp_sampling/vllm_exp_dataset_csv_Mixtral-8x7B-Instruct-v0.1-awq__20250410_103718_r_1.0_p_0.8_k_10.jsonl: Unterminated string starting at: line 1 column 10 (char 9)\n"
     ]
    },
    {
     "name": "stderr",
     "output_type": "stream",
     "text": [
      "100%|██████████| 1800/1800 [00:00<00:00, 3216.35it/s]\n",
      "/tmp/ipykernel_3440479/1085042317.py:95: SettingWithCopyWarning: \n",
      "A value is trying to be set on a copy of a slice from a DataFrame.\n",
      "Try using .loc[row_indexer,col_indexer] = value instead\n",
      "\n",
      "See the caveats in the documentation: https://pandas.pydata.org/pandas-docs/stable/user_guide/indexing.html#returning-a-view-versus-a-copy\n",
      "  MT_df[\"MT_accuracy\"] = MT_df.progress_apply(compute_bleu_score, axis=1)\n"
     ]
    },
    {
     "name": "stdout",
     "output_type": "stream",
     "text": [
      "  Saved to: /home/snt/projects_lujun/temperature_eval_github/temperature_eval/data/Additional_Results/new_topkp_sampling/evaluated_Llama-3.3-70B-Instruct_vllm_exp_dataset_csv_Mixtral-8x7B-Instruct-v0.1-awq__20250410_103718_r_1.0_p_0.8_k_10_MT.jsonl\n",
      "\n",
      "Processing: /home/snt/projects_lujun/temperature_eval_github/temperature_eval/data/Additional_Results/new_topkp_sampling/vllm_exp_dataset_csv_Llama-3.1-8B-Instruct-awq__20250408_231000_r_2.0_p_0.9_k_5.jsonl\n",
      "/home/snt/projects_lujun/temperature_eval_github/temperature_eval/data/Additional_Results/new_topkp_sampling/vllm_exp_dataset_csv_Llama-3.1-8B-Instruct-awq__20250408_231000_r_2.0_p_0.9_k_5.jsonl\n",
      "[WARNING] Skipping bad line in /home/snt/projects_lujun/temperature_eval_github/temperature_eval/data/Additional_Results/new_topkp_sampling/vllm_exp_dataset_csv_Llama-3.1-8B-Instruct-awq__20250408_231000_r_2.0_p_0.9_k_5.jsonl: Unterminated string starting at: line 1 column 753 (char 752)\n"
     ]
    },
    {
     "name": "stderr",
     "output_type": "stream",
     "text": [
      "100%|██████████| 1800/1800 [00:00<00:00, 4420.08it/s]\n",
      "/tmp/ipykernel_3440479/1085042317.py:95: SettingWithCopyWarning: \n",
      "A value is trying to be set on a copy of a slice from a DataFrame.\n",
      "Try using .loc[row_indexer,col_indexer] = value instead\n",
      "\n",
      "See the caveats in the documentation: https://pandas.pydata.org/pandas-docs/stable/user_guide/indexing.html#returning-a-view-versus-a-copy\n",
      "  MT_df[\"MT_accuracy\"] = MT_df.progress_apply(compute_bleu_score, axis=1)\n"
     ]
    },
    {
     "name": "stdout",
     "output_type": "stream",
     "text": [
      "  Saved to: /home/snt/projects_lujun/temperature_eval_github/temperature_eval/data/Additional_Results/new_topkp_sampling/evaluated_Llama-3.3-70B-Instruct_vllm_exp_dataset_csv_Llama-3.1-8B-Instruct-awq__20250408_231000_r_2.0_p_0.9_k_5_MT.jsonl\n",
      "\n",
      "Processing: /home/snt/projects_lujun/temperature_eval_github/temperature_eval/data/Additional_Results/new_topkp_sampling/vllm_exp_dataset_csv_Mixtral-8x7B-Instruct-v0.1-awq__20250408_200811_r_1.0_p_0.9_k_2.jsonl\n",
      "/home/snt/projects_lujun/temperature_eval_github/temperature_eval/data/Additional_Results/new_topkp_sampling/vllm_exp_dataset_csv_Mixtral-8x7B-Instruct-v0.1-awq__20250408_200811_r_1.0_p_0.9_k_2.jsonl\n",
      "[WARNING] Skipping bad line in /home/snt/projects_lujun/temperature_eval_github/temperature_eval/data/Additional_Results/new_topkp_sampling/vllm_exp_dataset_csv_Mixtral-8x7B-Instruct-v0.1-awq__20250408_200811_r_1.0_p_0.9_k_2.jsonl: Unterminated string starting at: line 1 column 10 (char 9)\n"
     ]
    },
    {
     "name": "stderr",
     "output_type": "stream",
     "text": [
      "100%|██████████| 1800/1800 [00:00<00:00, 4095.89it/s]\n",
      "/tmp/ipykernel_3440479/1085042317.py:95: SettingWithCopyWarning: \n",
      "A value is trying to be set on a copy of a slice from a DataFrame.\n",
      "Try using .loc[row_indexer,col_indexer] = value instead\n",
      "\n",
      "See the caveats in the documentation: https://pandas.pydata.org/pandas-docs/stable/user_guide/indexing.html#returning-a-view-versus-a-copy\n",
      "  MT_df[\"MT_accuracy\"] = MT_df.progress_apply(compute_bleu_score, axis=1)\n"
     ]
    },
    {
     "name": "stdout",
     "output_type": "stream",
     "text": [
      "  Saved to: /home/snt/projects_lujun/temperature_eval_github/temperature_eval/data/Additional_Results/new_topkp_sampling/evaluated_Llama-3.3-70B-Instruct_vllm_exp_dataset_csv_Mixtral-8x7B-Instruct-v0.1-awq__20250408_200811_r_1.0_p_0.9_k_2_MT.jsonl\n",
      "\n",
      "Processing: /home/snt/projects_lujun/temperature_eval_github/temperature_eval/data/Additional_Results/new_topkp_sampling/vllm_exp_dataset_csv_Llama-3.1-8B-Instruct-awq__20250408_103923_r_2.0_p_1.0_k_2.jsonl\n",
      "/home/snt/projects_lujun/temperature_eval_github/temperature_eval/data/Additional_Results/new_topkp_sampling/vllm_exp_dataset_csv_Llama-3.1-8B-Instruct-awq__20250408_103923_r_2.0_p_1.0_k_2.jsonl\n",
      "[WARNING] Skipping bad line in /home/snt/projects_lujun/temperature_eval_github/temperature_eval/data/Additional_Results/new_topkp_sampling/vllm_exp_dataset_csv_Llama-3.1-8B-Instruct-awq__20250408_103923_r_2.0_p_1.0_k_2.jsonl: Unterminated string starting at: line 1 column 10 (char 9)\n"
     ]
    },
    {
     "name": "stderr",
     "output_type": "stream",
     "text": [
      "100%|██████████| 1800/1800 [00:00<00:00, 4616.37it/s]\n",
      "/tmp/ipykernel_3440479/1085042317.py:95: SettingWithCopyWarning: \n",
      "A value is trying to be set on a copy of a slice from a DataFrame.\n",
      "Try using .loc[row_indexer,col_indexer] = value instead\n",
      "\n",
      "See the caveats in the documentation: https://pandas.pydata.org/pandas-docs/stable/user_guide/indexing.html#returning-a-view-versus-a-copy\n",
      "  MT_df[\"MT_accuracy\"] = MT_df.progress_apply(compute_bleu_score, axis=1)\n"
     ]
    },
    {
     "name": "stdout",
     "output_type": "stream",
     "text": [
      "  Saved to: /home/snt/projects_lujun/temperature_eval_github/temperature_eval/data/Additional_Results/new_topkp_sampling/evaluated_Llama-3.3-70B-Instruct_vllm_exp_dataset_csv_Llama-3.1-8B-Instruct-awq__20250408_103923_r_2.0_p_1.0_k_2_MT.jsonl\n",
      "\n",
      "Processing: /home/snt/projects_lujun/temperature_eval_github/temperature_eval/data/Additional_Results/new_topkp_sampling/vllm_exp_dataset_csv_Llama-3.2-1B-Instruct-awq__20250408_062654_r_2.0_p_0.9_k_5.jsonl\n",
      "/home/snt/projects_lujun/temperature_eval_github/temperature_eval/data/Additional_Results/new_topkp_sampling/vllm_exp_dataset_csv_Llama-3.2-1B-Instruct-awq__20250408_062654_r_2.0_p_0.9_k_5.jsonl\n",
      "[WARNING] Skipping bad line in /home/snt/projects_lujun/temperature_eval_github/temperature_eval/data/Additional_Results/new_topkp_sampling/vllm_exp_dataset_csv_Llama-3.2-1B-Instruct-awq__20250408_062654_r_2.0_p_0.9_k_5.jsonl: Unterminated string starting at: line 1 column 6844 (char 6843)\n"
     ]
    },
    {
     "name": "stderr",
     "output_type": "stream",
     "text": [
      "100%|██████████| 1800/1800 [00:00<00:00, 6460.14it/s]\n",
      "/tmp/ipykernel_3440479/1085042317.py:95: SettingWithCopyWarning: \n",
      "A value is trying to be set on a copy of a slice from a DataFrame.\n",
      "Try using .loc[row_indexer,col_indexer] = value instead\n",
      "\n",
      "See the caveats in the documentation: https://pandas.pydata.org/pandas-docs/stable/user_guide/indexing.html#returning-a-view-versus-a-copy\n",
      "  MT_df[\"MT_accuracy\"] = MT_df.progress_apply(compute_bleu_score, axis=1)\n"
     ]
    },
    {
     "name": "stdout",
     "output_type": "stream",
     "text": [
      "  Saved to: /home/snt/projects_lujun/temperature_eval_github/temperature_eval/data/Additional_Results/new_topkp_sampling/evaluated_Llama-3.3-70B-Instruct_vllm_exp_dataset_csv_Llama-3.2-1B-Instruct-awq__20250408_062654_r_2.0_p_0.9_k_5_MT.jsonl\n",
      "\n",
      "Processing: /home/snt/projects_lujun/temperature_eval_github/temperature_eval/data/Additional_Results/new_topkp_sampling/vllm_exp_dataset_csv_Mixtral-8x7B-Instruct-v0.1-awq__20250412_182913_r_2.0_p_1.0_k_10.jsonl\n",
      "/home/snt/projects_lujun/temperature_eval_github/temperature_eval/data/Additional_Results/new_topkp_sampling/vllm_exp_dataset_csv_Mixtral-8x7B-Instruct-v0.1-awq__20250412_182913_r_2.0_p_1.0_k_10.jsonl\n",
      "[WARNING] Skipping bad line in /home/snt/projects_lujun/temperature_eval_github/temperature_eval/data/Additional_Results/new_topkp_sampling/vllm_exp_dataset_csv_Mixtral-8x7B-Instruct-v0.1-awq__20250412_182913_r_2.0_p_1.0_k_10.jsonl: Expecting property name enclosed in double quotes: line 1 column 4278 (char 4277)\n"
     ]
    },
    {
     "name": "stderr",
     "output_type": "stream",
     "text": [
      "100%|██████████| 1800/1800 [00:00<00:00, 2802.81it/s]\n",
      "/tmp/ipykernel_3440479/1085042317.py:95: SettingWithCopyWarning: \n",
      "A value is trying to be set on a copy of a slice from a DataFrame.\n",
      "Try using .loc[row_indexer,col_indexer] = value instead\n",
      "\n",
      "See the caveats in the documentation: https://pandas.pydata.org/pandas-docs/stable/user_guide/indexing.html#returning-a-view-versus-a-copy\n",
      "  MT_df[\"MT_accuracy\"] = MT_df.progress_apply(compute_bleu_score, axis=1)\n"
     ]
    },
    {
     "name": "stdout",
     "output_type": "stream",
     "text": [
      "  Saved to: /home/snt/projects_lujun/temperature_eval_github/temperature_eval/data/Additional_Results/new_topkp_sampling/evaluated_Llama-3.3-70B-Instruct_vllm_exp_dataset_csv_Mixtral-8x7B-Instruct-v0.1-awq__20250412_182913_r_2.0_p_1.0_k_10_MT.jsonl\n",
      "\n",
      "Processing: /home/snt/projects_lujun/temperature_eval_github/temperature_eval/data/Additional_Results/new_topkp_sampling/vllm_exp_dataset_csv_Mixtral-8x7B-Instruct-v0.1-awq__20250413_143333_r_2.0_p_1.0_k_5.jsonl\n",
      "/home/snt/projects_lujun/temperature_eval_github/temperature_eval/data/Additional_Results/new_topkp_sampling/vllm_exp_dataset_csv_Mixtral-8x7B-Instruct-v0.1-awq__20250413_143333_r_2.0_p_1.0_k_5.jsonl\n",
      "[WARNING] Skipping bad line in /home/snt/projects_lujun/temperature_eval_github/temperature_eval/data/Additional_Results/new_topkp_sampling/vllm_exp_dataset_csv_Mixtral-8x7B-Instruct-v0.1-awq__20250413_143333_r_2.0_p_1.0_k_5.jsonl: Unterminated string starting at: line 1 column 730 (char 729)\n"
     ]
    },
    {
     "name": "stderr",
     "output_type": "stream",
     "text": [
      "100%|██████████| 1800/1800 [00:00<00:00, 3102.96it/s]\n",
      "/tmp/ipykernel_3440479/1085042317.py:95: SettingWithCopyWarning: \n",
      "A value is trying to be set on a copy of a slice from a DataFrame.\n",
      "Try using .loc[row_indexer,col_indexer] = value instead\n",
      "\n",
      "See the caveats in the documentation: https://pandas.pydata.org/pandas-docs/stable/user_guide/indexing.html#returning-a-view-versus-a-copy\n",
      "  MT_df[\"MT_accuracy\"] = MT_df.progress_apply(compute_bleu_score, axis=1)\n"
     ]
    },
    {
     "name": "stdout",
     "output_type": "stream",
     "text": [
      "  Saved to: /home/snt/projects_lujun/temperature_eval_github/temperature_eval/data/Additional_Results/new_topkp_sampling/evaluated_Llama-3.3-70B-Instruct_vllm_exp_dataset_csv_Mixtral-8x7B-Instruct-v0.1-awq__20250413_143333_r_2.0_p_1.0_k_5_MT.jsonl\n",
      "\n",
      "Processing: /home/snt/projects_lujun/temperature_eval_github/temperature_eval/data/Additional_Results/new_topkp_sampling/vllm_exp_dataset_csv_Mixtral-8x7B-Instruct-v0.1-awq__20250410_170755_r_2.0_p_0.8_k_10.jsonl\n",
      "/home/snt/projects_lujun/temperature_eval_github/temperature_eval/data/Additional_Results/new_topkp_sampling/vllm_exp_dataset_csv_Mixtral-8x7B-Instruct-v0.1-awq__20250410_170755_r_2.0_p_0.8_k_10.jsonl\n",
      "[WARNING] Skipping bad line in /home/snt/projects_lujun/temperature_eval_github/temperature_eval/data/Additional_Results/new_topkp_sampling/vllm_exp_dataset_csv_Mixtral-8x7B-Instruct-v0.1-awq__20250410_170755_r_2.0_p_0.8_k_10.jsonl: Unterminated string starting at: line 1 column 10 (char 9)\n"
     ]
    },
    {
     "name": "stderr",
     "output_type": "stream",
     "text": [
      "100%|██████████| 1800/1800 [00:00<00:00, 3307.44it/s]\n",
      "/tmp/ipykernel_3440479/1085042317.py:95: SettingWithCopyWarning: \n",
      "A value is trying to be set on a copy of a slice from a DataFrame.\n",
      "Try using .loc[row_indexer,col_indexer] = value instead\n",
      "\n",
      "See the caveats in the documentation: https://pandas.pydata.org/pandas-docs/stable/user_guide/indexing.html#returning-a-view-versus-a-copy\n",
      "  MT_df[\"MT_accuracy\"] = MT_df.progress_apply(compute_bleu_score, axis=1)\n"
     ]
    },
    {
     "name": "stdout",
     "output_type": "stream",
     "text": [
      "  Saved to: /home/snt/projects_lujun/temperature_eval_github/temperature_eval/data/Additional_Results/new_topkp_sampling/evaluated_Llama-3.3-70B-Instruct_vllm_exp_dataset_csv_Mixtral-8x7B-Instruct-v0.1-awq__20250410_170755_r_2.0_p_0.8_k_10_MT.jsonl\n",
      "\n",
      "Processing: /home/snt/projects_lujun/temperature_eval_github/temperature_eval/data/Additional_Results/new_topkp_sampling/vllm_exp_dataset_csv_Llama-3.2-1B-Instruct-awq__20250408_010438_r_2.0_p_1.0_k_2.jsonl\n",
      "/home/snt/projects_lujun/temperature_eval_github/temperature_eval/data/Additional_Results/new_topkp_sampling/vllm_exp_dataset_csv_Llama-3.2-1B-Instruct-awq__20250408_010438_r_2.0_p_1.0_k_2.jsonl\n",
      "[WARNING] Skipping bad line in /home/snt/projects_lujun/temperature_eval_github/temperature_eval/data/Additional_Results/new_topkp_sampling/vllm_exp_dataset_csv_Llama-3.2-1B-Instruct-awq__20250408_010438_r_2.0_p_1.0_k_2.jsonl: Unterminated string starting at: line 1 column 10 (char 9)\n"
     ]
    },
    {
     "name": "stderr",
     "output_type": "stream",
     "text": [
      "100%|██████████| 1800/1800 [00:00<00:00, 6269.52it/s]\n",
      "/tmp/ipykernel_3440479/1085042317.py:95: SettingWithCopyWarning: \n",
      "A value is trying to be set on a copy of a slice from a DataFrame.\n",
      "Try using .loc[row_indexer,col_indexer] = value instead\n",
      "\n",
      "See the caveats in the documentation: https://pandas.pydata.org/pandas-docs/stable/user_guide/indexing.html#returning-a-view-versus-a-copy\n",
      "  MT_df[\"MT_accuracy\"] = MT_df.progress_apply(compute_bleu_score, axis=1)\n"
     ]
    },
    {
     "name": "stdout",
     "output_type": "stream",
     "text": [
      "  Saved to: /home/snt/projects_lujun/temperature_eval_github/temperature_eval/data/Additional_Results/new_topkp_sampling/evaluated_Llama-3.3-70B-Instruct_vllm_exp_dataset_csv_Llama-3.2-1B-Instruct-awq__20250408_010438_r_2.0_p_1.0_k_2_MT.jsonl\n",
      "\n",
      "Processing: /home/snt/projects_lujun/temperature_eval_github/temperature_eval/data/Additional_Results/new_topkp_sampling/vllm_exp_dataset_csv_Llama-3.2-1B-Instruct-awq__20250408_001255_r_1.0_p_1.0_k_2.jsonl\n",
      "/home/snt/projects_lujun/temperature_eval_github/temperature_eval/data/Additional_Results/new_topkp_sampling/vllm_exp_dataset_csv_Llama-3.2-1B-Instruct-awq__20250408_001255_r_1.0_p_1.0_k_2.jsonl\n",
      "[WARNING] Skipping bad line in /home/snt/projects_lujun/temperature_eval_github/temperature_eval/data/Additional_Results/new_topkp_sampling/vllm_exp_dataset_csv_Llama-3.2-1B-Instruct-awq__20250408_001255_r_1.0_p_1.0_k_2.jsonl: Unterminated string starting at: line 1 column 10 (char 9)\n"
     ]
    },
    {
     "name": "stderr",
     "output_type": "stream",
     "text": [
      "100%|██████████| 2100/2100 [00:00<00:00, 6284.98it/s]\n",
      "/tmp/ipykernel_3440479/1085042317.py:95: SettingWithCopyWarning: \n",
      "A value is trying to be set on a copy of a slice from a DataFrame.\n",
      "Try using .loc[row_indexer,col_indexer] = value instead\n",
      "\n",
      "See the caveats in the documentation: https://pandas.pydata.org/pandas-docs/stable/user_guide/indexing.html#returning-a-view-versus-a-copy\n",
      "  MT_df[\"MT_accuracy\"] = MT_df.progress_apply(compute_bleu_score, axis=1)\n"
     ]
    },
    {
     "name": "stdout",
     "output_type": "stream",
     "text": [
      "  Saved to: /home/snt/projects_lujun/temperature_eval_github/temperature_eval/data/Additional_Results/new_topkp_sampling/evaluated_Llama-3.3-70B-Instruct_vllm_exp_dataset_csv_Llama-3.2-1B-Instruct-awq__20250408_001255_r_1.0_p_1.0_k_2_MT.jsonl\n",
      "\n",
      "Processing: /home/snt/projects_lujun/temperature_eval_github/temperature_eval/data/Additional_Results/new_topkp_sampling/vllm_exp_dataset_csv_Llama-3.1-8B-Instruct-awq__20250407_174856_r_0.0_p_0.8_k_2.jsonl\n",
      "/home/snt/projects_lujun/temperature_eval_github/temperature_eval/data/Additional_Results/new_topkp_sampling/vllm_exp_dataset_csv_Llama-3.1-8B-Instruct-awq__20250407_174856_r_0.0_p_0.8_k_2.jsonl\n",
      "[WARNING] Skipping bad line in /home/snt/projects_lujun/temperature_eval_github/temperature_eval/data/Additional_Results/new_topkp_sampling/vllm_exp_dataset_csv_Llama-3.1-8B-Instruct-awq__20250407_174856_r_0.0_p_0.8_k_2.jsonl: Unterminated string starting at: line 1 column 10 (char 9)\n"
     ]
    },
    {
     "name": "stderr",
     "output_type": "stream",
     "text": [
      "100%|██████████| 2100/2100 [00:00<00:00, 4516.77it/s]\n",
      "/tmp/ipykernel_3440479/1085042317.py:95: SettingWithCopyWarning: \n",
      "A value is trying to be set on a copy of a slice from a DataFrame.\n",
      "Try using .loc[row_indexer,col_indexer] = value instead\n",
      "\n",
      "See the caveats in the documentation: https://pandas.pydata.org/pandas-docs/stable/user_guide/indexing.html#returning-a-view-versus-a-copy\n",
      "  MT_df[\"MT_accuracy\"] = MT_df.progress_apply(compute_bleu_score, axis=1)\n"
     ]
    },
    {
     "name": "stdout",
     "output_type": "stream",
     "text": [
      "  Saved to: /home/snt/projects_lujun/temperature_eval_github/temperature_eval/data/Additional_Results/new_topkp_sampling/evaluated_Llama-3.3-70B-Instruct_vllm_exp_dataset_csv_Llama-3.1-8B-Instruct-awq__20250407_174856_r_0.0_p_0.8_k_2_MT.jsonl\n",
      "\n",
      "Processing: /home/snt/projects_lujun/temperature_eval_github/temperature_eval/data/Additional_Results/new_topkp_sampling/vllm_exp_dataset_csv_Mixtral-8x7B-Instruct-v0.1-awq__20250410_045029_r_0.0_p_0.8_k_5.jsonl\n",
      "/home/snt/projects_lujun/temperature_eval_github/temperature_eval/data/Additional_Results/new_topkp_sampling/vllm_exp_dataset_csv_Mixtral-8x7B-Instruct-v0.1-awq__20250410_045029_r_0.0_p_0.8_k_5.jsonl\n",
      "[WARNING] Skipping bad line in /home/snt/projects_lujun/temperature_eval_github/temperature_eval/data/Additional_Results/new_topkp_sampling/vllm_exp_dataset_csv_Mixtral-8x7B-Instruct-v0.1-awq__20250410_045029_r_0.0_p_0.8_k_5.jsonl: Unterminated string starting at: line 1 column 10 (char 9)\n"
     ]
    },
    {
     "name": "stderr",
     "output_type": "stream",
     "text": [
      "100%|██████████| 2100/2100 [00:00<00:00, 3259.01it/s]\n",
      "/tmp/ipykernel_3440479/1085042317.py:95: SettingWithCopyWarning: \n",
      "A value is trying to be set on a copy of a slice from a DataFrame.\n",
      "Try using .loc[row_indexer,col_indexer] = value instead\n",
      "\n",
      "See the caveats in the documentation: https://pandas.pydata.org/pandas-docs/stable/user_guide/indexing.html#returning-a-view-versus-a-copy\n",
      "  MT_df[\"MT_accuracy\"] = MT_df.progress_apply(compute_bleu_score, axis=1)\n"
     ]
    },
    {
     "name": "stdout",
     "output_type": "stream",
     "text": [
      "  Saved to: /home/snt/projects_lujun/temperature_eval_github/temperature_eval/data/Additional_Results/new_topkp_sampling/evaluated_Llama-3.3-70B-Instruct_vllm_exp_dataset_csv_Mixtral-8x7B-Instruct-v0.1-awq__20250410_045029_r_0.0_p_0.8_k_5_MT.jsonl\n",
      "\n",
      "Processing: /home/snt/projects_lujun/temperature_eval_github/temperature_eval/data/Additional_Results/new_topkp_sampling/vllm_exp_dataset_csv_Llama-3.2-1B-Instruct-awq__20250408_081545_r_1.0_p_1.0_k_5.jsonl\n",
      "/home/snt/projects_lujun/temperature_eval_github/temperature_eval/data/Additional_Results/new_topkp_sampling/vllm_exp_dataset_csv_Llama-3.2-1B-Instruct-awq__20250408_081545_r_1.0_p_1.0_k_5.jsonl\n",
      "[WARNING] Skipping bad line in /home/snt/projects_lujun/temperature_eval_github/temperature_eval/data/Additional_Results/new_topkp_sampling/vllm_exp_dataset_csv_Llama-3.2-1B-Instruct-awq__20250408_081545_r_1.0_p_1.0_k_5.jsonl: Unterminated string starting at: line 1 column 10 (char 9)\n"
     ]
    },
    {
     "name": "stderr",
     "output_type": "stream",
     "text": [
      "100%|██████████| 2100/2100 [00:00<00:00, 6162.71it/s]\n",
      "/tmp/ipykernel_3440479/1085042317.py:95: SettingWithCopyWarning: \n",
      "A value is trying to be set on a copy of a slice from a DataFrame.\n",
      "Try using .loc[row_indexer,col_indexer] = value instead\n",
      "\n",
      "See the caveats in the documentation: https://pandas.pydata.org/pandas-docs/stable/user_guide/indexing.html#returning-a-view-versus-a-copy\n",
      "  MT_df[\"MT_accuracy\"] = MT_df.progress_apply(compute_bleu_score, axis=1)\n"
     ]
    },
    {
     "name": "stdout",
     "output_type": "stream",
     "text": [
      "  Saved to: /home/snt/projects_lujun/temperature_eval_github/temperature_eval/data/Additional_Results/new_topkp_sampling/evaluated_Llama-3.3-70B-Instruct_vllm_exp_dataset_csv_Llama-3.2-1B-Instruct-awq__20250408_081545_r_1.0_p_1.0_k_5_MT.jsonl\n",
      "\n",
      "Processing: /home/snt/projects_lujun/temperature_eval_github/temperature_eval/data/Additional_Results/new_topkp_sampling/vllm_exp_dataset_csv_Mixtral-8x7B-Instruct-v0.1-awq__20250412_105006_r_1.0_p_1.0_k_10.jsonl\n",
      "/home/snt/projects_lujun/temperature_eval_github/temperature_eval/data/Additional_Results/new_topkp_sampling/vllm_exp_dataset_csv_Mixtral-8x7B-Instruct-v0.1-awq__20250412_105006_r_1.0_p_1.0_k_10.jsonl\n",
      "[WARNING] Skipping bad line in /home/snt/projects_lujun/temperature_eval_github/temperature_eval/data/Additional_Results/new_topkp_sampling/vllm_exp_dataset_csv_Mixtral-8x7B-Instruct-v0.1-awq__20250412_105006_r_1.0_p_1.0_k_10.jsonl: Unterminated string starting at: line 1 column 250 (char 249)\n"
     ]
    },
    {
     "name": "stderr",
     "output_type": "stream",
     "text": [
      "100%|██████████| 1800/1800 [00:00<00:00, 3048.50it/s]\n",
      "/tmp/ipykernel_3440479/1085042317.py:95: SettingWithCopyWarning: \n",
      "A value is trying to be set on a copy of a slice from a DataFrame.\n",
      "Try using .loc[row_indexer,col_indexer] = value instead\n",
      "\n",
      "See the caveats in the documentation: https://pandas.pydata.org/pandas-docs/stable/user_guide/indexing.html#returning-a-view-versus-a-copy\n",
      "  MT_df[\"MT_accuracy\"] = MT_df.progress_apply(compute_bleu_score, axis=1)\n"
     ]
    },
    {
     "name": "stdout",
     "output_type": "stream",
     "text": [
      "  Saved to: /home/snt/projects_lujun/temperature_eval_github/temperature_eval/data/Additional_Results/new_topkp_sampling/evaluated_Llama-3.3-70B-Instruct_vllm_exp_dataset_csv_Mixtral-8x7B-Instruct-v0.1-awq__20250412_105006_r_1.0_p_1.0_k_10_MT.jsonl\n",
      "\n",
      "Processing: /home/snt/projects_lujun/temperature_eval_github/temperature_eval/data/Additional_Results/new_topkp_sampling/vllm_exp_dataset_csv_Llama-3.1-8B-Instruct-awq__20250408_042202_r_2.0_p_0.9_k_2.jsonl\n",
      "/home/snt/projects_lujun/temperature_eval_github/temperature_eval/data/Additional_Results/new_topkp_sampling/vllm_exp_dataset_csv_Llama-3.1-8B-Instruct-awq__20250408_042202_r_2.0_p_0.9_k_2.jsonl\n",
      "[WARNING] Skipping bad line in /home/snt/projects_lujun/temperature_eval_github/temperature_eval/data/Additional_Results/new_topkp_sampling/vllm_exp_dataset_csv_Llama-3.1-8B-Instruct-awq__20250408_042202_r_2.0_p_0.9_k_2.jsonl: Unterminated string starting at: line 1 column 10 (char 9)\n"
     ]
    },
    {
     "name": "stderr",
     "output_type": "stream",
     "text": [
      "100%|██████████| 1800/1800 [00:00<00:00, 5781.95it/s]\n",
      "/tmp/ipykernel_3440479/1085042317.py:95: SettingWithCopyWarning: \n",
      "A value is trying to be set on a copy of a slice from a DataFrame.\n",
      "Try using .loc[row_indexer,col_indexer] = value instead\n",
      "\n",
      "See the caveats in the documentation: https://pandas.pydata.org/pandas-docs/stable/user_guide/indexing.html#returning-a-view-versus-a-copy\n",
      "  MT_df[\"MT_accuracy\"] = MT_df.progress_apply(compute_bleu_score, axis=1)\n"
     ]
    },
    {
     "name": "stdout",
     "output_type": "stream",
     "text": [
      "  Saved to: /home/snt/projects_lujun/temperature_eval_github/temperature_eval/data/Additional_Results/new_topkp_sampling/evaluated_Llama-3.3-70B-Instruct_vllm_exp_dataset_csv_Llama-3.1-8B-Instruct-awq__20250408_042202_r_2.0_p_0.9_k_2_MT.jsonl\n",
      "\n",
      "Processing: /home/snt/projects_lujun/temperature_eval_github/temperature_eval/data/Additional_Results/new_topkp_sampling/vllm_exp_dataset_csv_Llama-3.1-8B-Instruct-awq__20250409_134146_r_0.0_p_0.9_k_10.jsonl\n",
      "/home/snt/projects_lujun/temperature_eval_github/temperature_eval/data/Additional_Results/new_topkp_sampling/vllm_exp_dataset_csv_Llama-3.1-8B-Instruct-awq__20250409_134146_r_0.0_p_0.9_k_10.jsonl\n",
      "[WARNING] Skipping bad line in /home/snt/projects_lujun/temperature_eval_github/temperature_eval/data/Additional_Results/new_topkp_sampling/vllm_exp_dataset_csv_Llama-3.1-8B-Instruct-awq__20250409_134146_r_0.0_p_0.9_k_10.jsonl: Unterminated string starting at: line 1 column 1339 (char 1338)\n"
     ]
    },
    {
     "name": "stderr",
     "output_type": "stream",
     "text": [
      "100%|██████████| 1800/1800 [00:00<00:00, 4626.00it/s]\n",
      "/tmp/ipykernel_3440479/1085042317.py:95: SettingWithCopyWarning: \n",
      "A value is trying to be set on a copy of a slice from a DataFrame.\n",
      "Try using .loc[row_indexer,col_indexer] = value instead\n",
      "\n",
      "See the caveats in the documentation: https://pandas.pydata.org/pandas-docs/stable/user_guide/indexing.html#returning-a-view-versus-a-copy\n",
      "  MT_df[\"MT_accuracy\"] = MT_df.progress_apply(compute_bleu_score, axis=1)\n"
     ]
    },
    {
     "name": "stdout",
     "output_type": "stream",
     "text": [
      "  Saved to: /home/snt/projects_lujun/temperature_eval_github/temperature_eval/data/Additional_Results/new_topkp_sampling/evaluated_Llama-3.3-70B-Instruct_vllm_exp_dataset_csv_Llama-3.1-8B-Instruct-awq__20250409_134146_r_0.0_p_0.9_k_10_MT.jsonl\n",
      "\n",
      "Processing: /home/snt/projects_lujun/temperature_eval_github/temperature_eval/data/Additional_Results/new_topkp_sampling/vllm_exp_dataset_csv_Llama-3.1-8B-Instruct-awq__20250409_032230_r_1.0_p_1.0_k_5.jsonl\n",
      "/home/snt/projects_lujun/temperature_eval_github/temperature_eval/data/Additional_Results/new_topkp_sampling/vllm_exp_dataset_csv_Llama-3.1-8B-Instruct-awq__20250409_032230_r_1.0_p_1.0_k_5.jsonl\n",
      "[WARNING] Skipping bad line in /home/snt/projects_lujun/temperature_eval_github/temperature_eval/data/Additional_Results/new_topkp_sampling/vllm_exp_dataset_csv_Llama-3.1-8B-Instruct-awq__20250409_032230_r_1.0_p_1.0_k_5.jsonl: Unterminated string starting at: line 1 column 10 (char 9)\n"
     ]
    },
    {
     "name": "stderr",
     "output_type": "stream",
     "text": [
      "100%|██████████| 1800/1800 [00:00<00:00, 4737.53it/s]\n",
      "/tmp/ipykernel_3440479/1085042317.py:95: SettingWithCopyWarning: \n",
      "A value is trying to be set on a copy of a slice from a DataFrame.\n",
      "Try using .loc[row_indexer,col_indexer] = value instead\n",
      "\n",
      "See the caveats in the documentation: https://pandas.pydata.org/pandas-docs/stable/user_guide/indexing.html#returning-a-view-versus-a-copy\n",
      "  MT_df[\"MT_accuracy\"] = MT_df.progress_apply(compute_bleu_score, axis=1)\n"
     ]
    },
    {
     "name": "stdout",
     "output_type": "stream",
     "text": [
      "  Saved to: /home/snt/projects_lujun/temperature_eval_github/temperature_eval/data/Additional_Results/new_topkp_sampling/evaluated_Llama-3.3-70B-Instruct_vllm_exp_dataset_csv_Llama-3.1-8B-Instruct-awq__20250409_032230_r_1.0_p_1.0_k_5_MT.jsonl\n",
      "\n",
      "Processing: /home/snt/projects_lujun/temperature_eval_github/temperature_eval/data/Additional_Results/new_topkp_sampling/vllm_exp_dataset_csv_Mixtral-8x7B-Instruct-v0.1-awq__20250412_181915_r_2.0_p_0.9_k_5.jsonl\n",
      "/home/snt/projects_lujun/temperature_eval_github/temperature_eval/data/Additional_Results/new_topkp_sampling/vllm_exp_dataset_csv_Mixtral-8x7B-Instruct-v0.1-awq__20250412_181915_r_2.0_p_0.9_k_5.jsonl\n",
      "[WARNING] Skipping bad line in /home/snt/projects_lujun/temperature_eval_github/temperature_eval/data/Additional_Results/new_topkp_sampling/vllm_exp_dataset_csv_Mixtral-8x7B-Instruct-v0.1-awq__20250412_181915_r_2.0_p_0.9_k_5.jsonl: Unterminated string starting at: line 1 column 1450 (char 1449)\n"
     ]
    },
    {
     "name": "stderr",
     "output_type": "stream",
     "text": [
      "100%|██████████| 1800/1800 [00:00<00:00, 3511.42it/s]\n",
      "/tmp/ipykernel_3440479/1085042317.py:95: SettingWithCopyWarning: \n",
      "A value is trying to be set on a copy of a slice from a DataFrame.\n",
      "Try using .loc[row_indexer,col_indexer] = value instead\n",
      "\n",
      "See the caveats in the documentation: https://pandas.pydata.org/pandas-docs/stable/user_guide/indexing.html#returning-a-view-versus-a-copy\n",
      "  MT_df[\"MT_accuracy\"] = MT_df.progress_apply(compute_bleu_score, axis=1)\n"
     ]
    },
    {
     "name": "stdout",
     "output_type": "stream",
     "text": [
      "  Saved to: /home/snt/projects_lujun/temperature_eval_github/temperature_eval/data/Additional_Results/new_topkp_sampling/evaluated_Llama-3.3-70B-Instruct_vllm_exp_dataset_csv_Mixtral-8x7B-Instruct-v0.1-awq__20250412_181915_r_2.0_p_0.9_k_5_MT.jsonl\n",
      "\n",
      "Processing: /home/snt/projects_lujun/temperature_eval_github/temperature_eval/data/Additional_Results/new_topkp_sampling/vllm_exp_dataset_csv_Mixtral-8x7B-Instruct-v0.1-awq__20250407_174934_r_0.0_p_0.8_k_2.jsonl\n",
      "/home/snt/projects_lujun/temperature_eval_github/temperature_eval/data/Additional_Results/new_topkp_sampling/vllm_exp_dataset_csv_Mixtral-8x7B-Instruct-v0.1-awq__20250407_174934_r_0.0_p_0.8_k_2.jsonl\n",
      "[WARNING] Skipping bad line in /home/snt/projects_lujun/temperature_eval_github/temperature_eval/data/Additional_Results/new_topkp_sampling/vllm_exp_dataset_csv_Mixtral-8x7B-Instruct-v0.1-awq__20250407_174934_r_0.0_p_0.8_k_2.jsonl: Unterminated string starting at: line 1 column 544 (char 543)\n"
     ]
    },
    {
     "name": "stderr",
     "output_type": "stream",
     "text": [
      "100%|██████████| 1800/1800 [00:00<00:00, 3415.76it/s]\n",
      "/tmp/ipykernel_3440479/1085042317.py:95: SettingWithCopyWarning: \n",
      "A value is trying to be set on a copy of a slice from a DataFrame.\n",
      "Try using .loc[row_indexer,col_indexer] = value instead\n",
      "\n",
      "See the caveats in the documentation: https://pandas.pydata.org/pandas-docs/stable/user_guide/indexing.html#returning-a-view-versus-a-copy\n",
      "  MT_df[\"MT_accuracy\"] = MT_df.progress_apply(compute_bleu_score, axis=1)\n"
     ]
    },
    {
     "name": "stdout",
     "output_type": "stream",
     "text": [
      "  Saved to: /home/snt/projects_lujun/temperature_eval_github/temperature_eval/data/Additional_Results/new_topkp_sampling/evaluated_Llama-3.3-70B-Instruct_vllm_exp_dataset_csv_Mixtral-8x7B-Instruct-v0.1-awq__20250407_174934_r_0.0_p_0.8_k_2_MT.jsonl\n",
      "\n",
      "Processing: /home/snt/projects_lujun/temperature_eval_github/temperature_eval/data/Additional_Results/new_topkp_sampling/vllm_exp_dataset_csv_Llama-3.2-1B-Instruct-awq__20250408_095352_r_0.0_p_0.8_k_10.jsonl\n",
      "/home/snt/projects_lujun/temperature_eval_github/temperature_eval/data/Additional_Results/new_topkp_sampling/vllm_exp_dataset_csv_Llama-3.2-1B-Instruct-awq__20250408_095352_r_0.0_p_0.8_k_10.jsonl\n",
      "[WARNING] Skipping bad line in /home/snt/projects_lujun/temperature_eval_github/temperature_eval/data/Additional_Results/new_topkp_sampling/vllm_exp_dataset_csv_Llama-3.2-1B-Instruct-awq__20250408_095352_r_0.0_p_0.8_k_10.jsonl: Unterminated string starting at: line 1 column 5910 (char 5909)\n"
     ]
    },
    {
     "name": "stderr",
     "output_type": "stream",
     "text": [
      "100%|██████████| 1800/1800 [00:00<00:00, 4938.77it/s]\n",
      "/tmp/ipykernel_3440479/1085042317.py:95: SettingWithCopyWarning: \n",
      "A value is trying to be set on a copy of a slice from a DataFrame.\n",
      "Try using .loc[row_indexer,col_indexer] = value instead\n",
      "\n",
      "See the caveats in the documentation: https://pandas.pydata.org/pandas-docs/stable/user_guide/indexing.html#returning-a-view-versus-a-copy\n",
      "  MT_df[\"MT_accuracy\"] = MT_df.progress_apply(compute_bleu_score, axis=1)\n"
     ]
    },
    {
     "name": "stdout",
     "output_type": "stream",
     "text": [
      "  Saved to: /home/snt/projects_lujun/temperature_eval_github/temperature_eval/data/Additional_Results/new_topkp_sampling/evaluated_Llama-3.3-70B-Instruct_vllm_exp_dataset_csv_Llama-3.2-1B-Instruct-awq__20250408_095352_r_0.0_p_0.8_k_10_MT.jsonl\n",
      "\n",
      "Processing: /home/snt/projects_lujun/temperature_eval_github/temperature_eval/data/Additional_Results/new_topkp_sampling/vllm_exp_dataset_csv_Llama-3.2-1B-Instruct-awq__20250407_174736_r_0.0_p_0.8_k_2.jsonl\n",
      "/home/snt/projects_lujun/temperature_eval_github/temperature_eval/data/Additional_Results/new_topkp_sampling/vllm_exp_dataset_csv_Llama-3.2-1B-Instruct-awq__20250407_174736_r_0.0_p_0.8_k_2.jsonl\n",
      "[WARNING] Skipping bad line in /home/snt/projects_lujun/temperature_eval_github/temperature_eval/data/Additional_Results/new_topkp_sampling/vllm_exp_dataset_csv_Llama-3.2-1B-Instruct-awq__20250407_174736_r_0.0_p_0.8_k_2.jsonl: Expecting ':' delimiter: line 1 column 1506 (char 1505)\n"
     ]
    },
    {
     "name": "stderr",
     "output_type": "stream",
     "text": [
      "100%|██████████| 1800/1800 [00:00<00:00, 4906.69it/s]\n",
      "/tmp/ipykernel_3440479/1085042317.py:95: SettingWithCopyWarning: \n",
      "A value is trying to be set on a copy of a slice from a DataFrame.\n",
      "Try using .loc[row_indexer,col_indexer] = value instead\n",
      "\n",
      "See the caveats in the documentation: https://pandas.pydata.org/pandas-docs/stable/user_guide/indexing.html#returning-a-view-versus-a-copy\n",
      "  MT_df[\"MT_accuracy\"] = MT_df.progress_apply(compute_bleu_score, axis=1)\n"
     ]
    },
    {
     "name": "stdout",
     "output_type": "stream",
     "text": [
      "  Saved to: /home/snt/projects_lujun/temperature_eval_github/temperature_eval/data/Additional_Results/new_topkp_sampling/evaluated_Llama-3.3-70B-Instruct_vllm_exp_dataset_csv_Llama-3.2-1B-Instruct-awq__20250407_174736_r_0.0_p_0.8_k_2_MT.jsonl\n",
      "\n",
      "Processing: /home/snt/projects_lujun/temperature_eval_github/temperature_eval/data/Additional_Results/new_topkp_sampling/vllm_exp_dataset_csv_Mixtral-8x7B-Instruct-v0.1-awq__20250410_235124_r_0.0_p_0.9_k_10.jsonl\n",
      "/home/snt/projects_lujun/temperature_eval_github/temperature_eval/data/Additional_Results/new_topkp_sampling/vllm_exp_dataset_csv_Mixtral-8x7B-Instruct-v0.1-awq__20250410_235124_r_0.0_p_0.9_k_10.jsonl\n",
      "[WARNING] Skipping bad line in /home/snt/projects_lujun/temperature_eval_github/temperature_eval/data/Additional_Results/new_topkp_sampling/vllm_exp_dataset_csv_Mixtral-8x7B-Instruct-v0.1-awq__20250410_235124_r_0.0_p_0.9_k_10.jsonl: Unterminated string starting at: line 1 column 10 (char 9)\n"
     ]
    },
    {
     "name": "stderr",
     "output_type": "stream",
     "text": [
      "100%|██████████| 2100/2100 [00:00<00:00, 3044.68it/s]\n",
      "/tmp/ipykernel_3440479/1085042317.py:95: SettingWithCopyWarning: \n",
      "A value is trying to be set on a copy of a slice from a DataFrame.\n",
      "Try using .loc[row_indexer,col_indexer] = value instead\n",
      "\n",
      "See the caveats in the documentation: https://pandas.pydata.org/pandas-docs/stable/user_guide/indexing.html#returning-a-view-versus-a-copy\n",
      "  MT_df[\"MT_accuracy\"] = MT_df.progress_apply(compute_bleu_score, axis=1)\n"
     ]
    },
    {
     "name": "stdout",
     "output_type": "stream",
     "text": [
      "  Saved to: /home/snt/projects_lujun/temperature_eval_github/temperature_eval/data/Additional_Results/new_topkp_sampling/evaluated_Llama-3.3-70B-Instruct_vllm_exp_dataset_csv_Mixtral-8x7B-Instruct-v0.1-awq__20250410_235124_r_0.0_p_0.9_k_10_MT.jsonl\n",
      "\n",
      "Processing: /home/snt/projects_lujun/temperature_eval_github/temperature_eval/data/Additional_Results/new_topkp_sampling/vllm_exp_dataset_csv_Llama-3.1-8B-Instruct-awq__20250408_021915_r_1.0_p_0.9_k_2.jsonl\n",
      "/home/snt/projects_lujun/temperature_eval_github/temperature_eval/data/Additional_Results/new_topkp_sampling/vllm_exp_dataset_csv_Llama-3.1-8B-Instruct-awq__20250408_021915_r_1.0_p_0.9_k_2.jsonl\n",
      "[WARNING] Skipping bad line in /home/snt/projects_lujun/temperature_eval_github/temperature_eval/data/Additional_Results/new_topkp_sampling/vllm_exp_dataset_csv_Llama-3.1-8B-Instruct-awq__20250408_021915_r_1.0_p_0.9_k_2.jsonl: Unterminated string starting at: line 1 column 1347 (char 1346)\n"
     ]
    },
    {
     "name": "stderr",
     "output_type": "stream",
     "text": [
      "100%|██████████| 1800/1800 [00:00<00:00, 5399.05it/s]\n",
      "/tmp/ipykernel_3440479/1085042317.py:95: SettingWithCopyWarning: \n",
      "A value is trying to be set on a copy of a slice from a DataFrame.\n",
      "Try using .loc[row_indexer,col_indexer] = value instead\n",
      "\n",
      "See the caveats in the documentation: https://pandas.pydata.org/pandas-docs/stable/user_guide/indexing.html#returning-a-view-versus-a-copy\n",
      "  MT_df[\"MT_accuracy\"] = MT_df.progress_apply(compute_bleu_score, axis=1)\n"
     ]
    },
    {
     "name": "stdout",
     "output_type": "stream",
     "text": [
      "  Saved to: /home/snt/projects_lujun/temperature_eval_github/temperature_eval/data/Additional_Results/new_topkp_sampling/evaluated_Llama-3.3-70B-Instruct_vllm_exp_dataset_csv_Llama-3.1-8B-Instruct-awq__20250408_021915_r_1.0_p_0.9_k_2_MT.jsonl\n",
      "\n",
      "Processing: /home/snt/projects_lujun/temperature_eval_github/temperature_eval/data/Additional_Results/new_topkp_sampling/vllm_exp_dataset_csv_Mixtral-8x7B-Instruct-v0.1-awq__20250412_030118_r_1.0_p_0.8_k_5.jsonl\n",
      "/home/snt/projects_lujun/temperature_eval_github/temperature_eval/data/Additional_Results/new_topkp_sampling/vllm_exp_dataset_csv_Mixtral-8x7B-Instruct-v0.1-awq__20250412_030118_r_1.0_p_0.8_k_5.jsonl\n",
      "[WARNING] Skipping bad line in /home/snt/projects_lujun/temperature_eval_github/temperature_eval/data/Additional_Results/new_topkp_sampling/vllm_exp_dataset_csv_Mixtral-8x7B-Instruct-v0.1-awq__20250412_030118_r_1.0_p_0.8_k_5.jsonl: Unterminated string starting at: line 1 column 5903 (char 5902)\n"
     ]
    },
    {
     "name": "stderr",
     "output_type": "stream",
     "text": [
      "100%|██████████| 1800/1800 [00:00<00:00, 3215.46it/s]\n",
      "/tmp/ipykernel_3440479/1085042317.py:95: SettingWithCopyWarning: \n",
      "A value is trying to be set on a copy of a slice from a DataFrame.\n",
      "Try using .loc[row_indexer,col_indexer] = value instead\n",
      "\n",
      "See the caveats in the documentation: https://pandas.pydata.org/pandas-docs/stable/user_guide/indexing.html#returning-a-view-versus-a-copy\n",
      "  MT_df[\"MT_accuracy\"] = MT_df.progress_apply(compute_bleu_score, axis=1)\n"
     ]
    },
    {
     "name": "stdout",
     "output_type": "stream",
     "text": [
      "  Saved to: /home/snt/projects_lujun/temperature_eval_github/temperature_eval/data/Additional_Results/new_topkp_sampling/evaluated_Llama-3.3-70B-Instruct_vllm_exp_dataset_csv_Mixtral-8x7B-Instruct-v0.1-awq__20250412_030118_r_1.0_p_0.8_k_5_MT.jsonl\n",
      "\n",
      "Processing: /home/snt/projects_lujun/temperature_eval_github/temperature_eval/data/Additional_Results/new_topkp_sampling/vllm_exp_dataset_csv_Llama-3.2-1B-Instruct-awq__20250407_231111_r_0.0_p_1.0_k_2.jsonl\n",
      "/home/snt/projects_lujun/temperature_eval_github/temperature_eval/data/Additional_Results/new_topkp_sampling/vllm_exp_dataset_csv_Llama-3.2-1B-Instruct-awq__20250407_231111_r_0.0_p_1.0_k_2.jsonl\n",
      "[WARNING] Skipping bad line in /home/snt/projects_lujun/temperature_eval_github/temperature_eval/data/Additional_Results/new_topkp_sampling/vllm_exp_dataset_csv_Llama-3.2-1B-Instruct-awq__20250407_231111_r_0.0_p_1.0_k_2.jsonl: Unterminated string starting at: line 1 column 10 (char 9)\n"
     ]
    },
    {
     "name": "stderr",
     "output_type": "stream",
     "text": [
      "100%|██████████| 2100/2100 [00:00<00:00, 5070.70it/s]\n",
      "/tmp/ipykernel_3440479/1085042317.py:95: SettingWithCopyWarning: \n",
      "A value is trying to be set on a copy of a slice from a DataFrame.\n",
      "Try using .loc[row_indexer,col_indexer] = value instead\n",
      "\n",
      "See the caveats in the documentation: https://pandas.pydata.org/pandas-docs/stable/user_guide/indexing.html#returning-a-view-versus-a-copy\n",
      "  MT_df[\"MT_accuracy\"] = MT_df.progress_apply(compute_bleu_score, axis=1)\n"
     ]
    },
    {
     "name": "stdout",
     "output_type": "stream",
     "text": [
      "  Saved to: /home/snt/projects_lujun/temperature_eval_github/temperature_eval/data/Additional_Results/new_topkp_sampling/evaluated_Llama-3.3-70B-Instruct_vllm_exp_dataset_csv_Llama-3.2-1B-Instruct-awq__20250407_231111_r_0.0_p_1.0_k_2_MT.jsonl\n",
      "\n",
      "Processing: /home/snt/projects_lujun/temperature_eval_github/temperature_eval/data/Additional_Results/new_topkp_sampling/vllm_exp_dataset_csv_Llama-3.1-8B-Instruct-awq__20250408_165605_r_2.0_p_0.8_k_5.jsonl\n",
      "/home/snt/projects_lujun/temperature_eval_github/temperature_eval/data/Additional_Results/new_topkp_sampling/vllm_exp_dataset_csv_Llama-3.1-8B-Instruct-awq__20250408_165605_r_2.0_p_0.8_k_5.jsonl\n",
      "[WARNING] Skipping bad line in /home/snt/projects_lujun/temperature_eval_github/temperature_eval/data/Additional_Results/new_topkp_sampling/vllm_exp_dataset_csv_Llama-3.1-8B-Instruct-awq__20250408_165605_r_2.0_p_0.8_k_5.jsonl: Unterminated string starting at: line 1 column 10 (char 9)\n"
     ]
    },
    {
     "name": "stderr",
     "output_type": "stream",
     "text": [
      "100%|██████████| 2100/2100 [00:00<00:00, 4491.54it/s]\n",
      "/tmp/ipykernel_3440479/1085042317.py:95: SettingWithCopyWarning: \n",
      "A value is trying to be set on a copy of a slice from a DataFrame.\n",
      "Try using .loc[row_indexer,col_indexer] = value instead\n",
      "\n",
      "See the caveats in the documentation: https://pandas.pydata.org/pandas-docs/stable/user_guide/indexing.html#returning-a-view-versus-a-copy\n",
      "  MT_df[\"MT_accuracy\"] = MT_df.progress_apply(compute_bleu_score, axis=1)\n"
     ]
    },
    {
     "name": "stdout",
     "output_type": "stream",
     "text": [
      "  Saved to: /home/snt/projects_lujun/temperature_eval_github/temperature_eval/data/Additional_Results/new_topkp_sampling/evaluated_Llama-3.3-70B-Instruct_vllm_exp_dataset_csv_Llama-3.1-8B-Instruct-awq__20250408_165605_r_2.0_p_0.8_k_5_MT.jsonl\n",
      "\n",
      "Processing: /home/snt/projects_lujun/temperature_eval_github/temperature_eval/data/Additional_Results/new_topkp_sampling/vllm_exp_dataset_csv_Llama-3.2-1B-Instruct-awq__20250407_222433_r_2.0_p_0.9_k_2.jsonl\n",
      "/home/snt/projects_lujun/temperature_eval_github/temperature_eval/data/Additional_Results/new_topkp_sampling/vllm_exp_dataset_csv_Llama-3.2-1B-Instruct-awq__20250407_222433_r_2.0_p_0.9_k_2.jsonl\n",
      "[WARNING] Skipping bad line in /home/snt/projects_lujun/temperature_eval_github/temperature_eval/data/Additional_Results/new_topkp_sampling/vllm_exp_dataset_csv_Llama-3.2-1B-Instruct-awq__20250407_222433_r_2.0_p_0.9_k_2.jsonl: Unterminated string starting at: line 1 column 1704 (char 1703)\n"
     ]
    },
    {
     "name": "stderr",
     "output_type": "stream",
     "text": [
      "100%|██████████| 1800/1800 [00:00<00:00, 6596.74it/s]\n",
      "/tmp/ipykernel_3440479/1085042317.py:95: SettingWithCopyWarning: \n",
      "A value is trying to be set on a copy of a slice from a DataFrame.\n",
      "Try using .loc[row_indexer,col_indexer] = value instead\n",
      "\n",
      "See the caveats in the documentation: https://pandas.pydata.org/pandas-docs/stable/user_guide/indexing.html#returning-a-view-versus-a-copy\n",
      "  MT_df[\"MT_accuracy\"] = MT_df.progress_apply(compute_bleu_score, axis=1)\n"
     ]
    },
    {
     "name": "stdout",
     "output_type": "stream",
     "text": [
      "  Saved to: /home/snt/projects_lujun/temperature_eval_github/temperature_eval/data/Additional_Results/new_topkp_sampling/evaluated_Llama-3.3-70B-Instruct_vllm_exp_dataset_csv_Llama-3.2-1B-Instruct-awq__20250407_222433_r_2.0_p_0.9_k_2_MT.jsonl\n",
      "\n",
      "Processing: /home/snt/projects_lujun/temperature_eval_github/temperature_eval/data/Additional_Results/new_topkp_sampling/vllm_exp_dataset_csv_Llama-3.1-8B-Instruct-awq__20250409_155530_r_1.0_p_0.9_k_10.jsonl\n",
      "/home/snt/projects_lujun/temperature_eval_github/temperature_eval/data/Additional_Results/new_topkp_sampling/vllm_exp_dataset_csv_Llama-3.1-8B-Instruct-awq__20250409_155530_r_1.0_p_0.9_k_10.jsonl\n",
      "[WARNING] Skipping bad line in /home/snt/projects_lujun/temperature_eval_github/temperature_eval/data/Additional_Results/new_topkp_sampling/vllm_exp_dataset_csv_Llama-3.1-8B-Instruct-awq__20250409_155530_r_1.0_p_0.9_k_10.jsonl: Unterminated string starting at: line 1 column 10 (char 9)\n"
     ]
    },
    {
     "name": "stderr",
     "output_type": "stream",
     "text": [
      "100%|██████████| 1800/1800 [00:00<00:00, 4366.21it/s]\n",
      "/tmp/ipykernel_3440479/1085042317.py:95: SettingWithCopyWarning: \n",
      "A value is trying to be set on a copy of a slice from a DataFrame.\n",
      "Try using .loc[row_indexer,col_indexer] = value instead\n",
      "\n",
      "See the caveats in the documentation: https://pandas.pydata.org/pandas-docs/stable/user_guide/indexing.html#returning-a-view-versus-a-copy\n",
      "  MT_df[\"MT_accuracy\"] = MT_df.progress_apply(compute_bleu_score, axis=1)\n"
     ]
    },
    {
     "name": "stdout",
     "output_type": "stream",
     "text": [
      "  Saved to: /home/snt/projects_lujun/temperature_eval_github/temperature_eval/data/Additional_Results/new_topkp_sampling/evaluated_Llama-3.3-70B-Instruct_vllm_exp_dataset_csv_Llama-3.1-8B-Instruct-awq__20250409_155530_r_1.0_p_0.9_k_10_MT.jsonl\n",
      "\n",
      "Processing: /home/snt/projects_lujun/temperature_eval_github/temperature_eval/data/Additional_Results/new_topkp_sampling/vllm_exp_dataset_csv_Llama-3.2-1B-Instruct-awq__20250408_114649_r_2.0_p_0.8_k_10.jsonl\n",
      "/home/snt/projects_lujun/temperature_eval_github/temperature_eval/data/Additional_Results/new_topkp_sampling/vllm_exp_dataset_csv_Llama-3.2-1B-Instruct-awq__20250408_114649_r_2.0_p_0.8_k_10.jsonl\n",
      "[WARNING] Skipping bad line in /home/snt/projects_lujun/temperature_eval_github/temperature_eval/data/Additional_Results/new_topkp_sampling/vllm_exp_dataset_csv_Llama-3.2-1B-Instruct-awq__20250408_114649_r_2.0_p_0.8_k_10.jsonl: Expecting ',' delimiter: line 1 column 667 (char 666)\n"
     ]
    },
    {
     "name": "stderr",
     "output_type": "stream",
     "text": [
      "100%|██████████| 1840/1840 [00:00<00:00, 6279.03it/s]\n",
      "/tmp/ipykernel_3440479/1085042317.py:95: SettingWithCopyWarning: \n",
      "A value is trying to be set on a copy of a slice from a DataFrame.\n",
      "Try using .loc[row_indexer,col_indexer] = value instead\n",
      "\n",
      "See the caveats in the documentation: https://pandas.pydata.org/pandas-docs/stable/user_guide/indexing.html#returning-a-view-versus-a-copy\n",
      "  MT_df[\"MT_accuracy\"] = MT_df.progress_apply(compute_bleu_score, axis=1)\n"
     ]
    },
    {
     "name": "stdout",
     "output_type": "stream",
     "text": [
      "  Saved to: /home/snt/projects_lujun/temperature_eval_github/temperature_eval/data/Additional_Results/new_topkp_sampling/evaluated_Llama-3.3-70B-Instruct_vllm_exp_dataset_csv_Llama-3.2-1B-Instruct-awq__20250408_114649_r_2.0_p_0.8_k_10_MT.jsonl\n",
      "\n",
      "Processing: /home/snt/projects_lujun/temperature_eval_github/temperature_eval/data/Additional_Results/new_topkp_sampling/vllm_exp_dataset_csv_Llama-3.2-1B-Instruct-awq__20250408_053501_r_1.0_p_0.9_k_5.jsonl\n",
      "/home/snt/projects_lujun/temperature_eval_github/temperature_eval/data/Additional_Results/new_topkp_sampling/vllm_exp_dataset_csv_Llama-3.2-1B-Instruct-awq__20250408_053501_r_1.0_p_0.9_k_5.jsonl\n",
      "[WARNING] Skipping bad line in /home/snt/projects_lujun/temperature_eval_github/temperature_eval/data/Additional_Results/new_topkp_sampling/vllm_exp_dataset_csv_Llama-3.2-1B-Instruct-awq__20250408_053501_r_1.0_p_0.9_k_5.jsonl: Unterminated string starting at: line 1 column 10 (char 9)\n"
     ]
    },
    {
     "name": "stderr",
     "output_type": "stream",
     "text": [
      "100%|██████████| 1800/1800 [00:00<00:00, 6507.31it/s]\n",
      "/tmp/ipykernel_3440479/1085042317.py:95: SettingWithCopyWarning: \n",
      "A value is trying to be set on a copy of a slice from a DataFrame.\n",
      "Try using .loc[row_indexer,col_indexer] = value instead\n",
      "\n",
      "See the caveats in the documentation: https://pandas.pydata.org/pandas-docs/stable/user_guide/indexing.html#returning-a-view-versus-a-copy\n",
      "  MT_df[\"MT_accuracy\"] = MT_df.progress_apply(compute_bleu_score, axis=1)\n"
     ]
    },
    {
     "name": "stdout",
     "output_type": "stream",
     "text": [
      "  Saved to: /home/snt/projects_lujun/temperature_eval_github/temperature_eval/data/Additional_Results/new_topkp_sampling/evaluated_Llama-3.3-70B-Instruct_vllm_exp_dataset_csv_Llama-3.2-1B-Instruct-awq__20250408_053501_r_1.0_p_0.9_k_5_MT.jsonl\n",
      "\n",
      "Processing: /home/snt/projects_lujun/temperature_eval_github/temperature_eval/data/Additional_Results/new_topkp_sampling/vllm_exp_dataset_csv_Llama-3.2-1B-Instruct-awq__20250408_133226_r_1.0_p_0.9_k_10.jsonl\n",
      "/home/snt/projects_lujun/temperature_eval_github/temperature_eval/data/Additional_Results/new_topkp_sampling/vllm_exp_dataset_csv_Llama-3.2-1B-Instruct-awq__20250408_133226_r_1.0_p_0.9_k_10.jsonl\n",
      "[WARNING] Skipping bad line in /home/snt/projects_lujun/temperature_eval_github/temperature_eval/data/Additional_Results/new_topkp_sampling/vllm_exp_dataset_csv_Llama-3.2-1B-Instruct-awq__20250408_133226_r_1.0_p_0.9_k_10.jsonl: Unterminated string starting at: line 1 column 472 (char 471)\n"
     ]
    },
    {
     "name": "stderr",
     "output_type": "stream",
     "text": [
      "100%|██████████| 1800/1800 [00:00<00:00, 6376.14it/s]\n",
      "/tmp/ipykernel_3440479/1085042317.py:95: SettingWithCopyWarning: \n",
      "A value is trying to be set on a copy of a slice from a DataFrame.\n",
      "Try using .loc[row_indexer,col_indexer] = value instead\n",
      "\n",
      "See the caveats in the documentation: https://pandas.pydata.org/pandas-docs/stable/user_guide/indexing.html#returning-a-view-versus-a-copy\n",
      "  MT_df[\"MT_accuracy\"] = MT_df.progress_apply(compute_bleu_score, axis=1)\n"
     ]
    },
    {
     "name": "stdout",
     "output_type": "stream",
     "text": [
      "  Saved to: /home/snt/projects_lujun/temperature_eval_github/temperature_eval/data/Additional_Results/new_topkp_sampling/evaluated_Llama-3.3-70B-Instruct_vllm_exp_dataset_csv_Llama-3.2-1B-Instruct-awq__20250408_133226_r_1.0_p_0.9_k_10_MT.jsonl\n",
      "\n",
      "Processing: /home/snt/projects_lujun/temperature_eval_github/temperature_eval/data/Additional_Results/new_topkp_sampling/vllm_exp_dataset_csv_Llama-3.1-8B-Instruct-awq__20250408_145247_r_1.0_p_0.8_k_5.jsonl\n",
      "/home/snt/projects_lujun/temperature_eval_github/temperature_eval/data/Additional_Results/new_topkp_sampling/vllm_exp_dataset_csv_Llama-3.1-8B-Instruct-awq__20250408_145247_r_1.0_p_0.8_k_5.jsonl\n",
      "[WARNING] Skipping bad line in /home/snt/projects_lujun/temperature_eval_github/temperature_eval/data/Additional_Results/new_topkp_sampling/vllm_exp_dataset_csv_Llama-3.1-8B-Instruct-awq__20250408_145247_r_1.0_p_0.8_k_5.jsonl: Invalid \\uXXXX escape: line 1 column 685 (char 684)\n"
     ]
    },
    {
     "name": "stderr",
     "output_type": "stream",
     "text": [
      "100%|██████████| 1815/1815 [00:00<00:00, 4821.76it/s]\n",
      "/tmp/ipykernel_3440479/1085042317.py:95: SettingWithCopyWarning: \n",
      "A value is trying to be set on a copy of a slice from a DataFrame.\n",
      "Try using .loc[row_indexer,col_indexer] = value instead\n",
      "\n",
      "See the caveats in the documentation: https://pandas.pydata.org/pandas-docs/stable/user_guide/indexing.html#returning-a-view-versus-a-copy\n",
      "  MT_df[\"MT_accuracy\"] = MT_df.progress_apply(compute_bleu_score, axis=1)\n"
     ]
    },
    {
     "name": "stdout",
     "output_type": "stream",
     "text": [
      "  Saved to: /home/snt/projects_lujun/temperature_eval_github/temperature_eval/data/Additional_Results/new_topkp_sampling/evaluated_Llama-3.3-70B-Instruct_vllm_exp_dataset_csv_Llama-3.1-8B-Instruct-awq__20250408_145247_r_1.0_p_0.8_k_5_MT.jsonl\n",
      "\n",
      "Processing: /home/snt/projects_lujun/temperature_eval_github/temperature_eval/data/Additional_Results/new_topkp_sampling/vllm_exp_dataset_csv_Llama-3.2-1B-Instruct-awq__20250407_213244_r_1.0_p_0.9_k_2.jsonl\n",
      "/home/snt/projects_lujun/temperature_eval_github/temperature_eval/data/Additional_Results/new_topkp_sampling/vllm_exp_dataset_csv_Llama-3.2-1B-Instruct-awq__20250407_213244_r_1.0_p_0.9_k_2.jsonl\n",
      "[WARNING] Skipping bad line in /home/snt/projects_lujun/temperature_eval_github/temperature_eval/data/Additional_Results/new_topkp_sampling/vllm_exp_dataset_csv_Llama-3.2-1B-Instruct-awq__20250407_213244_r_1.0_p_0.9_k_2.jsonl: Unterminated string starting at: line 1 column 1542 (char 1541)\n"
     ]
    },
    {
     "name": "stderr",
     "output_type": "stream",
     "text": [
      "100%|██████████| 1800/1800 [00:00<00:00, 6930.12it/s]\n",
      "/tmp/ipykernel_3440479/1085042317.py:95: SettingWithCopyWarning: \n",
      "A value is trying to be set on a copy of a slice from a DataFrame.\n",
      "Try using .loc[row_indexer,col_indexer] = value instead\n",
      "\n",
      "See the caveats in the documentation: https://pandas.pydata.org/pandas-docs/stable/user_guide/indexing.html#returning-a-view-versus-a-copy\n",
      "  MT_df[\"MT_accuracy\"] = MT_df.progress_apply(compute_bleu_score, axis=1)\n"
     ]
    },
    {
     "name": "stdout",
     "output_type": "stream",
     "text": [
      "  Saved to: /home/snt/projects_lujun/temperature_eval_github/temperature_eval/data/Additional_Results/new_topkp_sampling/evaluated_Llama-3.3-70B-Instruct_vllm_exp_dataset_csv_Llama-3.2-1B-Instruct-awq__20250407_213244_r_1.0_p_0.9_k_2_MT.jsonl\n",
      "\n",
      "Processing: /home/snt/projects_lujun/temperature_eval_github/temperature_eval/data/Additional_Results/new_topkp_sampling/vllm_exp_dataset_csv_Llama-3.2-1B-Instruct-awq__20250407_185116_r_1.0_p_0.8_k_2.jsonl\n",
      "/home/snt/projects_lujun/temperature_eval_github/temperature_eval/data/Additional_Results/new_topkp_sampling/vllm_exp_dataset_csv_Llama-3.2-1B-Instruct-awq__20250407_185116_r_1.0_p_0.8_k_2.jsonl\n",
      "[WARNING] Skipping bad line in /home/snt/projects_lujun/temperature_eval_github/temperature_eval/data/Additional_Results/new_topkp_sampling/vllm_exp_dataset_csv_Llama-3.2-1B-Instruct-awq__20250407_185116_r_1.0_p_0.8_k_2.jsonl: Unterminated string starting at: line 1 column 606 (char 605)\n"
     ]
    },
    {
     "name": "stderr",
     "output_type": "stream",
     "text": [
      "100%|██████████| 1800/1800 [00:00<00:00, 6765.55it/s]\n",
      "/tmp/ipykernel_3440479/1085042317.py:95: SettingWithCopyWarning: \n",
      "A value is trying to be set on a copy of a slice from a DataFrame.\n",
      "Try using .loc[row_indexer,col_indexer] = value instead\n",
      "\n",
      "See the caveats in the documentation: https://pandas.pydata.org/pandas-docs/stable/user_guide/indexing.html#returning-a-view-versus-a-copy\n",
      "  MT_df[\"MT_accuracy\"] = MT_df.progress_apply(compute_bleu_score, axis=1)\n"
     ]
    },
    {
     "name": "stdout",
     "output_type": "stream",
     "text": [
      "  Saved to: /home/snt/projects_lujun/temperature_eval_github/temperature_eval/data/Additional_Results/new_topkp_sampling/evaluated_Llama-3.3-70B-Instruct_vllm_exp_dataset_csv_Llama-3.2-1B-Instruct-awq__20250407_185116_r_1.0_p_0.8_k_2_MT.jsonl\n",
      "\n",
      "Processing: /home/snt/projects_lujun/temperature_eval_github/temperature_eval/data/Additional_Results/new_topkp_sampling/vllm_exp_dataset_csv_Mixtral-8x7B-Instruct-v0.1-awq__20250412_030025_r_1.0_p_0.9_k_10.jsonl\n",
      "/home/snt/projects_lujun/temperature_eval_github/temperature_eval/data/Additional_Results/new_topkp_sampling/vllm_exp_dataset_csv_Mixtral-8x7B-Instruct-v0.1-awq__20250412_030025_r_1.0_p_0.9_k_10.jsonl\n",
      "[WARNING] Skipping bad line in /home/snt/projects_lujun/temperature_eval_github/temperature_eval/data/Additional_Results/new_topkp_sampling/vllm_exp_dataset_csv_Mixtral-8x7B-Instruct-v0.1-awq__20250412_030025_r_1.0_p_0.9_k_10.jsonl: Invalid \\uXXXX escape: line 1 column 698 (char 697)\n"
     ]
    },
    {
     "name": "stderr",
     "output_type": "stream",
     "text": [
      "100%|██████████| 1930/1930 [00:00<00:00, 3488.32it/s]\n",
      "/tmp/ipykernel_3440479/1085042317.py:95: SettingWithCopyWarning: \n",
      "A value is trying to be set on a copy of a slice from a DataFrame.\n",
      "Try using .loc[row_indexer,col_indexer] = value instead\n",
      "\n",
      "See the caveats in the documentation: https://pandas.pydata.org/pandas-docs/stable/user_guide/indexing.html#returning-a-view-versus-a-copy\n",
      "  MT_df[\"MT_accuracy\"] = MT_df.progress_apply(compute_bleu_score, axis=1)\n"
     ]
    },
    {
     "name": "stdout",
     "output_type": "stream",
     "text": [
      "  Saved to: /home/snt/projects_lujun/temperature_eval_github/temperature_eval/data/Additional_Results/new_topkp_sampling/evaluated_Llama-3.3-70B-Instruct_vllm_exp_dataset_csv_Mixtral-8x7B-Instruct-v0.1-awq__20250412_030025_r_1.0_p_0.9_k_10_MT.jsonl\n",
      "\n",
      "Processing: /home/snt/projects_lujun/temperature_eval_github/temperature_eval/data/Additional_Results/new_topkp_sampling/vllm_exp_dataset_csv_Llama-3.2-1B-Instruct-awq__20250408_151011_r_0.0_p_1.0_k_10.jsonl\n",
      "/home/snt/projects_lujun/temperature_eval_github/temperature_eval/data/Additional_Results/new_topkp_sampling/vllm_exp_dataset_csv_Llama-3.2-1B-Instruct-awq__20250408_151011_r_0.0_p_1.0_k_10.jsonl\n",
      "[WARNING] Skipping bad line in /home/snt/projects_lujun/temperature_eval_github/temperature_eval/data/Additional_Results/new_topkp_sampling/vllm_exp_dataset_csv_Llama-3.2-1B-Instruct-awq__20250408_151011_r_0.0_p_1.0_k_10.jsonl: Unterminated string starting at: line 1 column 10 (char 9)\n"
     ]
    },
    {
     "name": "stderr",
     "output_type": "stream",
     "text": [
      "100%|██████████| 1800/1800 [00:00<00:00, 4700.78it/s]\n",
      "/tmp/ipykernel_3440479/1085042317.py:95: SettingWithCopyWarning: \n",
      "A value is trying to be set on a copy of a slice from a DataFrame.\n",
      "Try using .loc[row_indexer,col_indexer] = value instead\n",
      "\n",
      "See the caveats in the documentation: https://pandas.pydata.org/pandas-docs/stable/user_guide/indexing.html#returning-a-view-versus-a-copy\n",
      "  MT_df[\"MT_accuracy\"] = MT_df.progress_apply(compute_bleu_score, axis=1)\n"
     ]
    },
    {
     "name": "stdout",
     "output_type": "stream",
     "text": [
      "  Saved to: /home/snt/projects_lujun/temperature_eval_github/temperature_eval/data/Additional_Results/new_topkp_sampling/evaluated_Llama-3.3-70B-Instruct_vllm_exp_dataset_csv_Llama-3.2-1B-Instruct-awq__20250408_151011_r_0.0_p_1.0_k_10_MT.jsonl\n",
      "\n",
      "Processing: /home/snt/projects_lujun/temperature_eval_github/temperature_eval/data/Additional_Results/new_topkp_sampling/vllm_exp_dataset_csv_Llama-3.1-8B-Instruct-awq__20250407_200422_r_1.0_p_0.8_k_2.jsonl\n",
      "/home/snt/projects_lujun/temperature_eval_github/temperature_eval/data/Additional_Results/new_topkp_sampling/vllm_exp_dataset_csv_Llama-3.1-8B-Instruct-awq__20250407_200422_r_1.0_p_0.8_k_2.jsonl\n",
      "[WARNING] Skipping bad line in /home/snt/projects_lujun/temperature_eval_github/temperature_eval/data/Additional_Results/new_topkp_sampling/vllm_exp_dataset_csv_Llama-3.1-8B-Instruct-awq__20250407_200422_r_1.0_p_0.8_k_2.jsonl: Unterminated string starting at: line 1 column 10 (char 9)\n"
     ]
    },
    {
     "name": "stderr",
     "output_type": "stream",
     "text": [
      "100%|██████████| 2100/2100 [00:00<00:00, 5108.22it/s]\n",
      "/tmp/ipykernel_3440479/1085042317.py:95: SettingWithCopyWarning: \n",
      "A value is trying to be set on a copy of a slice from a DataFrame.\n",
      "Try using .loc[row_indexer,col_indexer] = value instead\n",
      "\n",
      "See the caveats in the documentation: https://pandas.pydata.org/pandas-docs/stable/user_guide/indexing.html#returning-a-view-versus-a-copy\n",
      "  MT_df[\"MT_accuracy\"] = MT_df.progress_apply(compute_bleu_score, axis=1)\n"
     ]
    },
    {
     "name": "stdout",
     "output_type": "stream",
     "text": [
      "  Saved to: /home/snt/projects_lujun/temperature_eval_github/temperature_eval/data/Additional_Results/new_topkp_sampling/evaluated_Llama-3.3-70B-Instruct_vllm_exp_dataset_csv_Llama-3.1-8B-Instruct-awq__20250407_200422_r_1.0_p_0.8_k_2_MT.jsonl\n",
      "\n",
      "Processing: /home/snt/projects_lujun/temperature_eval_github/temperature_eval/data/Additional_Results/new_topkp_sampling/vllm_exp_dataset_csv_Llama-3.1-8B-Instruct-awq__20250408_000458_r_0.0_p_0.9_k_2.jsonl\n",
      "/home/snt/projects_lujun/temperature_eval_github/temperature_eval/data/Additional_Results/new_topkp_sampling/vllm_exp_dataset_csv_Llama-3.1-8B-Instruct-awq__20250408_000458_r_0.0_p_0.9_k_2.jsonl\n",
      "[WARNING] Skipping bad line in /home/snt/projects_lujun/temperature_eval_github/temperature_eval/data/Additional_Results/new_topkp_sampling/vllm_exp_dataset_csv_Llama-3.1-8B-Instruct-awq__20250408_000458_r_0.0_p_0.9_k_2.jsonl: Unterminated string starting at: line 1 column 10 (char 9)\n"
     ]
    },
    {
     "name": "stderr",
     "output_type": "stream",
     "text": [
      "100%|██████████| 1800/1800 [00:00<00:00, 5367.27it/s]\n",
      "/tmp/ipykernel_3440479/1085042317.py:95: SettingWithCopyWarning: \n",
      "A value is trying to be set on a copy of a slice from a DataFrame.\n",
      "Try using .loc[row_indexer,col_indexer] = value instead\n",
      "\n",
      "See the caveats in the documentation: https://pandas.pydata.org/pandas-docs/stable/user_guide/indexing.html#returning-a-view-versus-a-copy\n",
      "  MT_df[\"MT_accuracy\"] = MT_df.progress_apply(compute_bleu_score, axis=1)\n"
     ]
    },
    {
     "name": "stdout",
     "output_type": "stream",
     "text": [
      "  Saved to: /home/snt/projects_lujun/temperature_eval_github/temperature_eval/data/Additional_Results/new_topkp_sampling/evaluated_Llama-3.3-70B-Instruct_vllm_exp_dataset_csv_Llama-3.1-8B-Instruct-awq__20250408_000458_r_0.0_p_0.9_k_2_MT.jsonl\n",
      "\n",
      "Processing: /home/snt/projects_lujun/temperature_eval_github/temperature_eval/data/Additional_Results/new_topkp_sampling/vllm_exp_dataset_csv_Llama-3.2-1B-Instruct-awq__20250408_105639_r_1.0_p_0.8_k_10.jsonl\n",
      "/home/snt/projects_lujun/temperature_eval_github/temperature_eval/data/Additional_Results/new_topkp_sampling/vllm_exp_dataset_csv_Llama-3.2-1B-Instruct-awq__20250408_105639_r_1.0_p_0.8_k_10.jsonl\n",
      "[WARNING] Skipping bad line in /home/snt/projects_lujun/temperature_eval_github/temperature_eval/data/Additional_Results/new_topkp_sampling/vllm_exp_dataset_csv_Llama-3.2-1B-Instruct-awq__20250408_105639_r_1.0_p_0.8_k_10.jsonl: Unterminated string starting at: line 1 column 5082 (char 5081)\n"
     ]
    },
    {
     "name": "stderr",
     "output_type": "stream",
     "text": [
      "100%|██████████| 2100/2100 [00:00<00:00, 6355.30it/s]\n",
      "/tmp/ipykernel_3440479/1085042317.py:95: SettingWithCopyWarning: \n",
      "A value is trying to be set on a copy of a slice from a DataFrame.\n",
      "Try using .loc[row_indexer,col_indexer] = value instead\n",
      "\n",
      "See the caveats in the documentation: https://pandas.pydata.org/pandas-docs/stable/user_guide/indexing.html#returning-a-view-versus-a-copy\n",
      "  MT_df[\"MT_accuracy\"] = MT_df.progress_apply(compute_bleu_score, axis=1)\n"
     ]
    },
    {
     "name": "stdout",
     "output_type": "stream",
     "text": [
      "  Saved to: /home/snt/projects_lujun/temperature_eval_github/temperature_eval/data/Additional_Results/new_topkp_sampling/evaluated_Llama-3.3-70B-Instruct_vllm_exp_dataset_csv_Llama-3.2-1B-Instruct-awq__20250408_105639_r_1.0_p_0.8_k_10_MT.jsonl\n",
      "\n",
      "Processing: /home/snt/projects_lujun/temperature_eval_github/temperature_eval/data/Additional_Results/new_topkp_sampling/vllm_exp_dataset_csv_Llama-3.1-8B-Instruct-awq__20250409_175852_r_2.0_p_0.9_k_10.jsonl\n",
      "/home/snt/projects_lujun/temperature_eval_github/temperature_eval/data/Additional_Results/new_topkp_sampling/vllm_exp_dataset_csv_Llama-3.1-8B-Instruct-awq__20250409_175852_r_2.0_p_0.9_k_10.jsonl\n",
      "[WARNING] Skipping bad line in /home/snt/projects_lujun/temperature_eval_github/temperature_eval/data/Additional_Results/new_topkp_sampling/vllm_exp_dataset_csv_Llama-3.1-8B-Instruct-awq__20250409_175852_r_2.0_p_0.9_k_10.jsonl: Unterminated string starting at: line 1 column 764 (char 763)\n"
     ]
    },
    {
     "name": "stderr",
     "output_type": "stream",
     "text": [
      "100%|██████████| 1800/1800 [00:00<00:00, 4495.94it/s]\n",
      "/tmp/ipykernel_3440479/1085042317.py:95: SettingWithCopyWarning: \n",
      "A value is trying to be set on a copy of a slice from a DataFrame.\n",
      "Try using .loc[row_indexer,col_indexer] = value instead\n",
      "\n",
      "See the caveats in the documentation: https://pandas.pydata.org/pandas-docs/stable/user_guide/indexing.html#returning-a-view-versus-a-copy\n",
      "  MT_df[\"MT_accuracy\"] = MT_df.progress_apply(compute_bleu_score, axis=1)\n"
     ]
    },
    {
     "name": "stdout",
     "output_type": "stream",
     "text": [
      "  Saved to: /home/snt/projects_lujun/temperature_eval_github/temperature_eval/data/Additional_Results/new_topkp_sampling/evaluated_Llama-3.3-70B-Instruct_vllm_exp_dataset_csv_Llama-3.1-8B-Instruct-awq__20250409_175852_r_2.0_p_0.9_k_10_MT.jsonl\n",
      "\n",
      "Processing: /home/snt/projects_lujun/temperature_eval_github/temperature_eval/data/Additional_Results/new_topkp_sampling/vllm_exp_dataset_csv_Llama-3.2-1B-Instruct-awq__20250408_043304_r_0.0_p_0.9_k_5.jsonl\n",
      "/home/snt/projects_lujun/temperature_eval_github/temperature_eval/data/Additional_Results/new_topkp_sampling/vllm_exp_dataset_csv_Llama-3.2-1B-Instruct-awq__20250408_043304_r_0.0_p_0.9_k_5.jsonl\n",
      "[WARNING] Skipping bad line in /home/snt/projects_lujun/temperature_eval_github/temperature_eval/data/Additional_Results/new_topkp_sampling/vllm_exp_dataset_csv_Llama-3.2-1B-Instruct-awq__20250408_043304_r_0.0_p_0.9_k_5.jsonl: Unterminated string starting at: line 1 column 10 (char 9)\n"
     ]
    },
    {
     "name": "stderr",
     "output_type": "stream",
     "text": [
      "100%|██████████| 1800/1800 [00:00<00:00, 5187.93it/s]"
     ]
    },
    {
     "name": "stdout",
     "output_type": "stream",
     "text": [
      "  Saved to: /home/snt/projects_lujun/temperature_eval_github/temperature_eval/data/Additional_Results/new_topkp_sampling/evaluated_Llama-3.3-70B-Instruct_vllm_exp_dataset_csv_Llama-3.2-1B-Instruct-awq__20250408_043304_r_0.0_p_0.9_k_5_MT.jsonl\n"
     ]
    },
    {
     "name": "stderr",
     "output_type": "stream",
     "text": [
      "\n",
      "/tmp/ipykernel_3440479/1085042317.py:95: SettingWithCopyWarning: \n",
      "A value is trying to be set on a copy of a slice from a DataFrame.\n",
      "Try using .loc[row_indexer,col_indexer] = value instead\n",
      "\n",
      "See the caveats in the documentation: https://pandas.pydata.org/pandas-docs/stable/user_guide/indexing.html#returning-a-view-versus-a-copy\n",
      "  MT_df[\"MT_accuracy\"] = MT_df.progress_apply(compute_bleu_score, axis=1)\n"
     ]
    }
   ],
   "source": [
    "import os\n",
    "import glob\n",
    "import pandas as pd\n",
    "from tqdm import tqdm\n",
    "from sacrebleu.metrics import BLEU\n",
    "import json\n",
    "\n",
    "\n",
    "def match_model_name(filename):\n",
    "    if \"Qwen2.5-1.5B-Instruct\" in filename:\n",
    "        model_name = \"Qwen2.5-1.5B-Instruct\"\n",
    "    elif \"Phi-3.5-mini-instruct\" in filename:\n",
    "        model_name = \"Phi-3.5-mini-instruct\"\n",
    "    elif \"Llama-3.2-3B-Instruct\" in filename:\n",
    "        model_name = \"Llama-3.2-3B-Instruct\"\n",
    "    elif \"Qwen2.5-3B-Instruct\" in filename:\n",
    "        model_name = \"Qwen2.5-3B-Instruct\"\n",
    "    elif \"Llama-3.2-1B-Instruct\" in filename:\n",
    "        model_name = \"Llama-3.2-1B-Instruct\"\n",
    "    elif \"Llama-2-7b-chat-hf\" in filename:\n",
    "        model_name = \"Llama-2-7b-chat-hf\"\n",
    "    elif \"Llama-2-13b-chat-hf\" in filename:\n",
    "        model_name = \"Llama-2-13b-chat-hf\"\n",
    "    elif \"Llama-2-70b-chat-hf\" in filename:\n",
    "        model_name = \"Llama-2-70b-chat-hf\"\n",
    "    elif \"Meta-Llama-3-8B-Instruct\" in filename:\n",
    "        model_name = \"Meta-Llama-3-8B-Instruct\"\n",
    "    elif \"Meta-Llama-3-70B-Instruct\" in filename:\n",
    "        model_name = \"Meta-Llama-3-70B-Instruct\"\n",
    "    elif \"Mistral-7B-Instruct-v0.2\" in filename:\n",
    "        model_name = \"Mistral-7B-Instruct-v0.2\"\n",
    "    elif \"Mixtral-8x7B-Instruct-v0.1\" in filename:\n",
    "        model_name = \"Mixtral-8x7B-Instruct-v0.1\"\n",
    "    elif \"DeepSeek-R1-Distill-Llama-70B\" in filename:\n",
    "        model_name = \"DeepSeek-R1-Distill-Llama-70B\"\n",
    "    elif \"DeepSeek-R1-Distill-Qwen-1.5B\" in filename:\n",
    "        model_name = \"DeepSeek-R1-Distill-Qwen-1.5B\"\n",
    "    elif \"Llama-3.1-8B-Instruct\" in filename:\n",
    "        model_name = \"Llama-3.1-8B-Instruct\"\n",
    "    else:\n",
    "        raise ValueError(f\"Unknown model name in filename: {filename}\")\n",
    "    return model_name\n",
    "\n",
    "\n",
    "def compute_bleu_score(row):\n",
    "    generated_response = row[\"generate_response\"]\n",
    "    reference_answer = row[\"target\"]\n",
    "\n",
    "    if not generated_response:  # Handles \"\", None, etc.\n",
    "        return 0.0\n",
    "\n",
    "    score = bleu.sentence_score(\n",
    "        hypothesis=generated_response, references=[reference_answer]\n",
    "    ).score\n",
    "    return score\n",
    "\n",
    "\n",
    "# Setup\n",
    "input_root_folder = \"/home/snt/projects_lujun/temperature_eval_github/temperature_eval/data/Additional_Results/new_topkp_sampling\"\n",
    "evaluator_model_name = \"Llama-3.3-70B-Instruct\"\n",
    "output_folder = input_root_folder\n",
    "bleu = BLEU(tokenize=\"flores101\", effective_order=True)\n",
    "tqdm.pandas()\n",
    "\n",
    "# ✅ Find all .jsonl files directly inside the folder\n",
    "jsonl_files = glob.glob(os.path.join(input_root_folder, \"*.jsonl\"))\n",
    "\n",
    "print(f\"Found {len(jsonl_files)} .jsonl files in {input_root_folder}\")\n",
    "\n",
    "# Process each .jsonl file\n",
    "for file_path in jsonl_files:\n",
    "    try:\n",
    "        print(f\"\\nProcessing: {file_path}\")\n",
    "        with open(file_path, \"r\") as file:\n",
    "            print(file_path)\n",
    "            records = []\n",
    "            for line in file:\n",
    "                line = line.strip()\n",
    "                if not line:\n",
    "                    continue\n",
    "                try:\n",
    "                    record = json.loads(line)\n",
    "                    records.append(record)\n",
    "                except json.JSONDecodeError as e:\n",
    "                    print(f\"[WARNING] Skipping bad line in {file_path}: {e}\")\n",
    "            df = pd.DataFrame(records)\n",
    "\n",
    "            df[\"model_name\"] = match_model_name(file_path)\n",
    "\n",
    "        MT_df = df[df[\"category\"] == \"MT\"]\n",
    "        if MT_df.empty:\n",
    "            print(f\"  No 'MT' entries in {file_path}. Skipping.\")\n",
    "            continue\n",
    "\n",
    "        MT_df[\"MT_accuracy\"] = MT_df.progress_apply(compute_bleu_score, axis=1)\n",
    "\n",
    "        model_name = os.path.splitext(os.path.basename(file_path))[0]\n",
    "        output_prefix = f\"evaluated_{evaluator_model_name}_{model_name}\"\n",
    "        output_path = os.path.join(output_folder, f\"{output_prefix}_MT.jsonl\")\n",
    "\n",
    "        MT_df.to_json(output_path, lines=True, orient=\"records\")\n",
    "        print(f\"  Saved to: {output_path}\")\n",
    "\n",
    "    except Exception as e:\n",
    "        print(f\"  Error processing {file_path}: {e}\")"
   ]
  },
  {
   "cell_type": "code",
   "execution_count": null,
   "id": "2cb9e393",
   "metadata": {},
   "outputs": [],
   "source": []
  }
 ],
 "metadata": {
  "kernelspec": {
   "display_name": "vllm_env_lujun",
   "language": "python",
   "name": "python3"
  },
  "language_info": {
   "codemirror_mode": {
    "name": "ipython",
    "version": 3
   },
   "file_extension": ".py",
   "mimetype": "text/x-python",
   "name": "python",
   "nbconvert_exporter": "python",
   "pygments_lexer": "ipython3",
   "version": "3.11.10"
  }
 },
 "nbformat": 4,
 "nbformat_minor": 5
}
