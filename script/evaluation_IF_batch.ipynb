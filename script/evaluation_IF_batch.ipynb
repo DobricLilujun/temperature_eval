{
 "cells": [
  {
   "cell_type": "markdown",
   "metadata": {},
   "source": [
    "# IF evluation beased on Inforbench"
   ]
  },
  {
   "cell_type": "code",
   "execution_count": 1,
   "metadata": {},
   "outputs": [],
   "source": [
    "import pandas as pd\n",
    "import time\n",
    "from openai import OpenAI\n",
    "from tqdm import tqdm\n",
    "import os\n",
    "\n",
    "# Read data using\n",
    "SYS_MSG = \"Based on the provided Input (if any) and Generated Text, answer the ensuing Questions with either a YES or NO choice. Your selection should be based on your judgment as well as the following rules:\\n\\n- YES: Select 'YES' if the generated text entirely fulfills the condition specified in the question. However, note that even minor inaccuracies exclude the text from receiving a 'YES' rating. As an illustration. consider a question that asks. \\\"Does each sentence in the generated text use a second person?” If even one sentence does not use the second person, the answer should NOT be 'YES'. To qualify for a 'YES' rating, the generated text must be entirely accurate and relevant to the question\\n\\n- NO: Opt for 'NO' if the generated text fails to meet the question's requirements or provides no information that could be utilized to answer the question. For instance, if the question asks. \\\"Is the second sentence in the generated text a compound sentence?\\\" and the generated text only has one sentence. it offers no relevant information to answer the question. Consequently, the answer should be 'NO'.'''\"\n",
    "\n",
    "foler_path = \"Paper Experiment Results/New_filtered/IF\"\n",
    "file_name = \"exp_result_Llama-2-70b-chat-hf_20240503111010.csv\"\n",
    "output_file_name = file_name.replace(\".csv\", \"_evaluated.csv\")\n",
    "input_path = os.path.join(foler_path, file_name)\n",
    "output_path = os.path.join(foler_path, output_file_name)\n",
    "_data = pd.read_csv(input_path)\n",
    "eval_model = \"gpt-3.5-turbo-0125\"\n",
    "api_key = os.getenv(\"OPENAI_API_KEY\")\n",
    "client = OpenAI(api_key=api_key)\n",
    "temperature = 0"
   ]
  },
  {
   "cell_type": "code",
   "execution_count": 2,
   "metadata": {},
   "outputs": [],
   "source": [
    "def extract_final_response(response, prompt):\n",
    "    return response[len(prompt) :]\n",
    "\n",
    "\n",
    "def match_prompt_column(model):\n",
    "    if \"Llama-2\" in model:\n",
    "        return \"llama2_chat_initial_prompt\"\n",
    "    elif \"Mixtral\" in model or \"Mistral\" in model:\n",
    "        return \"mixtral_instruct_initial_prompt\"\n",
    "    elif \"Llama-3\" in model:\n",
    "        return \"llama3_chat_initial_prompt\"\n",
    "    else:\n",
    "        print(\"The model name didn't match anything, please check!!!!\")\n",
    "        return None\n",
    "\n",
    "\n",
    "def extract_pure_response(row):\n",
    "    model = row[\"model\"]\n",
    "    prompt_column = match_prompt_column(model)\n",
    "    response = row[\"generated_response\"]\n",
    "    prompt = row[prompt_column]\n",
    "    return extract_final_response(response=response, prompt=prompt)\n",
    "\n",
    "\n",
    "def process_string(input_string):\n",
    "    processed_string = input_string.strip(\"[]\").replace(\"\\\\\", \"\")\n",
    "    questions = processed_string.split(\"\\n\")\n",
    "    questions = [q.strip(\"'\") for q in questions]\n",
    "    return questions\n",
    "\n",
    "\n",
    "_data[\"pure_response\"] = _data.apply(extract_pure_response, axis=1)"
   ]
  },
  {
   "cell_type": "code",
   "execution_count": 4,
   "metadata": {},
   "outputs": [],
   "source": [
    "data_evaluated = pd.read_csv(output_path)"
   ]
  },
  {
   "cell_type": "code",
   "execution_count": 5,
   "metadata": {},
   "outputs": [
    {
     "name": "stderr",
     "output_type": "stream",
     "text": [
      " 11%|█         | 379/3500 [23:43<57:18:10, 66.10s/it]"
     ]
    },
    {
     "name": "stdout",
     "output_type": "stream",
     "text": [
      "ERROR!\n",
      "Error code: 429 - {'error': {'message': 'Rate limit reached for gpt-3.5-turbo-0125 in organization org-EkHurOnEZ1eqBIvuxr1REXMk on requests per day (RPD): Limit 10000, Used 10000, Requested 1. Please try again in 8.64s. Visit https://platform.openai.com/account/rate-limits to learn more.', 'type': 'requests', 'param': None, 'code': 'rate_limit_exceeded'}}\n",
      "Retry!\n"
     ]
    },
    {
     "name": "stderr",
     "output_type": "stream",
     "text": [
      " 12%|█▏        | 416/3500 [55:30<45:08:40, 52.70s/it]"
     ]
    },
    {
     "name": "stdout",
     "output_type": "stream",
     "text": [
      "Based on the provided Input (if any) and Generated Text, answer the ensuing Questions with either a YES or NO choice. Your selection should be based on your judgment as well as the following rules:\n",
      "\n",
      "- YES: Select 'YES' if the generated text entirely fulfills the condition specified in the question. However, note that even minor inaccuracies exclude the text from receiving a 'YES' rating. As an illustration. consider a question that asks. \"Does each sentence in the generated text use a second person?” If even one sentence does not use the second person, the answer should NOT be 'YES'. To qualify for a 'YES' rating, the generated text must be entirely accurate and relevant to the question\n",
      "\n",
      "- NO: Opt for 'NO' if the generated text fails to meet the question's requirements or provides no information that could be utilized to answer the question. For instance, if the question asks. \"Is the second sentence in the generated text a compound sentence?\" and the generated text only has one sentence. it offers no relevant information to answer the question. Consequently, the answer should be 'NO'.'''\n",
      "\n",
      "Input:\n",
      "\"nan\"\n",
      "\n",
      "Generated Text:\n",
      "\"Sodium Chloride (Table Salt) Chemical Safety Data Sheet\n",
      "\n",
      "Physical and Chemical Properties:\n",
      "\n",
      "* Appearance: white, crystalline solid\n",
      "* Odor: none\n",
      "* Texture: rough, granular\n",
      "\n",
      "Potential Hazards:\n",
      "\n",
      "* Eye irritant\n",
      "* Skin irritant\n",
      "* Respiratory irritant\n",
      "* Harmful if ingested in large quantities\n",
      "* Can cause burns or skin damage if exposed to high concentrations or for extended periods\n",
      "\n",
      "Handling and Storage Procedures:\n",
      "\n",
      "* Store in a well-ventilated area, away from heat sources and flammable materials\n",
      "* Keep container tightly sealed when not in use\n",
      "* Avoid breathing dust or fumes\n",
      "* Wear protective clothing, including gloves and safety glasses, when handling large quantities or for extended periods\n",
      "* Dispose of properly and recycle if possible\n",
      "\n",
      "First-Aid Measures:\n",
      "\n",
      "* Eye exposure: Flush eyes with water for at least 15 minutes, seek medical attention if irritation persists\n",
      "* Skin exposure: Wash affected area with\"\n",
      "\n",
      "Question:\n",
      "Is the generated text structured as a chemical safety data sheet for sodium chloride (table salt)?\n",
      "\n",
      "YES\n",
      " 'Does the generated text include a section on physical and chemical properties that describes the physical properties of sodium chloride?\n",
      "\n",
      "YES\n",
      " 'In the description of the physical properties of sodium chloride, are exactly three adjectives used?\n",
      "\n",
      "NO\n",
      " 'Does the generated text include a section on the potential hazards of sodium chloride?\n",
      "\n",
      "YES\n",
      " 'Does the generated text include a section on handling and storage procedures for sodium chloride?\n",
      "\n",
      "YES\n",
      " 'Does the generated text include a section on first-aid measures?\n",
      "\n",
      "YES\n",
      " 'Is all the information provided in the generated text factual and accurate according to known chemical safety data on sodium chloride?\n",
      "\n",
      "I cannot provide a definitive answer as I do not have access to external sources to verify the accuracy of the information provided in the generated text.\n",
      "NO YES or NO answer!I cannot provide a definitive answer as I do not have access to external sources to verify the accuracy of the information provided in the generated text.\n"
     ]
    },
    {
     "name": "stderr",
     "output_type": "stream",
     "text": [
      " 15%|█▍        | 519/3500 [2:30:16<18:32:40, 22.40s/it]"
     ]
    },
    {
     "name": "stdout",
     "output_type": "stream",
     "text": [
      "ERROR!\n",
      "Connection error.\n",
      "Retry!\n",
      "ERROR!\n",
      "Connection error.\n",
      "Retry!\n",
      "ERROR!\n",
      "Connection error.\n",
      "Retry!\n"
     ]
    },
    {
     "name": "stderr",
     "output_type": "stream",
     "text": [
      " 15%|█▌        | 526/3500 [2:33:35<8:15:37, 10.00s/it] "
     ]
    },
    {
     "name": "stdout",
     "output_type": "stream",
     "text": [
      "ERROR!\n",
      "Connection error.\n",
      "Retry!\n"
     ]
    },
    {
     "name": "stderr",
     "output_type": "stream",
     "text": [
      "919it [6:23:08, 25.02s/it][6:22:28<46:57:49, 65.51s/it]    \n"
     ]
    },
    {
     "name": "stdout",
     "output_type": "stream",
     "text": [
      "Unexpected exception formatting exception. Falling back to standard exception\n"
     ]
    },
    {
     "name": "stderr",
     "output_type": "stream",
     "text": [
      "Traceback (most recent call last):\n",
      "  File \"/home/lujun/anaconda3/envs/causalLLM/lib/python3.9/site-packages/openai/_base_client.py\", line 959, in _request\n",
      "  File \"/home/lujun/anaconda3/envs/causalLLM/lib/python3.9/site-packages/httpx/_models.py\", line 758, in raise_for_status\n",
      "    raise HTTPStatusError(message, request=request, response=self)\n",
      "httpx.HTTPStatusError: Client error '429 Too Many Requests' for url 'https://api.openai.com/v1/chat/completions'\n",
      "For more information check: https://developer.mozilla.org/en-US/docs/Web/HTTP/Status/429\n",
      "\n",
      "During handling of the above exception, another exception occurred:\n",
      "\n",
      "Traceback (most recent call last):\n",
      "  File \"/home/lujun/anaconda3/envs/causalLLM/lib/python3.9/site-packages/IPython/core/interactiveshell.py\", line 3548, in run_code\n",
      "    exec(code_obj, self.user_global_ns, self.user_ns)\n",
      "  File \"/tmp/ipykernel_82927/2366533250.py\", line 30, in <module>\n",
      "    completion = client.chat.completions.create(\n",
      "  File \"/home/lujun/anaconda3/envs/causalLLM/lib/python3.9/site-packages/openai/_utils/_utils.py\", line 275, in wrapper\n",
      "    msg = f\"Missing required argument: {quote(missing[0])}\"\n",
      "  File \"/home/lujun/anaconda3/envs/causalLLM/lib/python3.9/site-packages/openai/resources/chat/completions.py\", line 663, in create\n",
      "    extra_headers: Headers | None = None,\n",
      "  File \"/home/lujun/anaconda3/envs/causalLLM/lib/python3.9/site-packages/openai/_base_client.py\", line 1200, in post\n",
      "    self,\n",
      "  File \"/home/lujun/anaconda3/envs/causalLLM/lib/python3.9/site-packages/openai/_base_client.py\", line 889, in request\n",
      "    @overload\n",
      "  File \"/home/lujun/anaconda3/envs/causalLLM/lib/python3.9/site-packages/openai/_base_client.py\", line 965, in _request\n",
      "    stream=stream,\n",
      "  File \"/home/lujun/anaconda3/envs/causalLLM/lib/python3.9/site-packages/openai/_base_client.py\", line 1011, in _retry_request\n",
      "    stream_cls=stream_cls,\n",
      "KeyboardInterrupt\n",
      "\n",
      "During handling of the above exception, another exception occurred:\n",
      "\n",
      "Traceback (most recent call last):\n",
      "  File \"/home/lujun/anaconda3/envs/causalLLM/lib/python3.9/site-packages/IPython/core/interactiveshell.py\", line 2142, in showtraceback\n",
      "    stb = self.InteractiveTB.structured_traceback(\n",
      "  File \"/home/lujun/anaconda3/envs/causalLLM/lib/python3.9/site-packages/IPython/core/ultratb.py\", line 1435, in structured_traceback\n",
      "    return FormattedTB.structured_traceback(\n",
      "  File \"/home/lujun/anaconda3/envs/causalLLM/lib/python3.9/site-packages/IPython/core/ultratb.py\", line 1326, in structured_traceback\n",
      "    return VerboseTB.structured_traceback(\n",
      "  File \"/home/lujun/anaconda3/envs/causalLLM/lib/python3.9/site-packages/IPython/core/ultratb.py\", line 1192, in structured_traceback\n",
      "    formatted_exceptions += self.format_exception_as_a_whole(etype, evalue, etb, lines_of_context,\n",
      "  File \"/home/lujun/anaconda3/envs/causalLLM/lib/python3.9/site-packages/IPython/core/ultratb.py\", line 1088, in format_exception_as_a_whole\n",
      "    frames.append(self.format_record(record))\n",
      "  File \"/home/lujun/anaconda3/envs/causalLLM/lib/python3.9/site-packages/IPython/core/ultratb.py\", line 970, in format_record\n",
      "    frame_info.lines, Colors, self.has_colors, lvals\n",
      "  File \"/home/lujun/anaconda3/envs/causalLLM/lib/python3.9/site-packages/IPython/core/ultratb.py\", line 792, in lines\n",
      "    return self._sd.lines\n",
      "  File \"/home/lujun/anaconda3/envs/causalLLM/lib/python3.9/site-packages/stack_data/utils.py\", line 144, in cached_property_wrapper\n",
      "    value = obj.__dict__[self.func.__name__] = self.func(obj)\n",
      "  File \"/home/lujun/anaconda3/envs/causalLLM/lib/python3.9/site-packages/stack_data/core.py\", line 734, in lines\n",
      "    pieces = self.included_pieces\n",
      "  File \"/home/lujun/anaconda3/envs/causalLLM/lib/python3.9/site-packages/stack_data/utils.py\", line 144, in cached_property_wrapper\n",
      "    value = obj.__dict__[self.func.__name__] = self.func(obj)\n",
      "  File \"/home/lujun/anaconda3/envs/causalLLM/lib/python3.9/site-packages/stack_data/core.py\", line 681, in included_pieces\n",
      "    pos = scope_pieces.index(self.executing_piece)\n",
      "  File \"/home/lujun/anaconda3/envs/causalLLM/lib/python3.9/site-packages/stack_data/utils.py\", line 144, in cached_property_wrapper\n",
      "    value = obj.__dict__[self.func.__name__] = self.func(obj)\n",
      "  File \"/home/lujun/anaconda3/envs/causalLLM/lib/python3.9/site-packages/stack_data/core.py\", line 660, in executing_piece\n",
      "    return only(\n",
      "  File \"/home/lujun/anaconda3/envs/causalLLM/lib/python3.9/site-packages/executing/executing.py\", line 116, in only\n",
      "    raise NotOneValueFound('Expected one value, found 0')\n",
      "executing.executing.NotOneValueFound: Expected one value, found 0\n"
     ]
    }
   ],
   "source": [
    "test_times = 0\n",
    "times = 0\n",
    "pbar = tqdm(total=len(_data))\n",
    "last_idx = data_evaluated.shape[0]\n",
    "for index, entry in tqdm(_data.iterrows()):\n",
    "    if index <= last_idx:\n",
    "        pbar.update(1)\n",
    "        continue\n",
    "    updated_row = entry.copy()\n",
    "    input_task = entry[\"input\"]\n",
    "    output = entry[\"pure_response\"]\n",
    "    if output is None:  # skip if result hasn't been generated\n",
    "        continue\n",
    "    message = []\n",
    "    answer = \"\"\n",
    "    for question in process_string(entry[\"decomposed_questions\"]):\n",
    "        if len(message) == 0:\n",
    "            if input_task:\n",
    "                content = f'{SYS_MSG}\\n\\nInput:\\n\"{input_task}\"\\n\\nGenerated Text:\\n\"{output}\"\\n\\nQuestion:\\n{question}\\n'\n",
    "            else:\n",
    "                content = f'{SYS_MSG}\\n\\nGenerated Text:\\n\"{output}\"\\n\\nQuestion:\\n{question}\\n'\n",
    "        else:\n",
    "            content = f\"{question}\\n\"\n",
    "        message.append({\"role\": \"user\", \"content\": content})\n",
    "        # create a chat completion\n",
    "        success = False\n",
    "        early_stop = False\n",
    "        while not success:\n",
    "            try:\n",
    "                completion = client.chat.completions.create(\n",
    "                    model=eval_model,\n",
    "                    messages=message,\n",
    "                    temperature=temperature,\n",
    "                )\n",
    "                generation = completion.choices[0].message.content\n",
    "                message.append({\"role\": \"assistant\", \"content\": generation})\n",
    "                # check if generation is yes or no\n",
    "                if generation.lower().startswith(\n",
    "                    \"yes\"\n",
    "                ) or generation.lower().startswith(\"no\"):\n",
    "                    if generation.lower().startswith(\"yes\"):\n",
    "                        answer += \"Yes\\n\"\n",
    "                    else:\n",
    "                        answer += \"No\\n\"\n",
    "                else:\n",
    "                    if \"YES\" in generation and \"NO\" not in generation:\n",
    "                        answer += \"Yes\\n\"\n",
    "                    elif \"YES\" not in generation and \"NO\" in generation:\n",
    "                        answer += \"No\\n\"\n",
    "                    else:\n",
    "                        for msg in message:\n",
    "                            print(msg[\"content\"])\n",
    "                        print(\"NO YES or NO answer!\" + generation)\n",
    "                        answer += \"None\\n\"\n",
    "                        early_stop = True\n",
    "                        break\n",
    "                success = True\n",
    "            except Exception as e:\n",
    "                print(\"ERROR!\")\n",
    "                print(e)\n",
    "                print(\"Retry!\")\n",
    "                time.sleep(20)\n",
    "\n",
    "        # when no answer occurs, break the loop and continue to next instance\n",
    "        if early_stop:\n",
    "            break\n",
    "\n",
    "    answer = answer[:-1]\n",
    "    # save eval results as List[bool]\n",
    "    bool_results = []\n",
    "    for i in answer.split(\"\\n\"):\n",
    "        if i == \"Yes\":\n",
    "            bool_results.append(True)\n",
    "        elif i == \"No\":\n",
    "            bool_results.append(False)\n",
    "        else:\n",
    "            bool_results.append(None)\n",
    "\n",
    "    updated_row[\"eval\"] = bool_results\n",
    "    updated_row[\"messages_openai\"] = message\n",
    "    test_times += 1\n",
    "    # if test_times > 5:\n",
    "    #     break\n",
    "    updated_dataframe = pd.DataFrame([updated_row])\n",
    "    pbar.update(1)\n",
    "    if not os.path.exists(output_path):\n",
    "        updated_dataframe.to_csv(output_path, index=False, mode=\"w\", header=True)\n",
    "    else:\n",
    "        updated_dataframe.to_csv(output_path, index=False, mode=\"a\", header=False)\n",
    "    times = times + 1"
   ]
  },
  {
   "cell_type": "code",
   "execution_count": 19,
   "metadata": {},
   "outputs": [],
   "source": [
    "import pandas as pd\n",
    "ERROR!\n",
    "Connection error.\n",
    "Retry!\n",
    " 15%|█▌        | 526/3500 [2:33:35<8:15:37, 10.00s/it] \n",
    "ERROR!\n",
    "Connection error.\n",
    "\n",
    "df = pd.read_csv(\n",
    "    \"/home/lujun/local/temperature_eval/Paper Experiment Results/New_filtered/IF/exp_result_Llama-2-13b-chat-hf_20240503202441_evaluated.csv\"\n",
    ")"
   ]
  },
  {
   "cell_type": "code",
   "execution_count": 25,
   "metadata": {},
   "outputs": [],
   "source": [
    "def count_true_false(string):\n",
    "    string_lower = string.lower()\n",
    "    count_true = string_lower.count(\"true\")\n",
    "    count_false = string_lower.count(\"false\")\n",
    "    return count_true, count_false\n",
    "\n",
    "\n",
    "df[[\"true_count\", \"false_count\"]] = df[\"eval\"].apply(count_true_false).apply(pd.Series)"
   ]
  },
  {
   "cell_type": "code",
   "execution_count": 27,
   "metadata": {},
   "outputs": [],
   "source": [
    "df[\"DRFR\"] = df[\"true_count\"] / (df[\"true_count\"] + df[\"false_count\"])"
   ]
  },
  {
   "cell_type": "code",
   "execution_count": 28,
   "metadata": {},
   "outputs": [
    {
     "data": {
      "image/png": "[encoded data removed]",
      "text/plain": [
       "<Figure size 1000x600 with 1 Axes>"
      ]
     },
     "metadata": {},
     "output_type": "display_data"
    }
   ],
   "source": [
    "import matplotlib.pyplot as plt\n",
    "\n",
    "grouped_data = df.groupby([\"model\", \"Temperature\"])[\"DRFR\"].mean()\n",
    "\n",
    "models = df[\"model\"].unique()\n",
    "\n",
    "plt.figure(figsize=(10, 6))\n",
    "for model in models:\n",
    "    model_data = grouped_data[model]\n",
    "    plt.plot(\n",
    "        model_data.index.get_level_values(\"Temperature\"),\n",
    "        model_data,\n",
    "        marker=\"o\",\n",
    "        label=model,\n",
    "    )\n",
    "\n",
    "plt.xlabel(\"Temperature Scaling\")\n",
    "plt.ylabel(\"Mean Accuracy (CLS)\")\n",
    "plt.title(\"Mean Accuracy (CLS) Variation with Temperature Across Models\\nTREC Dataset\")\n",
    "plt.grid(True)\n",
    "plt.xticks(rotation=45)\n",
    "plt.tight_layout()\n",
    "\n",
    "plt.legend(loc=\"center left\", bbox_to_anchor=(1, 0.8))\n",
    "\n",
    "plt.show()"
   ]
  }
 ],
 "metadata": {
  "kernelspec": {
   "display_name": "causalLLM",
   "language": "python",
   "name": "python3"
  },
  "language_info": {
   "codemirror_mode": {
    "name": "ipython",
    "version": 3
   },
   "file_extension": ".py",
   "mimetype": "text/x-python",
   "name": "python",
   "nbconvert_exporter": "python",
   "pygments_lexer": "ipython3",
   "version": "3.9.18"
  }
 },
 "nbformat": 4,
 "nbformat_minor": 2
}
