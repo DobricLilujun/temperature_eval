{
 "cells": [
  {
   "cell_type": "code",
   "execution_count": 41,
   "metadata": {},
   "outputs": [
    {
     "name": "stderr",
     "output_type": "stream",
     "text": [
      "/home/lujun_li/anaconda3/envs/causalLLM/lib/python3.10/site-packages/gradio/layouts/column.py:55: UserWarning: 'scale' value should be an integer. Using 0.5 will cause issues.\n",
      "  warnings.warn(\n"
     ]
    },
    {
     "name": "stdout",
     "output_type": "stream",
     "text": [
      "* Running on local URL:  http://127.0.0.1:7897\n",
      "\n",
      "To create a public link, set `share=True` in `launch()`.\n"
     ]
    },
    {
     "data": {
      "text/html": [
       "<div><iframe src=\"http://127.0.0.1:7897/\" width=\"100%\" height=\"500\" allow=\"autoplay; camera; microphone; clipboard-read; clipboard-write;\" frameborder=\"0\" allowfullscreen></iframe></div>"
      ],
      "text/plain": [
       "<IPython.core.display.HTML object>"
      ]
     },
     "metadata": {},
     "output_type": "display_data"
    },
    {
     "data": {
      "text/plain": []
     },
     "execution_count": 41,
     "metadata": {},
     "output_type": "execute_result"
    }
   ],
   "source": [
    "import gradio as gr\n",
    "\n",
    "choices = [\n",
    "    \"General-Setting\",\n",
    "    \"Llama-2-7b-chat-hf\",\n",
    "    \"Llama-2-13b-chat-hf\",\n",
    "    \"Llama-2-70b-chat-hf\",\n",
    "    \"Meta-Llama-3-8B-Instruct\",\n",
    "    \"Meta-Llama-3-70B-Instruct\",\n",
    "    \"Mistral-7B-Instruct-v0.2\",\n",
    "    \"Mixtral-8x7B-Instruct-v0.1\",\n",
    "]\n",
    "\n",
    "\n",
    "with gr.Blocks() as demo:\n",
    "\n",
    "    gr.HTML(\n",
    "        \"<div style='text-align: left;'>\"\n",
    "        \"<span style='color: gray; font-size: 25px; font-weight: bold;'>This is the first section where you can input and analyze data.</span><br>\"\n",
    "        \"<span style='color: gray; font-size: 12px;'><small>This section allows you to upload your data, which will be processed and analyzed for insights.</small></span>\"\n",
    "        \"</div>\"\n",
    "    )\n",
    "    with gr.Row():\n",
    "        with gr.Column(scale=0.5):\n",
    "            input_text = gr.Textbox(label=\"Input Text\", elem_id=\"input_text\")\n",
    "            input_file = gr.File(label=\"Input File\", elem_id=\"input_file\")\n",
    "            input_model = gr.Radio(\n",
    "                choices=choices,\n",
    "                label=\"Select Model\",\n",
    "                elem_id=\"input_model\",\n",
    "                value=\"General-Setting\",\n",
    "                interactive=True,\n",
    "            )\n",
    "        with gr.Column(scale=0.5):\n",
    "            file_analysis_output = gr.Textbox(\n",
    "                label=\"File Analysis Output\",\n",
    "                elem_id=\"file_analysis_output\",\n",
    "                interactive=False,\n",
    "            )\n",
    "            cls_label_output = gr.Textbox(\n",
    "                label=\"Class Label Output\",\n",
    "                elem_id=\"cls_label_output\",\n",
    "                interactive=False,\n",
    "            )\n",
    "            best_temperature_output = gr.Textbox(\n",
    "                label=\"Best Temperature Output\",\n",
    "                elem_id=\"best_temperature_output\",\n",
    "                interactive=False,\n",
    "            )\n",
    "    with gr.Row():\n",
    "        with gr.Column(scale=1.0):\n",
    "            input_button = gr.Button(\"Analyze\", elem_id=\"input_button\")\n",
    "\n",
    "    gr.HTML(\n",
    "        \"<div style='text-align: left;'>\"\n",
    "        \"<span style='color: gray; font-size: 25px; font-weight: bold;'>Recommendation section</span><br>\"\n",
    "        \"<span style='color: gray; font-size: 12px;'><small>Give you the best temperature settings according to your input or prompts</small></span>\"\n",
    "        \"</div>\"\n",
    "    )\n",
    "    gr.HTML(\"<hr>\")\n",
    "\n",
    "    with gr.Row():  # 第二行\n",
    "        with gr.Column(scale=1):\n",
    "            input_temperature = gr.Slider(\n",
    "                minimum=0,\n",
    "                maximum=100,\n",
    "                step=1,\n",
    "                label=\"Input Temperature\",\n",
    "                elem_id=\"input_temperature\",\n",
    "            )\n",
    "            input_api = gr.Textbox(label=\"API Key\", elem_id=\"input_api\")\n",
    "            start_experiment = gr.Button(\"Start Experiment\", elem_id=\"start_experiment\")\n",
    "\n",
    "    gr.HTML(\n",
    "        \"<div style='text-align: left;'>\"\n",
    "        \"<span style='color: gray; font-size: 25px; font-weight: bold;'>Outputs</span><br>\"\n",
    "        \"<span style='color: gray; font-size: 12px;'><small>The output files and analysis</small></span>\"\n",
    "        \"</div>\"\n",
    "    )\n",
    "    gr.HTML(\"<hr>\")\n",
    "    with gr.Row():\n",
    "        output_text = gr.Textbox(\n",
    "            label=\"Output Text\", elem_id=\"output_text\", lines=10, interactive=False\n",
    "        )\n",
    "        download_results = gr.Button(\"Download Results\", elem_id=\"download_results\")\n",
    "\n",
    "demo.launch(share=True)"
   ]
  },
  {
   "cell_type": "code",
   "execution_count": null,
   "metadata": {},
   "outputs": [],
   "source": []
  }
 ],
 "metadata": {
  "kernelspec": {
   "display_name": "causalLLM",
   "language": "python",
   "name": "python3"
  },
  "language_info": {
   "codemirror_mode": {
    "name": "ipython",
    "version": 3
   },
   "file_extension": ".py",
   "mimetype": "text/x-python",
   "name": "python",
   "nbconvert_exporter": "python",
   "pygments_lexer": "ipython3",
   "version": "3.10.15"
  }
 },
 "nbformat": 4,
 "nbformat_minor": 2
}
